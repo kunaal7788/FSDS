{
 "cells": [
  {
   "cell_type": "code",
   "execution_count": null,
   "id": "925143ae",
   "metadata": {},
   "outputs": [],
   "source": [
    "1. Write a Python Program to find sum of array?\n"
   ]
  },
  {
   "cell_type": "code",
   "execution_count": 4,
   "id": "2257d74d",
   "metadata": {},
   "outputs": [
    {
     "name": "stdout",
     "output_type": "stream",
     "text": [
      "Enter the elements of the array separated by spaces: 1 2 3 4 5 6\n",
      "Sum of the array: 21\n"
     ]
    }
   ],
   "source": [
    "def array_sum(arr):\n",
    "    return sum(arr)\n",
    "\n",
    "arr = list(map(int, input(\"Enter the elements of the array separated by spaces: \").split()))\n",
    "print(f\"Sum of the array: {array_sum(arr)}\")"
   ]
  },
  {
   "cell_type": "code",
   "execution_count": null,
   "id": "13fe6ff3",
   "metadata": {},
   "outputs": [],
   "source": [
    "2. Write a Python Program to find largest element in an array?\n"
   ]
  },
  {
   "cell_type": "code",
   "execution_count": 7,
   "id": "b847534e",
   "metadata": {},
   "outputs": [
    {
     "name": "stdout",
     "output_type": "stream",
     "text": [
      "Enter elemetns of array seperated by spaces: 1 2 3 4 5 6\n",
      "Largest element is the array :6\n"
     ]
    }
   ],
   "source": [
    "def find_larget(arr):\n",
    "    if not arr:\n",
    "        return None \n",
    "    return max(arr)\n",
    "arr = list(map(int,input(\"Enter elemetns of array seperated by spaces: \").split()))\n",
    "print(f'Largest element is the array :{find_larget(arr)}')"
   ]
  },
  {
   "cell_type": "code",
   "execution_count": null,
   "id": "888337f7",
   "metadata": {},
   "outputs": [],
   "source": [
    "3. Write a Python Program for array rotation?\n"
   ]
  },
  {
   "cell_type": "code",
   "execution_count": 2,
   "id": "fc755177",
   "metadata": {},
   "outputs": [
    {
     "name": "stdout",
     "output_type": "stream",
     "text": [
      "enter the elements of array seperated by spaces:1 2 3\n",
      "Enter the number of positions to rotate the array: 2\n",
      "Array after torating by 2 positions:[2, 3, 1]\n"
     ]
    }
   ],
   "source": [
    " def rotate_array(arr,k):\n",
    "        n =len(arr)\n",
    "        k =k%n \n",
    "        return arr[-k:] + arr[:-k]\n",
    "    \n",
    "arr = list(map(int,input(\"enter the elements of array seperated by spaces:\").split()))\n",
    "k =int(input(\"Enter the number of positions to rotate the array: \"))\n",
    "print(f\"Array after torating by {k} positions:{rotate_array(arr,k)}\")"
   ]
  },
  {
   "cell_type": "code",
   "execution_count": null,
   "id": "f7ab5c37",
   "metadata": {},
   "outputs": [],
   "source": [
    "4. Write a Python Program to Split the array and add the first part to the end?\n"
   ]
  },
  {
   "cell_type": "code",
   "execution_count": 5,
   "id": "7894381f",
   "metadata": {},
   "outputs": [
    {
     "name": "stdout",
     "output_type": "stream",
     "text": [
      "Enter the elements of the array separated by spaces: 1 2 3 4 5 6 7 8 9\n",
      "Enter the position to split the array: 5\n",
      "Array after splitting and adding first part to the end: [6, 7, 8, 9, 1, 2, 3, 4, 5]\n"
     ]
    }
   ],
   "source": [
    "def split_arr (arr,k):\n",
    "    return arr[k:] + arr[:k] \n",
    "arr = list(map(int,input(\"Enter the elements of the array separated by spaces: \").split()))\n",
    "k = int(input(\"Enter the position to split the array: \"))\n",
    "print(f\"Array after splitting and adding first part to the end: {split_arr(arr, k)}\")"
   ]
  },
  {
   "cell_type": "code",
   "execution_count": null,
   "id": "9ed24f84",
   "metadata": {},
   "outputs": [],
   "source": [
    "5. Write a Python Program to check if given array is Monotonic?"
   ]
  },
  {
   "cell_type": "code",
   "execution_count": 8,
   "id": "ad0359a3",
   "metadata": {},
   "outputs": [
    {
     "name": "stdout",
     "output_type": "stream",
     "text": [
      "Enter the elements of the array separated by spaces: 1 2 3 4 5 6 7 8 9\n",
      "Is the array monotonic? True\n"
     ]
    }
   ],
   "source": [
    "def is_monotonic(arr):\n",
    "    if all(arr[i] <= arr[i + 1] for i in range(len(arr) - 1)) or all(arr[i] >= arr[i + 1] for i in range(len(arr) - 1)):\n",
    "        return True\n",
    "    return False\n",
    "\n",
    "\n",
    "arr = list(map(int, input(\"Enter the elements of the array separated by spaces: \").split()))\n",
    "print(f\"Is the array monotonic? {is_monotonic(arr)}\")"
   ]
  },
  {
   "cell_type": "code",
   "execution_count": null,
   "id": "1a9e28cf",
   "metadata": {},
   "outputs": [],
   "source": []
  }
 ],
 "metadata": {
  "kernelspec": {
   "display_name": "Python 3 (ipykernel)",
   "language": "python",
   "name": "python3"
  },
  "language_info": {
   "codemirror_mode": {
    "name": "ipython",
    "version": 3
   },
   "file_extension": ".py",
   "mimetype": "text/x-python",
   "name": "python",
   "nbconvert_exporter": "python",
   "pygments_lexer": "ipython3",
   "version": "3.9.13"
  }
 },
 "nbformat": 4,
 "nbformat_minor": 5
}
