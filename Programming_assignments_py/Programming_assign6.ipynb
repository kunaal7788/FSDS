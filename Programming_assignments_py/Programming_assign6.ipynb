{
 "cells": [
  {
   "cell_type": "code",
   "execution_count": null,
   "id": "f46bd360",
   "metadata": {},
   "outputs": [],
   "source": [
    "1. Write a Python Program to Display Fibonacci Sequence Using Recursion?\n"
   ]
  },
  {
   "cell_type": "code",
   "execution_count": 1,
   "id": "c67da1be",
   "metadata": {},
   "outputs": [
    {
     "name": "stdout",
     "output_type": "stream",
     "text": [
      "Enter a number5\n",
      "First 5 Fibonacci numbers are:  [0, 1, 1, 2, 3]\n"
     ]
    }
   ],
   "source": [
    "def fibonacci(n):\n",
    "    if n<=0:\n",
    "        return[]\n",
    "    elif n==1 :\n",
    "        return[0]\n",
    "    elif n==2 :\n",
    "        return [0,1]\n",
    "    else:\n",
    "        seq = fibonacci(n-1)\n",
    "        seq.append(seq[-1]+seq[-2])\n",
    "        return seq\n",
    "n= int(input(\"Enter a number\"))\n",
    "print(f\"First {n} Fibonacci numbers are: \",fibonacci(n))"
   ]
  },
  {
   "cell_type": "code",
   "execution_count": null,
   "id": "6d0aafc6",
   "metadata": {},
   "outputs": [],
   "source": [
    "2. Write a Python Program to Find Factorial of Number Using Recursion?\n"
   ]
  },
  {
   "cell_type": "code",
   "execution_count": 3,
   "id": "3baf8d01",
   "metadata": {},
   "outputs": [
    {
     "name": "stdout",
     "output_type": "stream",
     "text": [
      "Enter a number: 15\n",
      "Factorial of 15: 1307674368000\n"
     ]
    }
   ],
   "source": [
    "def factorial(n):\n",
    "    if n==0 or n==1:\n",
    "        return 1\n",
    "    else :\n",
    "        return n*factorial(n-1)\n",
    "    \n",
    "n=int(input(\"Enter a number: \"))\n",
    "print(f\"Factorial of {n}:\" , factorial(n))"
   ]
  },
  {
   "cell_type": "code",
   "execution_count": null,
   "id": "91eb2049",
   "metadata": {},
   "outputs": [],
   "source": [
    "3. Write a Python Program to calculate your Body Mass Index?\n"
   ]
  },
  {
   "cell_type": "code",
   "execution_count": 5,
   "id": "feb61aaa",
   "metadata": {},
   "outputs": [
    {
     "name": "stdout",
     "output_type": "stream",
     "text": [
      "Enter Weight: 48\n",
      "Enter Height: 5.3\n",
      "BMI:1.71\n"
     ]
    }
   ],
   "source": [
    "def BMI(weight,height):\n",
    "    bmi =weight/(height **2)\n",
    "    return bmi \n",
    "weight = float(input(\"Enter Weight: \"))\n",
    "height = float(input(\"Enter Height: \"))\n",
    "bmi = BMI(weight,height)\n",
    "print(f\"BMI:{bmi:.2f}\")"
   ]
  },
  {
   "cell_type": "code",
   "execution_count": null,
   "id": "9defd6c6",
   "metadata": {},
   "outputs": [],
   "source": [
    "4. Write a Python Program to calculate the natural logarithm of any number?\n"
   ]
  },
  {
   "cell_type": "code",
   "execution_count": 7,
   "id": "0bf85c17",
   "metadata": {},
   "outputs": [
    {
     "name": "stdout",
     "output_type": "stream",
     "text": [
      "enter a number10\n",
      "Natural logarithm of 10: 2.3026\n"
     ]
    }
   ],
   "source": [
    "import math \n",
    "def calculate_log(x):\n",
    "    return math.log(x)\n",
    "number = int(input(\"enter a number\"))\n",
    "natural_log = calculate_log(number)\n",
    "print (f\"Natural logarithm of {number}: {natural_log:.4f}\")"
   ]
  },
  {
   "cell_type": "code",
   "execution_count": null,
   "id": "8a79510e",
   "metadata": {},
   "outputs": [],
   "source": [
    "5. Write a Python Program for cube sum of first n natural numbers?"
   ]
  },
  {
   "cell_type": "code",
   "execution_count": 5,
   "id": "328577b7",
   "metadata": {},
   "outputs": [
    {
     "name": "stdout",
     "output_type": "stream",
     "text": [
      "Enter a number5\n",
      "Cube sum of first 5 natural numbers: 225\n"
     ]
    }
   ],
   "source": [
    "def cube_sum(n):\n",
    "    return sum(i ** 3 for i in range(1, n + 1))\n",
    "\n",
    "n = int(input(\"Enter a number\"))\n",
    "print(f\"Cube sum of first {n} natural numbers: {cube_sum(n)}\")\n"
   ]
  }
 ],
 "metadata": {
  "kernelspec": {
   "display_name": "Python 3 (ipykernel)",
   "language": "python",
   "name": "python3"
  },
  "language_info": {
   "codemirror_mode": {
    "name": "ipython",
    "version": 3
   },
   "file_extension": ".py",
   "mimetype": "text/x-python",
   "name": "python",
   "nbconvert_exporter": "python",
   "pygments_lexer": "ipython3",
   "version": "3.9.13"
  }
 },
 "nbformat": 4,
 "nbformat_minor": 5
}
