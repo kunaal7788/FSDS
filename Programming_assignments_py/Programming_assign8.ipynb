{
 "cells": [
  {
   "cell_type": "markdown",
   "id": "230632cf",
   "metadata": {},
   "source": [
    "# 1. Write a Python Program to Add Two Matrices?\n"
   ]
  },
  {
   "cell_type": "code",
   "execution_count": 4,
   "id": "7085ea0a",
   "metadata": {},
   "outputs": [
    {
     "name": "stdout",
     "output_type": "stream",
     "text": [
      "Enter the number of rows: 2\n",
      "Enter the number of columns: 2\n",
      "Enter the elements of the first matrix row-wise:\n",
      "1\n",
      "2\n",
      "3\n",
      "4\n",
      "Enter the elements of the second matrix row-wise:\n",
      "5\n",
      "6\n",
      "7\n",
      "8\n",
      "Resultant Matrix after addition:\n",
      "[6, 8]\n",
      "[10, 12]\n"
     ]
    }
   ],
   "source": [
    "def add_matrices(matrix1, matrix2):\n",
    "    result = [[matrix1[i][j] + matrix2[i][j] for j in range(len(matrix1[0]))] for i in range(len(matrix1))]\n",
    "    return result\n",
    "\n",
    "# Taking user input for matrices\n",
    "rows = int(input(\"Enter the number of rows: \"))\n",
    "cols = int(input(\"Enter the number of columns: \"))\n",
    "\n",
    "print(\"Enter the elements of the first matrix row-wise:\")\n",
    "matrix1 = [[int(input()) for j in range(cols)] for i in range(rows)]\n",
    "\n",
    "print(\"Enter the elements of the second matrix row-wise:\")\n",
    "matrix2 = [[int(input()) for j in range(cols)] for i in range(rows)]\n",
    "\n",
    "result = add_matrices(matrix1, matrix2)\n",
    "print(\"Resultant Matrix after addition:\")\n",
    "for row in result:\n",
    "    print(row)\n"
   ]
  },
  {
   "cell_type": "markdown",
   "id": "42c6f575",
   "metadata": {},
   "source": [
    "# 2. Write a Python Program to Multiply Two Matrices?\n"
   ]
  },
  {
   "cell_type": "code",
   "execution_count": 6,
   "id": "f22b7f1d",
   "metadata": {},
   "outputs": [
    {
     "name": "stdout",
     "output_type": "stream",
     "text": [
      "Enter the number of rows for the first matrix: 2\n",
      "Enter the number of columns for the first matrix: 2\n",
      "Enter the elements of the first matrix row-wise:\n",
      "1\n",
      "2\n",
      "3\n",
      "4\n",
      "Enter the number of rows for the second matrix: 2\n",
      "Enter the number of columns for the second matrix: 2\n",
      "Enter the elements of the second matrix row-wise:\n",
      "5\n",
      "6\n",
      "7\n",
      "8\n",
      "Resultant Matrix after multiplication:\n",
      "[19, 22]\n",
      "[43, 50]\n"
     ]
    }
   ],
   "source": [
    "def multiply_matrices(matrix1, matrix2):\n",
    "    result = [[sum(a * b for a, b in zip(matrix1_row, matrix2_col)) for matrix2_col in zip(*matrix2)] for matrix1_row in matrix1]\n",
    "    return result\n",
    "\n",
    "# Taking user input for matrices\n",
    "rows1 = int(input(\"Enter the number of rows for the first matrix: \"))\n",
    "cols1 = int(input(\"Enter the number of columns for the first matrix: \"))\n",
    "\n",
    "print(\"Enter the elements of the first matrix row-wise:\")\n",
    "matrix1 = [[int(input()) for j in range(cols1)] for i in range(rows1)]\n",
    "\n",
    "rows2 = int(input(\"Enter the number of rows for the second matrix: \"))\n",
    "cols2 = int(input(\"Enter the number of columns for the second matrix: \"))\n",
    "\n",
    "if cols1 != rows2:\n",
    "    print(\"Error: Number of columns in the first matrix must be equal to the number of rows in the second matrix\")\n",
    "else:\n",
    "    print(\"Enter the elements of the second matrix row-wise:\")\n",
    "    matrix2 = [[int(input()) for j in range(cols2)] for i in range(rows2)]\n",
    "\n",
    "    result = multiply_matrices(matrix1, matrix2)\n",
    "    print(\"Resultant Matrix after multiplication:\")\n",
    "    for row in result:\n",
    "        print(row)\n"
   ]
  },
  {
   "cell_type": "markdown",
   "id": "ab2e9b40",
   "metadata": {},
   "source": [
    "# 3. Write a Python Program to Transpose a Matrix?\n"
   ]
  },
  {
   "cell_type": "code",
   "execution_count": 7,
   "id": "007d0a19",
   "metadata": {},
   "outputs": [
    {
     "name": "stdout",
     "output_type": "stream",
     "text": [
      "Enter the number of rows: 2\n",
      "Enter the number of columns: 2\n",
      "Enter the elements of the matrix row-wise:\n",
      "1\n",
      "2\n",
      "3\n",
      "4\n",
      "Transposed Matrix:\n",
      "[1, 3]\n",
      "[2, 4]\n"
     ]
    }
   ],
   "source": [
    "def transpose_matrix(matrix):\n",
    "    return [[matrix[j][i] for j in range(len(matrix))] for i in range(len(matrix[0]))]\n",
    "\n",
    "# Taking user input for matrix\n",
    "rows = int(input(\"Enter the number of rows: \"))\n",
    "cols = int(input(\"Enter the number of columns: \"))\n",
    "\n",
    "print(\"Enter the elements of the matrix row-wise:\")\n",
    "matrix = [[int(input()) for j in range(cols)] for i in range(rows)]\n",
    "\n",
    "transposed = transpose_matrix(matrix)\n",
    "print(\"Transposed Matrix:\")\n",
    "for row in transposed:\n",
    "    print(row)\n"
   ]
  },
  {
   "cell_type": "markdown",
   "id": "dd49c80d",
   "metadata": {},
   "source": [
    "# 4. Write a Python Program to Sort Words in Alphabetic Order?\n"
   ]
  },
  {
   "cell_type": "code",
   "execution_count": 13,
   "id": "b4e51809",
   "metadata": {},
   "outputs": [
    {
     "name": "stdout",
     "output_type": "stream",
     "text": [
      "Enter a sentence: the dog was looking for food\n",
      "Sorted words in alphabetic order: dog food for looking the was\n"
     ]
    }
   ],
   "source": [
    "def sort_words(sentence):\n",
    "    words = sentence.split()\n",
    "    words.sort()\n",
    "    return ' '.join(words)\n",
    "\n",
    "# Taking user input for a sentence\n",
    "sentence = input(\"Enter a sentence: \")\n",
    "sorted_sentence = sort_words(sentence)\n",
    "print(f\"Sorted words in alphabetic order: {sorted_sentence}\")"
   ]
  },
  {
   "cell_type": "markdown",
   "id": "f0aa69e8",
   "metadata": {},
   "source": [
    "# 5. Write a Python Program to Remove Punctuation From a String?"
   ]
  },
  {
   "cell_type": "code",
   "execution_count": 14,
   "id": "38a61730",
   "metadata": {},
   "outputs": [
    {
     "name": "stdout",
     "output_type": "stream",
     "text": [
      "Enter a string: Hello, world! This is a test string with punctuation.\n",
      "String after removing punctuation: Hello world This is a test string with punctuation\n"
     ]
    }
   ],
   "source": [
    "import string\n",
    "\n",
    "def remove_punctuation(input_string):\n",
    "    return input_string.translate(str.maketrans('', '', string.punctuation))\n",
    "\n",
    "# Taking user input for a string\n",
    "input_string = input(\"Enter a string: \")\n",
    "result = remove_punctuation(input_string)\n",
    "print(f\"String after removing punctuation: {result}\")\n"
   ]
  }
 ],
 "metadata": {
  "kernelspec": {
   "display_name": "Python 3 (ipykernel)",
   "language": "python",
   "name": "python3"
  },
  "language_info": {
   "codemirror_mode": {
    "name": "ipython",
    "version": 3
   },
   "file_extension": ".py",
   "mimetype": "text/x-python",
   "name": "python",
   "nbconvert_exporter": "python",
   "pygments_lexer": "ipython3",
   "version": "3.9.13"
  }
 },
 "nbformat": 4,
 "nbformat_minor": 5
}
