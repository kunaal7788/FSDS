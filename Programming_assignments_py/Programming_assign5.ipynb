{
 "cells": [
  {
   "cell_type": "code",
   "execution_count": null,
   "id": "147d72e0",
   "metadata": {},
   "outputs": [],
   "source": [
    "1. Write a Python Program to Find LCM?\n"
   ]
  },
  {
   "cell_type": "code",
   "execution_count": 2,
   "id": "abdeb19d",
   "metadata": {},
   "outputs": [
    {
     "name": "stdout",
     "output_type": "stream",
     "text": [
      "Enter value 1: 77\n",
      "enter value 2: 95\n",
      " LCM of 77 and 95 is: 7315\n"
     ]
    }
   ],
   "source": [
    "def compute_lcm(x,y):\n",
    "    if x>y :\n",
    "        greater =x\n",
    "    else:\n",
    "        greater =y\n",
    "        \n",
    "    while True :\n",
    "        if greater %x ==0 and greater %y ==0 :\n",
    "            lcm =greater\n",
    "            break\n",
    "        greater += 1\n",
    "    return lcm\n",
    "\n",
    "x =int(input(\"Enter value 1: \"))\n",
    "y =int(input(\"enter value 2: \"))\n",
    "\n",
    "print (f\" LCM of {x} and {y} is:\",compute_lcm(x,y))"
   ]
  },
  {
   "cell_type": "code",
   "execution_count": null,
   "id": "68307acc",
   "metadata": {},
   "outputs": [],
   "source": [
    "2. Write a Python Program to Find HCF?"
   ]
  },
  {
   "cell_type": "code",
   "execution_count": 5,
   "id": "2e8c3cbb",
   "metadata": {},
   "outputs": [
    {
     "name": "stdout",
     "output_type": "stream",
     "text": [
      "Enter value 1: 77\n",
      "Enter Value 2: 95\n",
      "Hcf of 77and 95 is : 1\n"
     ]
    }
   ],
   "source": [
    "def compute_hcf(x,y):\n",
    "    if x<y :\n",
    "        smaller =x\n",
    "    else :\n",
    "        smaller =y\n",
    "        \n",
    "    hcf =1 \n",
    "    for i in range(1,smaller+1):\n",
    "        if  x%i==0 and y%i ==0 :\n",
    "            hcf =i\n",
    "    return hcf\n",
    "\n",
    "x=int(input(\"Enter value 1: \"))\n",
    "y= int(input(\"Enter Value 2: \"))\n",
    "\n",
    "print (f\"Hcf of {x}and {y} is :\" , compute_hcf(x,y))"
   ]
  },
  {
   "cell_type": "code",
   "execution_count": null,
   "id": "75f47b49",
   "metadata": {},
   "outputs": [],
   "source": [
    "3. Write a Python Program to Convert Decimal to Binary, Octal and Hexadecimal?\n"
   ]
  },
  {
   "cell_type": "code",
   "execution_count": 8,
   "id": "7b547afe",
   "metadata": {},
   "outputs": [
    {
     "name": "stdout",
     "output_type": "stream",
     "text": [
      "Enter a Decimal number: 2\n",
      "Decimal 2 in Binary: 0b10\n",
      "Decimal 2 in Octal: 0o2\n",
      "Decimal 2 in Hexadecimal: 0x2\n"
     ]
    }
   ],
   "source": [
    "def convert_to_binary(decimal_num):\n",
    "    return bin(decimal_num)\n",
    "\n",
    "def convert_to_octal(decimal_num):\n",
    "    return oct(decimal_num)\n",
    "def convert_to_hexadecimal(decimal_num):\n",
    "    return hex(decimal_num)\n",
    "\n",
    "decimal_number =int(input(\"Enter a Decimal number: \"))\n",
    "print(f\"Decimal {decimal_number} in Binary:\", convert_to_binary(decimal_number))\n",
    "print(f\"Decimal {decimal_number} in Octal:\", convert_to_octal(decimal_number))\n",
    "print(f\"Decimal {decimal_number} in Hexadecimal:\", convert_to_hexadecimal(decimal_number))"
   ]
  },
  {
   "cell_type": "code",
   "execution_count": null,
   "id": "9f9b5326",
   "metadata": {},
   "outputs": [],
   "source": [
    "4. Write a Python Program To Find ASCII value of a character?\n"
   ]
  },
  {
   "cell_type": "code",
   "execution_count": 12,
   "id": "b6bcaca8",
   "metadata": {},
   "outputs": [
    {
     "name": "stdout",
     "output_type": "stream",
     "text": [
      "Enter a character: B\n",
      "The ASCII value of B is: 66\n"
     ]
    }
   ],
   "source": [
    "def find_ascii(character):\n",
    "    return ord(character)\n",
    "char=str(input(\"Enter a character: \"))\n",
    "print(f\"The ASCII value of {char} is:\",find_ascii(char))"
   ]
  },
  {
   "cell_type": "code",
   "execution_count": 13,
   "id": "87a4e54d",
   "metadata": {},
   "outputs": [
    {
     "name": "stdout",
     "output_type": "stream",
     "text": [
      "Object `operations` not found.\n"
     ]
    }
   ],
   "source": [
    "5. Write a Python Program to Make a Simple Calculator with 4 basic mathematical operations?"
   ]
  },
  {
   "cell_type": "code",
   "execution_count": null,
   "id": "afa58d51",
   "metadata": {},
   "outputs": [],
   "source": [
    "5. Write a Python Program to Make a Simple Calculator with 4 basic mathematical operations"
   ]
  },
  {
   "cell_type": "code",
   "execution_count": null,
   "id": "020ddbaf",
   "metadata": {},
   "outputs": [
    {
     "name": "stdout",
     "output_type": "stream",
     "text": [
      "Enter first number: 8\n"
     ]
    }
   ],
   "source": [
    "def add(x,y):\n",
    "    return x+y\n",
    "def substract(x,y):\n",
    "    return x-y\n",
    "def multiply(x,y):\n",
    "    return x*y\n",
    "def divide(x,y):\n",
    "    return x/y\n",
    "\n",
    "\n",
    "\n",
    "\n",
    "\n",
    "num1 = float(input(\"Enter first number: \"))\n",
    "num2 = float(input(\"Enter second number: \"))\n",
    "\n",
    "print (\"Select operation: \")\n",
    "print(\"1.add\")\n",
    "print(\"2.subtract\")\n",
    "print(\"3.multiply\")\n",
    "print(\"4.divide\")\n",
    "choice =input(\"Enter a choice(1/2/3/4): \")\n",
    "\n",
    "if choice == '1':\n",
    "    print(f\"{num1}+ {num2}= {add(num1,num2)}\")\n",
    "elif choice == '2':\n",
    "    print(f\"{num1} - {num2} = {subtract(num1, num2)}\")\n",
    "elif choice == '3':\n",
    "    print(f\"{num1} * {num2} = {multiply(num1, num2)}\")\n",
    "elif choice == '4':\n",
    "    print(f\"{num1} / {num2} = {divide(num1, num2)}\")\n",
    "else:\n",
    "    print(\"Invalid input\")"
   ]
  },
  {
   "cell_type": "code",
   "execution_count": null,
   "id": "db6a30cf",
   "metadata": {},
   "outputs": [],
   "source": []
  }
 ],
 "metadata": {
  "kernelspec": {
   "display_name": "Python 3 (ipykernel)",
   "language": "python",
   "name": "python3"
  },
  "language_info": {
   "codemirror_mode": {
    "name": "ipython",
    "version": 3
   },
   "file_extension": ".py",
   "mimetype": "text/x-python",
   "name": "python",
   "nbconvert_exporter": "python",
   "pygments_lexer": "ipython3",
   "version": "3.9.13"
  }
 },
 "nbformat": 4,
 "nbformat_minor": 5
}
