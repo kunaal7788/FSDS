{
 "cells": [
  {
   "cell_type": "markdown",
   "id": "0311f9ad",
   "metadata": {},
   "source": [
    "# 1. Write a Python program to print &quot;Hello Python&quot;?\n"
   ]
  },
  {
   "cell_type": "code",
   "execution_count": 1,
   "id": "9c279ce1",
   "metadata": {},
   "outputs": [
    {
     "name": "stdout",
     "output_type": "stream",
     "text": [
      "Hello Python\n"
     ]
    }
   ],
   "source": [
    "print(\"Hello Python\")"
   ]
  },
  {
   "cell_type": "markdown",
   "id": "6d9c358f",
   "metadata": {},
   "source": [
    "# 2. Write a Python program to do arithmetical operations addition and division.?\n"
   ]
  },
  {
   "cell_type": "code",
   "execution_count": 4,
   "id": "c015b86a",
   "metadata": {},
   "outputs": [
    {
     "name": "stdout",
     "output_type": "stream",
     "text": [
      "Enter value 15\n",
      "Enter Value 2100\n",
      "Sum of two numbers is : 105\n",
      "Division of two numbers is : 0.05\n"
     ]
    }
   ],
   "source": [
    "a= int(input(\"Enter value 1\"))\n",
    "b= int(input(\"Enter Value 2\"))\n",
    "sum_result= a+b\n",
    "print(\"Sum of two numbers is :\",sum_result)\n",
    "\n",
    "division_result = a/b\n",
    "print (\"Division of two numbers is :\",division_result)"
   ]
  },
  {
   "cell_type": "markdown",
   "id": "b41abb6d",
   "metadata": {},
   "source": [
    "# 3. Write a Python program to find the area of a triangle?\n"
   ]
  },
  {
   "cell_type": "code",
   "execution_count": 8,
   "id": "5be701bb",
   "metadata": {},
   "outputs": [
    {
     "name": "stdout",
     "output_type": "stream",
     "text": [
      "10\n",
      "10\n",
      "Area of Circle is : 50.0\n"
     ]
    }
   ],
   "source": [
    "base= int(input())\n",
    "height =int(input())\n",
    "def area_of_triangle(base,height):\n",
    "    return 0.5 * base *height \n",
    "\n",
    "print (\"Area of Circle is :\", area_of_triangle(base,height))"
   ]
  },
  {
   "cell_type": "markdown",
   "id": "f1c7b9f5",
   "metadata": {},
   "source": [
    "# 4. Write a Python program to swap two variables?\n"
   ]
  },
  {
   "cell_type": "code",
   "execution_count": 11,
   "id": "e98cbcce",
   "metadata": {},
   "outputs": [
    {
     "name": "stdout",
     "output_type": "stream",
     "text": [
      "Enter value of a13\n",
      "Enter value of b15\n",
      "After swapping:\n",
      "a 15\n",
      "b 13\n"
     ]
    }
   ],
   "source": [
    "a= int(input(\"Enter value of a\"))\n",
    "b=int (input(\"Enter value of b\"))\n",
    "a,b =b,a\n",
    "print(\"After swapping:\")\n",
    "print(\"a\",a)\n",
    "print(\"b\",b)"
   ]
  },
  {
   "cell_type": "markdown",
   "id": "181dd78e",
   "metadata": {},
   "source": [
    "# 5. Write a Python program to generate a random number?"
   ]
  },
  {
   "cell_type": "code",
   "execution_count": 12,
   "id": "1c62bc7f",
   "metadata": {},
   "outputs": [
    {
     "name": "stdout",
     "output_type": "stream",
     "text": [
      "Random number: 43\n"
     ]
    }
   ],
   "source": [
    "import random\n",
    "random_number =random.randint(1,100)\n",
    "print(\"Random number:\",random_number)"
   ]
  },
  {
   "cell_type": "code",
   "execution_count": null,
   "id": "28e78229",
   "metadata": {},
   "outputs": [],
   "source": []
  }
 ],
 "metadata": {
  "kernelspec": {
   "display_name": "Python 3 (ipykernel)",
   "language": "python",
   "name": "python3"
  },
  "language_info": {
   "codemirror_mode": {
    "name": "ipython",
    "version": 3
   },
   "file_extension": ".py",
   "mimetype": "text/x-python",
   "name": "python",
   "nbconvert_exporter": "python",
   "pygments_lexer": "ipython3",
   "version": "3.9.13"
  }
 },
 "nbformat": 4,
 "nbformat_minor": 5
}
