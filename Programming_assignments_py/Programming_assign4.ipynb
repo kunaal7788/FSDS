{
 "cells": [
  {
   "cell_type": "markdown",
   "id": "4a837d96",
   "metadata": {},
   "source": [
    "# Write a Python Program to Find the Factorial of a Number?"
   ]
  },
  {
   "cell_type": "code",
   "execution_count": 11,
   "id": "e32cacd3",
   "metadata": {},
   "outputs": [
    {
     "name": "stdout",
     "output_type": "stream",
     "text": [
      "5\n",
      "the factorial of the 5 is:   120\n"
     ]
    }
   ],
   "source": [
    "n=int(input())\n",
    "def find_factorial(n):\n",
    "    result =1\n",
    "    for i in range(1,n+1):\n",
    "        result*= i\n",
    "    return result\n",
    "print(f\"the factorial of the {n} is:  \",find_factorial(n))"
   ]
  },
  {
   "cell_type": "markdown",
   "id": "cb2d620e",
   "metadata": {},
   "source": [
    "# 2. Write a Python Program to Display the multiplication Table?\n"
   ]
  },
  {
   "cell_type": "code",
   "execution_count": 14,
   "id": "4175af0b",
   "metadata": {},
   "outputs": [
    {
     "name": "stdout",
     "output_type": "stream",
     "text": [
      "Enter a number5\n",
      "5x1=5\n",
      "5x2=10\n",
      "5x3=15\n",
      "5x4=20\n",
      "5x5=25\n",
      "5x6=30\n",
      "5x7=35\n",
      "5x8=40\n",
      "5x9=45\n",
      "5x10=50\n"
     ]
    }
   ],
   "source": [
    "def multi_table (number):\n",
    "    for i in range(1,11):\n",
    "        print(f\"{number}x{i}={number*i}\")\n",
    "\n",
    "n=int(input(\"Enter a number\"))\n",
    "multi_table(n)"
   ]
  },
  {
   "cell_type": "markdown",
   "id": "f6cbbe1c",
   "metadata": {},
   "source": [
    "# 3. Write a Python Program to Print the Fibonacci sequence?\n"
   ]
  },
  {
   "cell_type": "code",
   "execution_count": 16,
   "id": "2d7fd831",
   "metadata": {},
   "outputs": [
    {
     "name": "stdout",
     "output_type": "stream",
     "text": [
      "Enter no of terms54\n",
      "Fibonacci sequence:\n",
      "011235813213455891442333776109871597258441816765109461771128657463687502512139319641831781151422983204013462692178309352457857028879227465149303522415781739088169632459861023341551655801412679142964334944377014087331134903170183631190329712150734807526976777874204912586269025203650110743295128009953316291173"
     ]
    }
   ],
   "source": [
    "def fibonacci(n):\n",
    "    sequence =[]\n",
    "    a,b =0,1\n",
    "    while len(sequence)<n:\n",
    "        sequence.append(a)\n",
    "        a,b=b,a+b\n",
    "    return sequence\n",
    "number_of_terms=int(input(\"Enter no of terms\"))\n",
    "sequence =fibonacci(number_of_terms)\n",
    "print(\"Fibonacci sequence:\")\n",
    "for num in sequence:\n",
    "    print(num,end='')"
   ]
  },
  {
   "cell_type": "markdown",
   "id": "800e2bda",
   "metadata": {},
   "source": [
    "# 4. Write a Python Program to Check Armstrong Number?\n"
   ]
  },
  {
   "cell_type": "code",
   "execution_count": 19,
   "id": "03070bb9",
   "metadata": {},
   "outputs": [
    {
     "name": "stdout",
     "output_type": "stream",
     "text": [
      " Enter a number: 789\n",
      "789 is not  an Armstrong number\n"
     ]
    }
   ],
   "source": [
    "def armstrong_num(number):\n",
    "    num_str =str(number)\n",
    "    number_of_digits =len(num_str)\n",
    "    sum_of_powers =sum(int(digit)**number_of_digits for digit in num_str)\n",
    "    return sum_of_powers ==number\n",
    "num = int(input(\" Enter a number: \"))\n",
    "if armstrong_num(num):\n",
    "    print(f\"{num} is an Armstrong number.\")\n",
    "else:\n",
    "    print (f\"{num} is not  an Armstrong number\")"
   ]
  },
  {
   "cell_type": "markdown",
   "id": "4d0a11c1",
   "metadata": {},
   "source": [
    "# 5. Write a Python Program to Find Armstrong Number in an Interval?\n"
   ]
  },
  {
   "cell_type": "code",
   "execution_count": 24,
   "id": "6c794d9a",
   "metadata": {},
   "outputs": [
    {
     "name": "stdout",
     "output_type": "stream",
     "text": [
      "Enter the lower bound of the interval: 100\n",
      "Enter the upper bound of the interval: 1000\n",
      "Armstrong numbers between 100 and 1000:\n",
      "153 370 371 407 "
     ]
    }
   ],
   "source": [
    "def is_armstrong(number):\n",
    "    num_str = str(number)\n",
    "    num_digits = len(num_str)\n",
    "    sum_of_powers = sum(int(digit) ** num_digits for digit in num_str)\n",
    "    return sum_of_powers == number\n",
    "\n",
    "def find_armstrong_numbers(lower, upper):\n",
    "    armstrong_numbers = []\n",
    "    for num in range(lower, upper + 1):\n",
    "        if is_armstrong(num):\n",
    "            armstrong_numbers.append(num)\n",
    "    return armstrong_numbers\n",
    "\n",
    "lower_bound = int(input(\"Enter the lower bound of the interval: \"))\n",
    "upper_bound = int(input(\"Enter the upper bound of the interval: \"))\n",
    "\n",
    "armstrong_numbers = find_armstrong_numbers(lower_bound, upper_bound)\n",
    "print(f\"Armstrong numbers between {lower_bound} and {upper_bound}:\")\n",
    "for num in armstrong_numbers:\n",
    "    print(num, end=\" \")"
   ]
  },
  {
   "cell_type": "markdown",
   "id": "4d8a5c7b",
   "metadata": {},
   "source": [
    "# 6. Write a Python Program to Find the Sum of Natural Numbers?"
   ]
  },
  {
   "cell_type": "code",
   "execution_count": null,
   "id": "a6266f17",
   "metadata": {},
   "outputs": [],
   "source": [
    "def sum_of_natural_numbers (n):\n",
    "    return n*(n-1)//2\n",
    "n=int(input(\"Enter a positive integer:\"))\n",
    "if n>0 :\n",
    "    print(f\"The sum of the first {n} natural numbers is {sum_of_natural_numbers(n)}\")\n"
   ]
  }
 ],
 "metadata": {
  "kernelspec": {
   "display_name": "Python 3 (ipykernel)",
   "language": "python",
   "name": "python3"
  },
  "language_info": {
   "codemirror_mode": {
    "name": "ipython",
    "version": 3
   },
   "file_extension": ".py",
   "mimetype": "text/x-python",
   "name": "python",
   "nbconvert_exporter": "python",
   "pygments_lexer": "ipython3",
   "version": "3.9.13"
  }
 },
 "nbformat": 4,
 "nbformat_minor": 5
}
