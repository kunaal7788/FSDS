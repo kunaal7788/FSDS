{
 "cells": [
  {
   "cell_type": "markdown",
   "id": "c46e2cc2",
   "metadata": {},
   "source": [
    "# 1. Write a Python program to check if the given number is a Disarium Number?\n"
   ]
  },
  {
   "cell_type": "code",
   "execution_count": 1,
   "id": "d3221fbf",
   "metadata": {},
   "outputs": [
    {
     "name": "stdout",
     "output_type": "stream",
     "text": [
      "Enter a number to check if it is a Disarium number: 69\n",
      "69 is not a Disarium number.\n"
     ]
    }
   ],
   "source": [
    "def is_disarium(number):\n",
    "    digits = list(map(int, str(number)))\n",
    "    disarium_sum = sum(digit ** (idx + 1) for idx, digit in enumerate(digits))\n",
    "    return disarium_sum == number\n",
    "\n",
    "# Taking user input\n",
    "number = int(input(\"Enter a number to check if it is a Disarium number: \"))\n",
    "if is_disarium(number):\n",
    "    print(f\"{number} is a Disarium number.\")\n",
    "else:\n",
    "    print(f\"{number} is not a Disarium number.\")"
   ]
  },
  {
   "cell_type": "markdown",
   "id": "0cf0ade4",
   "metadata": {},
   "source": [
    "# 2. Write a Python program to print all disarium numbers between 1 to 100?\n"
   ]
  },
  {
   "cell_type": "code",
   "execution_count": 2,
   "id": "39f287d4",
   "metadata": {},
   "outputs": [
    {
     "name": "stdout",
     "output_type": "stream",
     "text": [
      "Disarium numbers between 1 and 100: [1, 2, 3, 4, 5, 6, 7, 8, 9, 89]\n"
     ]
    }
   ],
   "source": [
    "def is_disarium(number):\n",
    "    digits = list(map(int, str(number)))\n",
    "    disarium_sum = sum(digit ** (idx + 1) for idx, digit in enumerate(digits))\n",
    "    return disarium_sum == number\n",
    "\n",
    "disarium_numbers = [i for i in range(1, 101) if is_disarium(i)]\n",
    "print(f\"Disarium numbers between 1 and 100: {disarium_numbers}\")\n"
   ]
  },
  {
   "cell_type": "markdown",
   "id": "03979092",
   "metadata": {},
   "source": [
    "# 3. Write a Python program to check if the given number is Happy Number?\n"
   ]
  },
  {
   "cell_type": "code",
   "execution_count": 3,
   "id": "b8d38344",
   "metadata": {},
   "outputs": [
    {
     "name": "stdout",
     "output_type": "stream",
     "text": [
      "Enter a number to check if it is a Happy number: 55\n",
      "55 is not a Happy number.\n"
     ]
    }
   ],
   "source": [
    "def is_happy(number):\n",
    "    seen = set()\n",
    "    while number != 1 and number not in seen:\n",
    "        seen.add(number)\n",
    "        number = sum(int(digit) ** 2 for digit in str(number))\n",
    "    return number == 1\n",
    "\n",
    "# Taking user input\n",
    "number = int(input(\"Enter a number to check if it is a Happy number: \"))\n",
    "if is_happy(number):\n",
    "    print(f\"{number} is a Happy number.\")\n",
    "else:\n",
    "    print(f\"{number} is not a Happy number.\")\n"
   ]
  },
  {
   "cell_type": "markdown",
   "id": "ae28c787",
   "metadata": {},
   "source": [
    "# 4. Write a Python program to print all happy numbers between 1 and 100?\n"
   ]
  },
  {
   "cell_type": "code",
   "execution_count": 5,
   "id": "b59e8bf1",
   "metadata": {},
   "outputs": [
    {
     "name": "stdout",
     "output_type": "stream",
     "text": [
      "Happy numbers between 1 and 100: [1, 7, 10, 13, 19, 23, 28, 31, 32, 44, 49, 68, 70, 79, 82, 86, 91, 94, 97, 100]\n"
     ]
    }
   ],
   "source": [
    "def is_happy(number):\n",
    "    seen = set()\n",
    "    while number != 1 and number not in seen:\n",
    "        seen.add(number)\n",
    "        number = sum(int(digit) ** 2 for digit in str(number))\n",
    "    return number == 1\n",
    "\n",
    "happy_numbers = [i for i in range(1, 101) if is_happy(i)]\n",
    "print(f\"Happy numbers between 1 and 100: {happy_numbers}\")\n"
   ]
  },
  {
   "cell_type": "markdown",
   "id": "5fae0923",
   "metadata": {},
   "source": [
    "# 5. Write a Python program to determine whether the given number is a Harshad Number?\n"
   ]
  },
  {
   "cell_type": "code",
   "execution_count": 6,
   "id": "5a745d90",
   "metadata": {},
   "outputs": [
    {
     "name": "stdout",
     "output_type": "stream",
     "text": [
      "Enter a number to check if it is a Harshad number: 55\n",
      "55 is not a Harshad number.\n"
     ]
    }
   ],
   "source": [
    "def is_harshad(number):\n",
    "    digit_sum = sum(int(digit) for digit in str(number))\n",
    "    return number % digit_sum == 0\n",
    "\n",
    "# Taking user input\n",
    "number = int(input(\"Enter a number to check if it is a Harshad number: \"))\n",
    "if is_harshad(number):\n",
    "    print(f\"{number} is a Harshad number.\")\n",
    "else:\n",
    "    print(f\"{number} is not a Harshad number.\")\n"
   ]
  },
  {
   "cell_type": "markdown",
   "id": "a8b5b13a",
   "metadata": {},
   "source": [
    "# 6. Write a Python program to print all pronic numbers between 1 and 100?"
   ]
  },
  {
   "cell_type": "code",
   "execution_count": 7,
   "id": "b0d0b63f",
   "metadata": {},
   "outputs": [
    {
     "name": "stdout",
     "output_type": "stream",
     "text": [
      "Pronic numbers between 1 and 100: [2, 6, 12, 20, 30, 42, 56, 72, 90]\n"
     ]
    }
   ],
   "source": [
    "def is_pronic(number):\n",
    "    for i in range(1, number):\n",
    "        if i * (i + 1) == number:\n",
    "            return True\n",
    "    return False\n",
    "\n",
    "pronic_numbers = [i for i in range(1, 101) if is_pronic(i)]\n",
    "print(f\"Pronic numbers between 1 and 100: {pronic_numbers}\")\n"
   ]
  },
  {
   "cell_type": "code",
   "execution_count": null,
   "id": "433aed6e",
   "metadata": {},
   "outputs": [],
   "source": []
  }
 ],
 "metadata": {
  "kernelspec": {
   "display_name": "Python 3 (ipykernel)",
   "language": "python",
   "name": "python3"
  },
  "language_info": {
   "codemirror_mode": {
    "name": "ipython",
    "version": 3
   },
   "file_extension": ".py",
   "mimetype": "text/x-python",
   "name": "python",
   "nbconvert_exporter": "python",
   "pygments_lexer": "ipython3",
   "version": "3.9.13"
  }
 },
 "nbformat": 4,
 "nbformat_minor": 5
}
