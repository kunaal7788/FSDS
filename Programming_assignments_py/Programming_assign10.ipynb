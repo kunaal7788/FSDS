{
 "cells": [
  {
   "cell_type": "code",
   "execution_count": null,
   "id": "aea9f2ab",
   "metadata": {},
   "outputs": [],
   "source": [
    "1. Write a Python program to find sum of elements in list?"
   ]
  },
  {
   "cell_type": "code",
   "execution_count": 1,
   "id": "1a9c97c7",
   "metadata": {},
   "outputs": [
    {
     "name": "stdout",
     "output_type": "stream",
     "text": [
      "Enter the elements of the list separated by spaces: 1 2 3 4 5 6\n",
      "Sum of elements in the list: 21\n"
     ]
    }
   ],
   "source": [
    "def sum_of_elements(lst):\n",
    "    return sum(lst)\n",
    "lst = list(map(int, input(\"Enter the elements of the list separated by spaces: \").split()))\n",
    "print(f\"Sum of elements in the list: {sum_of_elements(lst)}\")"
   ]
  },
  {
   "cell_type": "code",
   "execution_count": null,
   "id": "dd744253",
   "metadata": {},
   "outputs": [],
   "source": []
  },
  {
   "cell_type": "code",
   "execution_count": null,
   "id": "038d5cd3",
   "metadata": {},
   "outputs": [],
   "source": [
    "2. Write a Python program to Multiply all numbers in the list?"
   ]
  },
  {
   "cell_type": "code",
   "execution_count": 2,
   "id": "119a0dc6",
   "metadata": {},
   "outputs": [
    {
     "name": "stdout",
     "output_type": "stream",
     "text": [
      "Enter the elements of the list separated by spaces: 1 2 3 4 5 6\n",
      "Product of elements in the list: 720\n"
     ]
    }
   ],
   "source": [
    "import functools\n",
    "import operator \n",
    "\n",
    "def multiply_elements(lst):\n",
    "    return functools.reduce(operator.mul,lst,1)\n",
    "lst = list(map(int, input(\"Enter the elements of the list separated by spaces: \").split()))\n",
    "print(f\"Product of elements in the list: {multiply_elements(lst)}\")"
   ]
  },
  {
   "cell_type": "code",
   "execution_count": null,
   "id": "69595aac",
   "metadata": {},
   "outputs": [],
   "source": []
  },
  {
   "cell_type": "code",
   "execution_count": null,
   "id": "dba1b49b",
   "metadata": {},
   "outputs": [],
   "source": [
    "3. Write a Python program to find smallest number in a list?"
   ]
  },
  {
   "cell_type": "code",
   "execution_count": 3,
   "id": "406bab9d",
   "metadata": {},
   "outputs": [
    {
     "name": "stdout",
     "output_type": "stream",
     "text": [
      "Enter the elements of the list separated by spaces:  2 3 4 5 6 1\n",
      "Smallest number in the list: 1\n"
     ]
    }
   ],
   "source": [
    "def find_smallest(lst):\n",
    "    return min(lst)\n",
    "lst = list(map(int, input(\"Enter the elements of the list separated by spaces: \").split()))\n",
    "print(f\"Smallest number in the list: {find_smallest(lst)}\")"
   ]
  },
  {
   "cell_type": "code",
   "execution_count": null,
   "id": "f5243b85",
   "metadata": {},
   "outputs": [],
   "source": []
  },
  {
   "cell_type": "code",
   "execution_count": null,
   "id": "26d67d26",
   "metadata": {},
   "outputs": [],
   "source": [
    "4. Write a Python program to find largest number in a list?"
   ]
  },
  {
   "cell_type": "code",
   "execution_count": 4,
   "id": "19b2bf1d",
   "metadata": {},
   "outputs": [
    {
     "name": "stdout",
     "output_type": "stream",
     "text": [
      "Enter the elements of the list separated by spaces: 7 8 9 4 5 6 1 2 10\n",
      "Largest number in the list: 10\n"
     ]
    }
   ],
   "source": [
    "def find_largest (lst):\n",
    "    return max(lst)\n",
    "lst = list(map(int, input(\"Enter the elements of the list separated by spaces: \").split()))\n",
    "print(f\"Largest number in the list: {find_largest(lst)}\")"
   ]
  },
  {
   "cell_type": "code",
   "execution_count": null,
   "id": "e5bfc9ac",
   "metadata": {},
   "outputs": [],
   "source": []
  },
  {
   "cell_type": "code",
   "execution_count": null,
   "id": "78139a49",
   "metadata": {},
   "outputs": [],
   "source": [
    "5. Write a Python program to find second largest number in a list?"
   ]
  },
  {
   "cell_type": "code",
   "execution_count": 5,
   "id": "4f9b9fb3",
   "metadata": {},
   "outputs": [
    {
     "name": "stdout",
     "output_type": "stream",
     "text": [
      "Enter the elements of the list separated by spaces: 1 2 3 4 5 6 7 8 9\n",
      "Second largest number in the list: 8\n"
     ]
    }
   ],
   "source": [
    "def find_second_largest(lst):\n",
    "    unique_lst = list(set(lst))\n",
    "    unique_lst.sort()\n",
    "    return unique_lst[-2] if len(unique_lst) >= 2 else None\n",
    "lst = list(map(int, input(\"Enter the elements of the list separated by spaces: \").split()))\n",
    "second_largest = find_second_largest(lst)\n",
    "if second_largest is not None:\n",
    "    print(f\"Second largest number in the list: {second_largest}\")\n",
    "else:\n",
    "    print(\"List does not have enough unique elements.\")\n"
   ]
  },
  {
   "cell_type": "code",
   "execution_count": null,
   "id": "ba1f4771",
   "metadata": {},
   "outputs": [],
   "source": []
  },
  {
   "cell_type": "code",
   "execution_count": null,
   "id": "6c37bf2b",
   "metadata": {},
   "outputs": [],
   "source": [
    "6. Write a Python program to find N largest elements from a list?"
   ]
  },
  {
   "cell_type": "code",
   "execution_count": 6,
   "id": "0def1b6c",
   "metadata": {},
   "outputs": [
    {
     "name": "stdout",
     "output_type": "stream",
     "text": [
      "Enter the elements of the list separated by spaces: 1 2 3 4 5 6\n",
      "Enter the number of largest elements to find: 2\n",
      "2 largest elements in the list: [6, 5]\n"
     ]
    }
   ],
   "source": [
    "def find_n_largest(lst, n):\n",
    "    return sorted(lst, reverse=True)[:n]\n",
    "\n",
    "lst = list(map(int, input(\"Enter the elements of the list separated by spaces: \").split()))\n",
    "n = int(input(\"Enter the number of largest elements to find: \"))\n",
    "print(f\"{n} largest elements in the list: {find_n_largest(lst, n)}\")\n"
   ]
  },
  {
   "cell_type": "code",
   "execution_count": null,
   "id": "743a86a0",
   "metadata": {},
   "outputs": [],
   "source": []
  },
  {
   "cell_type": "code",
   "execution_count": null,
   "id": "d30c35f1",
   "metadata": {},
   "outputs": [],
   "source": [
    "7. Write a Python program to print even numbers in a list?"
   ]
  },
  {
   "cell_type": "code",
   "execution_count": 7,
   "id": "9041fe3d",
   "metadata": {},
   "outputs": [
    {
     "name": "stdout",
     "output_type": "stream",
     "text": [
      "Enter the elements of the list separated by spaces: 1 2 3 4 5 6\n",
      "Even numbers in the list: [2, 4, 6]\n"
     ]
    }
   ],
   "source": [
    "def find_even_numbers(lst):\n",
    "    return [x for x in lst if x % 2 == 0]\n",
    "\n",
    "\n",
    "lst = list(map(int, input(\"Enter the elements of the list separated by spaces: \").split()))\n",
    "print(f\"Even numbers in the list: {find_even_numbers(lst)}\")\n"
   ]
  },
  {
   "cell_type": "code",
   "execution_count": null,
   "id": "8f5633ad",
   "metadata": {},
   "outputs": [],
   "source": []
  },
  {
   "cell_type": "code",
   "execution_count": null,
   "id": "423329a4",
   "metadata": {},
   "outputs": [],
   "source": [
    "8. Write a Python program to print odd numbers in a List?"
   ]
  },
  {
   "cell_type": "code",
   "execution_count": 8,
   "id": "5e952c7e",
   "metadata": {},
   "outputs": [
    {
     "name": "stdout",
     "output_type": "stream",
     "text": [
      "Enter the elements of the list separated by spaces: 1 2 3 4 5 6\n",
      "Odd numbers in the list: [1, 3, 5]\n"
     ]
    }
   ],
   "source": [
    "def find_odd_numbers(lst):\n",
    "    return [x for x in lst if x % 2 != 0]\n",
    "\n",
    "lst = list(map(int, input(\"Enter the elements of the list separated by spaces: \").split()))\n",
    "print(f\"Odd numbers in the list: {find_odd_numbers(lst)}\")\n"
   ]
  },
  {
   "cell_type": "code",
   "execution_count": null,
   "id": "e7d474ef",
   "metadata": {},
   "outputs": [],
   "source": []
  },
  {
   "cell_type": "code",
   "execution_count": null,
   "id": "a7965200",
   "metadata": {},
   "outputs": [],
   "source": [
    "9. Write a Python program to Remove empty List from List?"
   ]
  },
  {
   "cell_type": "code",
   "execution_count": 11,
   "id": "f604fccb",
   "metadata": {},
   "outputs": [
    {
     "name": "stdout",
     "output_type": "stream",
     "text": [
      "Enter a list containing other lists (e.g. [1, [], [2, 3], []]): 1,[],3,[], 5,6,4,8\n",
      "List after removing empty lists: [1, 3, 5, 6, 4, 8]\n"
     ]
    }
   ],
   "source": [
    "def remove_empty_lists(lst):\n",
    "    return [x for x in lst if x]\n",
    "\n",
    "\n",
    "lst = eval(input(\"Enter a list containing other lists (e.g. [1, [], [2, 3], []]): \"))\n",
    "print(f\"List after removing empty lists: {remove_empty_lists(lst)}\")\n"
   ]
  },
  {
   "cell_type": "code",
   "execution_count": null,
   "id": "a5928861",
   "metadata": {},
   "outputs": [],
   "source": []
  },
  {
   "cell_type": "code",
   "execution_count": null,
   "id": "95bb9d3a",
   "metadata": {},
   "outputs": [],
   "source": [
    "10. Write a Python program to Cloning or Copying a list?"
   ]
  },
  {
   "cell_type": "code",
   "execution_count": 12,
   "id": "c573d323",
   "metadata": {},
   "outputs": [
    {
     "name": "stdout",
     "output_type": "stream",
     "text": [
      "Enter the elements of the list separated by spaces: 1 2 3 4 5 6\n",
      "Original list: [1, 2, 3, 4, 5, 6]\n",
      "Cloned list: [1, 2, 3, 4, 5, 6]\n"
     ]
    }
   ],
   "source": [
    "def clone_list(lst):\n",
    "    return lst.copy()\n",
    "\n",
    "lst = list(map(int, input(\"Enter the elements of the list separated by spaces: \").split()))\n",
    "cloned_lst = clone_list(lst)\n",
    "print(f\"Original list: {lst}\")\n",
    "print(f\"Cloned list: {cloned_lst}\")\n"
   ]
  },
  {
   "cell_type": "code",
   "execution_count": null,
   "id": "85b07e03",
   "metadata": {},
   "outputs": [],
   "source": []
  },
  {
   "cell_type": "code",
   "execution_count": null,
   "id": "73175afd",
   "metadata": {},
   "outputs": [],
   "source": [
    "11. Write a Python program to Count occurrences of an element in a list?"
   ]
  },
  {
   "cell_type": "code",
   "execution_count": 13,
   "id": "3cdb203b",
   "metadata": {},
   "outputs": [
    {
     "name": "stdout",
     "output_type": "stream",
     "text": [
      "Enter the elements of the list separated by spaces: 1 2 3 4 4 4 5 6 6 6 6 6 7 7 8 9 5 1 2 4\n",
      "Enter the element to count occurrences of: 6\n",
      "Number of occurrences of 6 in the list: 5\n"
     ]
    }
   ],
   "source": [
    "def count_occurrences(lst, elem):\n",
    "    return lst.count(elem)\n",
    "\n",
    "\n",
    "lst = list(map(int, input(\"Enter the elements of the list separated by spaces: \").split()))\n",
    "elem = int(input(\"Enter the element to count occurrences of: \"))\n",
    "print(f\"Number of occurrences of {elem} in the list: {count_occurrences(lst, elem)}\")\n"
   ]
  }
 ],
 "metadata": {
  "kernelspec": {
   "display_name": "Python 3 (ipykernel)",
   "language": "python",
   "name": "python3"
  },
  "language_info": {
   "codemirror_mode": {
    "name": "ipython",
    "version": 3
   },
   "file_extension": ".py",
   "mimetype": "text/x-python",
   "name": "python",
   "nbconvert_exporter": "python",
   "pygments_lexer": "ipython3",
   "version": "3.9.13"
  }
 },
 "nbformat": 4,
 "nbformat_minor": 5
}
