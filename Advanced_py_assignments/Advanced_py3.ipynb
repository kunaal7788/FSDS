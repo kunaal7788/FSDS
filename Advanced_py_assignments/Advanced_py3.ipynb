{
 "cells": [
  {
   "cell_type": "markdown",
   "id": "f20d420e",
   "metadata": {},
   "source": [
    "# 1. What is the concept of an abstract superclass?"
   ]
  },
  {
   "cell_type": "markdown",
   "id": "cac9790b",
   "metadata": {},
   "source": [
    "An abstract superclass is a class that is designed to be inherited by other classes rather than instantiated on its own. It typically contains one or more abstract methods, which are methods declared but not implemented. Abstract superclasses are used to define a common interface or a set of behaviors that subclasses must implement. In Python, abstract superclasses are often created using the abc module."
   ]
  },
  {
   "cell_type": "markdown",
   "id": "85fa9d82",
   "metadata": {},
   "source": [
    "# 2. What happens when a class statement's top level contains a basic assignment statement?\n"
   ]
  },
  {
   "cell_type": "markdown",
   "id": "98f754b7",
   "metadata": {},
   "source": [
    "When a class statement's top level contains a basic assignment statement, it creates a class attribute. This attribute is shared by all instances of the class."
   ]
  },
  {
   "cell_type": "markdown",
   "id": "150d902b",
   "metadata": {},
   "source": [
    "# 3. Why does a class need to manually call a superclass&#39;s __init__ method?\n"
   ]
  },
  {
   "cell_type": "markdown",
   "id": "9335210b",
   "metadata": {},
   "source": [
    "A class needs to manually call a superclass's __init__ method to ensure that the superclass is properly initialized. This is especially important in a situation where the superclass defines attributes or performs setup tasks that are essential for the subclass to function correctly."
   ]
  },
  {
   "cell_type": "markdown",
   "id": "bb8c6296",
   "metadata": {},
   "source": [
    "# 4. How can you augment, instead of completely replacing, an inherited method?\n"
   ]
  },
  {
   "cell_type": "markdown",
   "id": "6cc8dcb0",
   "metadata": {},
   "source": [
    "To augment an inherited method, you can override the method in the subclass and call the method from the superclass within the overriding method. This allows you to add additional functionality while still retaining the behavior of the superclass method."
   ]
  },
  {
   "cell_type": "code",
   "execution_count": null,
   "id": "03570549",
   "metadata": {},
   "outputs": [],
   "source": [
    "5. How is the local scope of a class different from that of a function?"
   ]
  },
  {
   "cell_type": "code",
   "execution_count": null,
   "id": "f885aa84",
   "metadata": {},
   "outputs": [],
   "source": []
  },
  {
   "cell_type": "code",
   "execution_count": null,
   "id": "773a0dd4",
   "metadata": {},
   "outputs": [],
   "source": []
  }
 ],
 "metadata": {
  "kernelspec": {
   "display_name": "Python 3 (ipykernel)",
   "language": "python",
   "name": "python3"
  },
  "language_info": {
   "codemirror_mode": {
    "name": "ipython",
    "version": 3
   },
   "file_extension": ".py",
   "mimetype": "text/x-python",
   "name": "python",
   "nbconvert_exporter": "python",
   "pygments_lexer": "ipython3",
   "version": "3.9.13"
  }
 },
 "nbformat": 4,
 "nbformat_minor": 5
}
