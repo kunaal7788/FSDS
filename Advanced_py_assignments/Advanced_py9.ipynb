{
 "cells": [
  {
   "cell_type": "markdown",
   "id": "c2a2cf10",
   "metadata": {},
   "source": [
    "# Q1. In Python 3.X, what are the names and functions of string object types?\n"
   ]
  },
  {
   "cell_type": "markdown",
   "id": "c62e71eb",
   "metadata": {},
   "source": [
    "In Python 3.X, there are two primary string object types: str and bytes. The str type represents text data and is Unicode by default, meaning it can store characters from the entire Unicode character set, thus supporting a wide array of characters from different languages and symbol sets. This type is used whenever you work with human-readable text. On the other hand, bytes represents binary data, where each element is an integer in the range 0 to 255. This type is used for handling raw binary data, such as that read from or written to files, or when dealing with network protocols and data serialization."
   ]
  },
  {
   "cell_type": "markdown",
   "id": "191d1b03",
   "metadata": {},
   "source": [
    "# Q2. How do the string forms in Python 3.X vary in terms of operations?\n"
   ]
  },
  {
   "cell_type": "markdown",
   "id": "bc24e25b",
   "metadata": {},
   "source": [
    "In Python 3.X, str and bytes differ significantly in their operations. str supports a wide range of operations typical for text manipulation, such as concatenation, slicing, formatting, and encoding to bytes. For example, you can concatenate strings using the + operator, slice them to get substrings, and format them using methods like format() or f-strings. bytes, while also supporting concatenation and slicing, lack many of the higher-level text manipulation methods found in str. Instead, bytes objects are often used for more low-level operations, such as decoding to str or performing bitwise operations. Encoding a str to bytes and decoding bytes back to str are essential operations when dealing with text and binary data interchangeably."
   ]
  },
  {
   "cell_type": "code",
   "execution_count": null,
   "id": "635088b5",
   "metadata": {},
   "outputs": [],
   "source": [
    "Q3. In 3.X, how do you put non-ASCII Unicode characters in a string?\n"
   ]
  },
  {
   "cell_type": "markdown",
   "id": "1d83997a",
   "metadata": {},
   "source": [
    "In Python 3.X, including non-ASCII Unicode characters in a string is straightforward. You can directly include these characters in a string literal, or you can use Unicode escape sequences. For instance, you can write non_ascii_str = \"こんにちは\" to include Japanese characters directly, or use escape sequences like non_ascii_str = \"\\u3053\\u3093\\u306B\\u3061\\u306F\" to achieve the same result. This direct support for Unicode in string literals ensures that Python 3.X can handle a wide range of global languages and symbols natively, making it a powerful tool for international applications."
   ]
  },
  {
   "cell_type": "code",
   "execution_count": null,
   "id": "8f949f2d",
   "metadata": {},
   "outputs": [],
   "source": [
    "Q4. In Python 3.X, what are the key differences between text-mode and binary-mode files?\n"
   ]
  },
  {
   "cell_type": "code",
   "execution_count": null,
   "id": "499ff0d6",
   "metadata": {},
   "outputs": [],
   "source": []
  },
  {
   "cell_type": "code",
   "execution_count": null,
   "id": "7f78200e",
   "metadata": {},
   "outputs": [],
   "source": [
    "Q5. How can you interpret a Unicode text file containing text encoded in a different encoding than\n",
    "your platform's default?"
   ]
  },
  {
   "cell_type": "code",
   "execution_count": null,
   "id": "d55fe38d",
   "metadata": {},
   "outputs": [],
   "source": [
    "\n"
   ]
  },
  {
   "cell_type": "code",
   "execution_count": null,
   "id": "5178b8b0",
   "metadata": {},
   "outputs": [],
   "source": [
    "Q6. What is the best way to make a Unicode text file in a particular encoding format?\n"
   ]
  },
  {
   "cell_type": "code",
   "execution_count": null,
   "id": "361428a8",
   "metadata": {},
   "outputs": [],
   "source": []
  },
  {
   "cell_type": "code",
   "execution_count": null,
   "id": "3503443d",
   "metadata": {},
   "outputs": [],
   "source": [
    "Q7. What qualifies ASCII text as a form of Unicode text?"
   ]
  },
  {
   "cell_type": "code",
   "execution_count": null,
   "id": "c80b04e6",
   "metadata": {},
   "outputs": [],
   "source": []
  },
  {
   "cell_type": "code",
   "execution_count": null,
   "id": "d242e298",
   "metadata": {},
   "outputs": [],
   "source": [
    "Q8. How much of an effect does the change in string types in Python 3.X have on your code?"
   ]
  }
 ],
 "metadata": {
  "kernelspec": {
   "display_name": "Python 3 (ipykernel)",
   "language": "python",
   "name": "python3"
  },
  "language_info": {
   "codemirror_mode": {
    "name": "ipython",
    "version": 3
   },
   "file_extension": ".py",
   "mimetype": "text/x-python",
   "name": "python",
   "nbconvert_exporter": "python",
   "pygments_lexer": "ipython3",
   "version": "3.9.13"
  }
 },
 "nbformat": 4,
 "nbformat_minor": 5
}
