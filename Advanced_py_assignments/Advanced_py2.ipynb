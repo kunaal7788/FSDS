{
 "cells": [
  {
   "cell_type": "markdown",
   "id": "d800c210",
   "metadata": {},
   "source": [
    "# Q1. What is the relationship between classes and modules?\n"
   ]
  },
  {
   "cell_type": "markdown",
   "id": "3aed6f59",
   "metadata": {},
   "source": [
    "In Python, a module is a file containing Python definitions and statements. A module can contain various classes, functions, and variables. The relationship between classes and modules is that a module can serve as a container for one or more classes, allowing you to organize your code in a logical manner."
   ]
  },
  {
   "cell_type": "markdown",
   "id": "3133d341",
   "metadata": {},
   "source": [
    "# Q2. How do you make instances and classes?\n"
   ]
  },
  {
   "cell_type": "markdown",
   "id": "8504280e",
   "metadata": {},
   "source": [
    "Making a Class: Define a class using the class keyword.\n",
    "\n",
    "Making an Instance: Create an instance of the class by calling the class."
   ]
  },
  {
   "cell_type": "markdown",
   "id": "5627e8fd",
   "metadata": {},
   "source": [
    "# Q3. Where and how should be class attributes created?\n"
   ]
  },
  {
   "cell_type": "markdown",
   "id": "d7437bbf",
   "metadata": {},
   "source": [
    "Class attributes should be created within the class body but outside any methods. They are shared across all instances of the class"
   ]
  },
  {
   "cell_type": "markdown",
   "id": "2e93e012",
   "metadata": {},
   "source": [
    "# Q4. Where and how are instance attributes created?\n"
   ]
  },
  {
   "cell_type": "markdown",
   "id": "fe599077",
   "metadata": {},
   "source": [
    "Instance attributes are created within methods (typically the __init__ method) and are prefixed with self to associate them with the instance"
   ]
  },
  {
   "cell_type": "markdown",
   "id": "a71c38dd",
   "metadata": {},
   "source": [
    "# Q5. What does the term &quot;self&quot; in a Python class mean?\n"
   ]
  },
  {
   "cell_type": "markdown",
   "id": "e0b144e8",
   "metadata": {},
   "source": [
    "The term self in a Python class refers to the instance of the class through which the method is being called. It is used to access instance attributes and other methods from within the class. It is passed automatically and is not needed to be specified when calling the method."
   ]
  },
  {
   "cell_type": "markdown",
   "id": "6d95c99b",
   "metadata": {},
   "source": [
    "# Q6. How does a Python class handle operator overloading?\n"
   ]
  },
  {
   "cell_type": "markdown",
   "id": "488fafd4",
   "metadata": {},
   "source": [
    "A Python class handles operator overloading by defining special methods (also known as magic methods) that correspond to different operators. For example:\n",
    "\n",
    "__add__ for +\n",
    "\n",
    "__sub__ for -\n",
    "\n",
    "__mul__ for *\n",
    "\n",
    "__truediv__ for /"
   ]
  },
  {
   "cell_type": "markdown",
   "id": "cb4bc5e7",
   "metadata": {},
   "source": [
    "# Q7. When do you consider allowing operator overloading of your classes?\n",
    "\n",
    "\n"
   ]
  },
  {
   "cell_type": "markdown",
   "id": "144973e9",
   "metadata": {},
   "source": [
    "Consider allowing operator overloading in your classes when:\n",
    "\n",
    "It makes the class more intuitive and easier to use.\n",
    "The operations you define for your class are meaningful and commonly used. \n",
    "It improves code readability and usability, enabling your custom objects to behave like built-in types."
   ]
  },
  {
   "cell_type": "markdown",
   "id": "25ac5c4e",
   "metadata": {},
   "source": [
    "# Q8. What is the most popular form of operator overloading?\n"
   ]
  },
  {
   "cell_type": "markdown",
   "id": "48c5fc28",
   "metadata": {},
   "source": [
    "The most popular form of operator overloading is probably the overloading of arithmetic operators, such as + (addition) and == (equality). These are commonly used to enable custom objects to interact using standard arithmetic and comparison operations."
   ]
  },
  {
   "cell_type": "markdown",
   "id": "b148803c",
   "metadata": {},
   "source": [
    "# Q9. What are the two most important concepts to grasp in order to comprehend Python OOP code?"
   ]
  },
  {
   "cell_type": "markdown",
   "id": "06e609a9",
   "metadata": {},
   "source": [
    "The two most important concepts to grasp in order to comprehend Python OOP code are:\n",
    "\n",
    "Classes and Instances: Understanding the difference between a class (the blueprint) and an instance (an object created from the blueprint). This includes knowing how to define classes and create instances.\n",
    "Inheritance and Polymorphism: Understanding how classes can inherit attributes and methods from other classes (inheritance) and how instances of different classes can be treated as instances of the same class through a common interface (polymorphism). This includes grasping how method overriding and operator overloading work."
   ]
  }
 ],
 "metadata": {
  "kernelspec": {
   "display_name": "Python 3 (ipykernel)",
   "language": "python",
   "name": "python3"
  },
  "language_info": {
   "codemirror_mode": {
    "name": "ipython",
    "version": 3
   },
   "file_extension": ".py",
   "mimetype": "text/x-python",
   "name": "python",
   "nbconvert_exporter": "python",
   "pygments_lexer": "ipython3",
   "version": "3.9.13"
  }
 },
 "nbformat": 4,
 "nbformat_minor": 5
}
