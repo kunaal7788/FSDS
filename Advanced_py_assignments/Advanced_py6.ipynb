{
 "cells": [
  {
   "cell_type": "markdown",
   "id": "c70596e8",
   "metadata": {},
   "source": [
    "# Q1. Describe three applications for exception processing.\n",
    "\n"
   ]
  },
  {
   "cell_type": "markdown",
   "id": "7689f40a",
   "metadata": {},
   "source": [
    "1.Error handling : \n",
    "    Ensuring your program can handle unexpected situations graceflly without crashing\n",
    "\n",
    "    try:\n",
    "    file = open('non_existent_file.txt', 'r')\n",
    "    except FileNotFoundError:\n",
    "    print(\"File not found. Please check the file path.\")\n",
    "    \n",
    "2. Resouce Management :\n",
    "    Ensuring resources such as files, network connections \n",
    "    etc. are proporly closed or released even if an error \n",
    "    occurs\n",
    "    \n",
    "    try:\n",
    "    \n",
    "    file = open('non_existent_file.txt', 'r')\n",
    "    \n",
    "    except FileNotFoundError:\n",
    "    \n",
    "    print(\"File not found. Please check the file path.\")\n",
    "\n",
    "\n",
    "3. User Input Validation:\n",
    "    Handling invalid input from users in a controlled manner.\n",
    "    \n",
    "    try:\n",
    "    \n",
    "    age = int(input(\"Enter your age: \"))\n",
    "    \n",
    "    except ValueError:\n",
    "    \n",
    "    print(\"Invalid input. Please enter a valid number.\")\n",
    "\n",
    "    "
   ]
  },
  {
   "cell_type": "markdown",
   "id": "6dba5771",
   "metadata": {},
   "source": [
    "# Q2. What happens if you don't do something extra to treat an exception?\n"
   ]
  },
  {
   "cell_type": "markdown",
   "id": "b8efbdd2",
   "metadata": {},
   "source": [
    "If you dont handle an exception , it will propogate upthe call stack. If it reaches the top level of your program without being caught,the program will terminate , and an error message will pe printed to the console.This can result in an abrupt termination of the program leading to loss of data."
   ]
  },
  {
   "cell_type": "code",
   "execution_count": null,
   "id": "e71895fd",
   "metadata": {},
   "outputs": [],
   "source": [
    "Q3. What are your options for recovering from an exception in your script?\n"
   ]
  },
  {
   "cell_type": "markdown",
   "id": "a3625509",
   "metadata": {},
   "source": [
    "1.Retry the Operation:\n",
    "Retry connecting to a network service if the first attempt fails\n",
    "    \n",
    "2.Fallback to a Default Behavior:\n",
    "Use default settings if a configuration file is missing\n",
    "\n",
    "3.Log the Error and Continue:\n",
    "Log an error message and continue processing other tasks"
   ]
  },
  {
   "cell_type": "code",
   "execution_count": null,
   "id": "8b5b38a0",
   "metadata": {},
   "outputs": [],
   "source": [
    "Q4. Describe two methods for triggering exceptions in your script.\n"
   ]
  },
  {
   "cell_type": "markdown",
   "id": "735a6b98",
   "metadata": {},
   "source": [
    "1. Using the raise Statement:\n",
    "     Explicitly raising a custom exception when a specific condition is met \n",
    "        class CustomError(Exception):\n",
    "            pass\n",
    "\n",
    "        def check_value(value):\n",
    "            if value < 0:\n",
    "                raise CustomError(\"Value cannot be negative\")\n",
    "\n",
    "        check_value(-1)\n",
    "\n",
    "2.Using Built-in Functions and Operations:\n",
    "Triggering an exception through operations that can fail, such as division by zero or accessing a non-existent list index.\n",
    "    \n",
    "        result = 1 / 0\n",
    "\n",
    "        my_list = [1, 2, 3] \n",
    "        \n",
    "        print(my_list[5])\n"
   ]
  },
  {
   "cell_type": "code",
   "execution_count": null,
   "id": "6f2bd127",
   "metadata": {},
   "outputs": [],
   "source": [
    "Q5. Identify two methods for specifying actions to be executed at termination time, regardless of\n",
    "whether or not an exception exists."
   ]
  },
  {
   "cell_type": "markdown",
   "id": "18f700b7",
   "metadata": {},
   "source": [
    "1. Using a finally Block:Ensuring that cleanup code is always executed.\n",
    "    try:\n",
    "    file = open('example.txt', 'r')\n",
    "    except IOError as e:\n",
    "    print(f\"An error occurred: {e}\")\n",
    "    finally:\n",
    "    file.close()\n",
    "    \n",
    "2.Using Context Managers (with Statement):Automatically handling resource management, such as closing a file or releasing a lock.\n",
    "    with open('example.txt', 'r') as file:"
   ]
  },
  {
   "cell_type": "code",
   "execution_count": null,
   "id": "253350c8",
   "metadata": {},
   "outputs": [],
   "source": []
  }
 ],
 "metadata": {
  "kernelspec": {
   "display_name": "Python 3 (ipykernel)",
   "language": "python",
   "name": "python3"
  },
  "language_info": {
   "codemirror_mode": {
    "name": "ipython",
    "version": 3
   },
   "file_extension": ".py",
   "mimetype": "text/x-python",
   "name": "python",
   "nbconvert_exporter": "python",
   "pygments_lexer": "ipython3",
   "version": "3.9.13"
  }
 },
 "nbformat": 4,
 "nbformat_minor": 5
}
