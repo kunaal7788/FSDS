{
 "cells": [
  {
   "cell_type": "markdown",
   "id": "295b2e75",
   "metadata": {},
   "source": [
    "# Q1. Which two operator overloading methods can you use in your classes to support iteration?\n",
    "\n"
   ]
  },
  {
   "cell_type": "markdown",
   "id": "610a4ca5",
   "metadata": {},
   "source": [
    "To support iteration in your classes, you can implement the following two operator overloading methods:\n",
    "\n",
    "__iter__: This method should return an iterator object, which is an object that implements the __next__ method.\n",
    "__next__: This method should return the next item in the iteration and raise a StopIteration exception when there are no more items."
   ]
  },
  {
   "cell_type": "markdown",
   "id": "83f72217",
   "metadata": {},
   "source": [
    "# Q2. In what contexts do the two operator overloading methods manage printing?"
   ]
  },
  {
   "cell_type": "markdown",
   "id": "b6ca8046",
   "metadata": {},
   "source": [
    "__str__:\n",
    "\n",
    "Context: The __str__ method is used to define a human-readable string representation of an object. It is called by the str() function and the print() function.\n",
    "    \n",
    "__repr__:\n",
    "\n",
    "Context: The __repr__ method is used to define an unambiguous string representation of an object that is meant for debugging and development. It is called by the repr() function and in contexts where a string representation of an object is needed in the Python shell."
   ]
  },
  {
   "cell_type": "markdown",
   "id": "ff81bf61",
   "metadata": {},
   "source": [
    "# Q3. In a class, how do you intercept slice operations?\n"
   ]
  },
  {
   "cell_type": "markdown",
   "id": "f21d1d1b",
   "metadata": {},
   "source": [
    "To intercept slice operations in a class, you need to implement the __getitem__ and __setitem__ methods. The __getitem__ method handles retrieving slices, and __setitem__ handles setting slices."
   ]
  },
  {
   "cell_type": "markdown",
   "id": "1cebe433",
   "metadata": {},
   "source": [
    "# Q4. In a class, how do you capture in-place addition?\n"
   ]
  },
  {
   "cell_type": "markdown",
   "id": "a8873da8",
   "metadata": {},
   "source": [
    "To capture in-place addition in a class, you implement the __iadd__ method. This method is called when the += operator is used."
   ]
  },
  {
   "cell_type": "markdown",
   "id": "4ad11171",
   "metadata": {},
   "source": [
    "# Q5. When is it appropriate to use operator overloading?"
   ]
  },
  {
   "cell_type": "markdown",
   "id": "672d31d8",
   "metadata": {},
   "source": [
    "Operator overloading is appropriate to use when:\n",
    "\n",
    "Intuitive Behavior: It makes the custom object more intuitive to use by mimicking the behavior of built-in types (e.g., using + for adding two custom objects).\n",
    "\n",
    "Readability and Usability: It improves the readability and usability of the code, making complex operations simpler to express and understand.\n",
    "\n",
    "Consistency: It provides a consistent and predictable interface for the class, especially when the class represents a mathematical or collection-like entity.\n",
    "\n",
    "Maintaining Invariants: It helps in maintaining class invariants and encapsulating the logic required for certain operations within the class."
   ]
  },
  {
   "cell_type": "code",
   "execution_count": null,
   "id": "f0afa4e7",
   "metadata": {},
   "outputs": [],
   "source": []
  }
 ],
 "metadata": {
  "kernelspec": {
   "display_name": "Python 3 (ipykernel)",
   "language": "python",
   "name": "python3"
  },
  "language_info": {
   "codemirror_mode": {
    "name": "ipython",
    "version": 3
   },
   "file_extension": ".py",
   "mimetype": "text/x-python",
   "name": "python",
   "nbconvert_exporter": "python",
   "pygments_lexer": "ipython3",
   "version": "3.9.13"
  }
 },
 "nbformat": 4,
 "nbformat_minor": 5
}
