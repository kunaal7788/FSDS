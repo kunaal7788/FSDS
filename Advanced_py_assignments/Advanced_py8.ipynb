{
 "cells": [
  {
   "cell_type": "markdown",
   "id": "18ce92f5",
   "metadata": {},
   "source": [
    "# Q1. What are the two latest user-defined exception constraints in Python 3.X?"
   ]
  },
  {
   "cell_type": "markdown",
   "id": "5b13ebbd",
   "metadata": {},
   "source": [
    "1.Inheriting from BaseException or Exception:\n",
    "\n",
    "All user-defined exceptions must inherit from the built-in BaseException or more commonly from Exception class. This helps ensure that they are part of the exception hierarchy and can be properly handled\n",
    "\n",
    "2.Using the raise statement with an exception instance:\n",
    "\n",
    "When raising exceptions, you should use an instance of the exception class, not the class itself."
   ]
  },
  {
   "cell_type": "markdown",
   "id": "a84922f1",
   "metadata": {},
   "source": [
    "# Q2. How are class-based exceptions that have been raised matched to handlers?\n"
   ]
  },
  {
   "cell_type": "markdown",
   "id": "9d5bc571",
   "metadata": {},
   "source": [
    "Class-based exceptions are matched to handlers using the inheritance hierarchy. When an exception is raised, Python looks for an except block that matches the exception type. It starts with the most specific type (the type of the exception that was raised) and then moves up the inheritance chain to more general types."
   ]
  },
  {
   "cell_type": "code",
   "execution_count": null,
   "id": "52599a98",
   "metadata": {},
   "outputs": [],
   "source": [
    "Q3. Describe two methods for attaching context information to exception artefacts.\n"
   ]
  },
  {
   "cell_type": "markdown",
   "id": "1d21e73e",
   "metadata": {},
   "source": [
    "1.Custom Exception Attributes:\n",
    "\n",
    "You can define custom attributes in your exception classes to store additional context information.\n",
    "\n",
    "2.__cause__ and __context__ attributes:\n",
    "\n",
    "When an exception is raised during the handling of another exception, Python sets the __context__ attribute of the new exception to the previous exception. If the new exception is explicitly raised with raise ... from ..., the __cause__ attribute is set instead."
   ]
  },
  {
   "cell_type": "code",
   "execution_count": null,
   "id": "deda6174",
   "metadata": {},
   "outputs": [],
   "source": [
    "Q4. Describe two methods for specifying the text of an exception object&#39;s error message.\n"
   ]
  },
  {
   "cell_type": "markdown",
   "id": "bf6a38a4",
   "metadata": {},
   "source": [
    "1.Passing a Message to the Exception Constructor:\n",
    "\n",
    "When raising an exception, you can pass an error message as an argument to the exception class constructor.\n",
    "\n",
    "Overriding the __str__ Method:\n",
    "\n",
    "You can override the __str__ method in a custom exception class to provide a custom error message."
   ]
  },
  {
   "cell_type": "code",
   "execution_count": null,
   "id": "1caae0bf",
   "metadata": {},
   "outputs": [],
   "source": [
    "Q5. Why do you no longer use string-based exceptions?"
   ]
  },
  {
   "cell_type": "markdown",
   "id": "15423dd6",
   "metadata": {},
   "source": [
    "String-based exceptions are not used in modern Python (3.x) for several reasons:\n",
    "\n",
    "1.Lack of Hierarchy and Specificity: String-based exceptions do not support inheritance, making it difficult to categorize and handle exceptions in a structured manner.\n",
    "    \n",
    "2. Less Descriptive and Informative: Class-based exceptions can encapsulate more information, such as attributes and methods, which provide more context and allow for more detailed error handling\n",
    "    .\n",
    "3. Compatibility and Best Practices: Modern Python follows object-oriented principles where exceptions are expected to be instances of classes. This is consistent with other built-in exceptions and follows best practices for robust and maintainable code.\n",
    "\n",
    "4. Deprecation:  String-based exceptions have been removed in Python 3.x, making class-based exceptions the only supported way to raise and handle errors"
   ]
  },
  {
   "cell_type": "code",
   "execution_count": null,
   "id": "b736342a",
   "metadata": {},
   "outputs": [],
   "source": []
  }
 ],
 "metadata": {
  "kernelspec": {
   "display_name": "Python 3 (ipykernel)",
   "language": "python",
   "name": "python3"
  },
  "language_info": {
   "codemirror_mode": {
    "name": "ipython",
    "version": 3
   },
   "file_extension": ".py",
   "mimetype": "text/x-python",
   "name": "python",
   "nbconvert_exporter": "python",
   "pygments_lexer": "ipython3",
   "version": "3.9.13"
  }
 },
 "nbformat": 4,
 "nbformat_minor": 5
}
