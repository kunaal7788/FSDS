{
 "cells": [
  {
   "cell_type": "markdown",
   "id": "a76ace64",
   "metadata": {},
   "source": [
    "# Q1. What is the difference between __getattr__ and __getattribute__?"
   ]
  },
  {
   "cell_type": "markdown",
   "id": "706d91cd",
   "metadata": {},
   "source": [
    "__getattr__ is a special method in Python classes that is invoked when attempting to access an attribute that doesn't exist through normal lookup. It acts as a fallback mechanism. When an attribute is accessed on an instance, Python first checks if the attribute exists in the instance's\n",
    "__dict__ (or its class and its parent classes). If not found, __getattr__ is called with the name of the attribute as an argument. This allows dynamic generation of attributes or retrieval from alternative sources. __getattr__ is typically used to provide default behaviors or handle attribute access that's not directly defined on the instance.\n",
    "\n",
    "__getattribute__, on the other hand, is a more powerful special method that intercepts every attribute access on an instance, regardless of whether the attribute exists or not. It is called before any normal attribute access mechanism. This method allows for complete customization of attribute access behavior. However, because it intercepts all attribute accesses, it must be used carefully to avoid unintentional recursion (calling self.attribute within __getattribute__ can lead to recursion)."
   ]
  },
  {
   "cell_type": "markdown",
   "id": "4d13feb4",
   "metadata": {},
   "source": [
    "# Q2. What is the difference between properties and descriptors?\n",
    "\n"
   ]
  },
  {
   "cell_type": "markdown",
   "id": "82cb8d29",
   "metadata": {},
   "source": [
    "\n",
    "Properties provide a high-level way to manage attribute access within a single class. They allow defining methods that act like attributes, providing a way to add behavior to attribute access without explicitly calling methods.\n",
    "\n",
    "Descriptors are a lower-level protocol in Python that allows defining objects with custom behavior for attribute access (__get__, __set__, __delete__ methods). They provide a way to define how attributes are accessed, assigned, or deleted at the class level, allowing for reuse across multiple classes."
   ]
  },
  {
   "cell_type": "markdown",
   "id": "c379dde2",
   "metadata": {},
   "source": [
    "# Q3. What are the key differences in functionality between __getattr__ and __getattribute__, as well as properties and descriptors?"
   ]
  },
  {
   "cell_type": "markdown",
   "id": "a9914f41",
   "metadata": {},
   "source": [
    "__getattr__ vs __getattribute__:\n",
    "\n",
    "__getattr__ is invoked when an attribute is accessed and not found through normal lookup. It acts as a fallback mechanism for attribute retrieval.\n",
    "\n",
    "__getattribute__ intercepts every attribute access, whether the attribute exists or not, allowing complete customization of attribute access behavior. It is called before any normal attribute access mechanism.\n",
    "\n",
    "=========================================================\n",
    "\n",
    "Properties vs Descriptors:\n",
    "Properties provide a high-level way to manage attribute access within a single class using the @property decorator. They allow defining methods that act like attributes, providing a way to add behavior to attribute access.\n",
    "\n",
    "Descriptors are a lower-level protocol that allows defining objects with custom behavior for attribute access (__get__, __set__, __delete__ methods). They offer more flexibility and reusability across multiple classes, allowing for fine-grained control over attribute access, assignment, or deletion."
   ]
  },
  {
   "cell_type": "code",
   "execution_count": null,
   "id": "405201f1",
   "metadata": {},
   "outputs": [],
   "source": []
  }
 ],
 "metadata": {
  "kernelspec": {
   "display_name": "Python 3 (ipykernel)",
   "language": "python",
   "name": "python3"
  },
  "language_info": {
   "codemirror_mode": {
    "name": "ipython",
    "version": 3
   },
   "file_extension": ".py",
   "mimetype": "text/x-python",
   "name": "python",
   "nbconvert_exporter": "python",
   "pygments_lexer": "ipython3",
   "version": "3.9.13"
  }
 },
 "nbformat": 4,
 "nbformat_minor": 5
}
