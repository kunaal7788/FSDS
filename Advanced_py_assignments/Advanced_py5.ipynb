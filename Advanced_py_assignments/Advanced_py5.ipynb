{
 "cells": [
  {
   "cell_type": "markdown",
   "id": "0ecdc6dc",
   "metadata": {},
   "source": [
    "# Q1. What is the meaning of multiple inheritance?\n"
   ]
  },
  {
   "cell_type": "markdown",
   "id": "23df6324",
   "metadata": {},
   "source": [
    "Multiple inheritance is a feature in object-oriented programming that allows a class to inherit attributes and methods from more than one parent class. This enables a subclass to combine the functionality of multiple parent classes."
   ]
  },
  {
   "cell_type": "markdown",
   "id": "64b8fe9d",
   "metadata": {},
   "source": [
    "# Q2. What is the concept of delegation?\n",
    "\n",
    "\n",
    "\n"
   ]
  },
  {
   "cell_type": "markdown",
   "id": "ae5191f6",
   "metadata": {},
   "source": [
    "Delegation is a design pattern where an object handles a request by passing it to a second \"delegate\" object. Instead of performing the task itself, the original object delegates the task to another object."
   ]
  },
  {
   "cell_type": "markdown",
   "id": "ca33fd5f",
   "metadata": {},
   "source": [
    "# Q3. What is the concept of composition?\n"
   ]
  },
  {
   "cell_type": "markdown",
   "id": "ca15b40f",
   "metadata": {},
   "source": [
    "Composition is a design principle where a class is composed of one or more objects of other classes, implying a \"has-a\" relationship. Instead of inheriting from a class, a class includes instances of other classes to reuse their functionality."
   ]
  },
  {
   "cell_type": "markdown",
   "id": "835241fa",
   "metadata": {},
   "source": [
    "# Q4. What are bound methods and how do we use them?\n"
   ]
  },
  {
   "cell_type": "markdown",
   "id": "812146f8",
   "metadata": {},
   "source": [
    "Bound methods are methods that are associated with an instance of a class. When you access a method on an instance, it is automatically bound to that instance, meaning it can access the instance's attributes and other methods."
   ]
  },
  {
   "cell_type": "markdown",
   "id": "38626c8a",
   "metadata": {},
   "source": [
    "# Q5. What is the purpose of pseudoprivate attributes?"
   ]
  },
  {
   "cell_type": "markdown",
   "id": "27aaada6",
   "metadata": {},
   "source": [
    "Pseudoprivate attributes are a way to avoid naming conflicts in subclasses, especially when dealing with inheritance. They are indicated by prefixing the attribute name with double underscores (__). This triggers name mangling, where the attribute name is changed internally to include the class name, making it less likely to be overridden accidentally by subclasses."
   ]
  },
  {
   "cell_type": "code",
   "execution_count": null,
   "id": "4df88809",
   "metadata": {},
   "outputs": [],
   "source": []
  }
 ],
 "metadata": {
  "kernelspec": {
   "display_name": "Python 3 (ipykernel)",
   "language": "python",
   "name": "python3"
  },
  "language_info": {
   "codemirror_mode": {
    "name": "ipython",
    "version": 3
   },
   "file_extension": ".py",
   "mimetype": "text/x-python",
   "name": "python",
   "nbconvert_exporter": "python",
   "pygments_lexer": "ipython3",
   "version": "3.9.13"
  }
 },
 "nbformat": 4,
 "nbformat_minor": 5
}
