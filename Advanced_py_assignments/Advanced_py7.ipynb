{
 "cells": [
  {
   "cell_type": "markdown",
   "id": "ce39a7da",
   "metadata": {},
   "source": [
    "# Q1. What is the purpose of the try statement?\n",
    "\n"
   ]
  },
  {
   "cell_type": "markdown",
   "id": "445545f9",
   "metadata": {},
   "source": [
    "The purpose of the try statement is to catch and handle exceptions that may occur during the execution of a block of code. By using a try statement, you can define a block of code to be tested for errors while it is being executed, and specify what should happen if an error occurs."
   ]
  },
  {
   "cell_type": "markdown",
   "id": "1a8a947c",
   "metadata": {},
   "source": [
    "# Q2. What are the two most popular try statement variations?\n"
   ]
  },
  {
   "cell_type": "markdown",
   "id": "8323f218",
   "metadata": {},
   "source": [
    "1.try / except:\n",
    "\n",
    "Purpose: To handle specific exceptions that may occur in the try block.\n",
    "\n",
    "2.try / except / finally:\n",
    "\n",
    "Purpose: To ensure that cleanup code is always executed, regardless of whether an exception occurs or not."
   ]
  },
  {
   "cell_type": "markdown",
   "id": "7c7474f5",
   "metadata": {},
   "source": [
    "# Q3. What is the purpose of the raise statement?"
   ]
  },
  {
   "cell_type": "markdown",
   "id": "f61d255b",
   "metadata": {},
   "source": [
    "The purpose of the raise statement is to trigger an exception manually. This can be useful when you want to signal an error condition or when you want to re-raise an exception that was caught in an except block."
   ]
  },
  {
   "cell_type": "markdown",
   "id": "09929405",
   "metadata": {},
   "source": [
    "# Q4. What does the assert statement do, and what other statement is it like?\n"
   ]
  },
  {
   "cell_type": "markdown",
   "id": "9bbaa5de",
   "metadata": {},
   "source": [
    "The assert statement is used to test if a condition is true. If the condition is false, an AssertionError exception is raised. It is often used for debugging purposes to ensure that the program is functioning as expected."
   ]
  },
  {
   "cell_type": "markdown",
   "id": "acabb23e",
   "metadata": {},
   "source": [
    "# Q5. What is the purpose of the with/as argument, and what other statement is it like?\n"
   ]
  },
  {
   "cell_type": "markdown",
   "id": "3a13ba8a",
   "metadata": {},
   "source": [
    "The with/as statement is used for resource management. It ensures that resources are properly acquired and released. The most common use case is for file handling, where it ensures that a file is properly closed after its suite finishes, even if an exception occurs."
   ]
  },
  {
   "cell_type": "code",
   "execution_count": null,
   "id": "315d2d6b",
   "metadata": {},
   "outputs": [],
   "source": []
  }
 ],
 "metadata": {
  "kernelspec": {
   "display_name": "Python 3 (ipykernel)",
   "language": "python",
   "name": "python3"
  },
  "language_info": {
   "codemirror_mode": {
    "name": "ipython",
    "version": 3
   },
   "file_extension": ".py",
   "mimetype": "text/x-python",
   "name": "python",
   "nbconvert_exporter": "python",
   "pygments_lexer": "ipython3",
   "version": "3.9.13"
  }
 },
 "nbformat": 4,
 "nbformat_minor": 5
}
