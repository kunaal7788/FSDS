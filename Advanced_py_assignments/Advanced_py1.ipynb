{
 "cells": [
  {
   "cell_type": "markdown",
   "id": "2c32c290",
   "metadata": {},
   "source": [
    "# Q1. What is the purpose of Python OOP?\n"
   ]
  },
  {
   "cell_type": "markdown",
   "id": "0a2a1bb7",
   "metadata": {},
   "source": [
    "The purpose of python in oops is to provide a programming paradigm that uses objects and classes to structure software in a way that is modular ,reusable, and earsier to maintain. OOP allows developers to create objects  that model real-world entities,encapsulate data.This approach prmotes code reusability,scalability.\n"
   ]
  },
  {
   "cell_type": "markdown",
   "id": "0dd1e1a1",
   "metadata": {},
   "source": [
    "# Q2. Where does an inheritance search look for an attribute?\n"
   ]
  },
  {
   "cell_type": "markdown",
   "id": "48c43fde",
   "metadata": {},
   "source": [
    "An Inheritance search looks for an attribute by following the method resolution order which typically proceedsa as follow :\n",
    "\n",
    "        instance: check the instance itself\n",
    "        class : check the class of instance \n",
    "        Superclasses:check the class's superclasses."
   ]
  },
  {
   "cell_type": "code",
   "execution_count": null,
   "id": "ee82f4fd",
   "metadata": {
    "collapsed": true
   },
   "outputs": [],
   "source": [
    "Q3. How do you distinguish between a class object and an instance object?\n"
   ]
  },
  {
   "cell_type": "markdown",
   "id": "6cd43cff",
   "metadata": {},
   "source": [
    "class object : a class object is created by defining a class using the 'class' keyword. It serves as a blueprint for creating instance.\n",
    "\n",
    "    class Myclass:\n",
    "        pass\n",
    "\n",
    "Instance Object : An Instance Object is created by calling class object,which creates an individual object of that class\n",
    "\n",
    "    my_instance = Myclass()"
   ]
  },
  {
   "cell_type": "code",
   "execution_count": null,
   "id": "3337ccdd",
   "metadata": {
    "collapsed": true
   },
   "outputs": [],
   "source": [
    "Q4. What makes the first argument in a class’s method function special?\n"
   ]
  },
  {
   "cell_type": "markdown",
   "id": "d7d9f1b3",
   "metadata": {},
   "source": [
    "The first argument in a class's method function is conventionally named self. It is special because it refers to the instance of the class through which the method is being invoked. This allows the method to access and modify the attributes and other methods of the instance."
   ]
  },
  {
   "cell_type": "code",
   "execution_count": null,
   "id": "68755dd7",
   "metadata": {
    "collapsed": true
   },
   "outputs": [],
   "source": [
    "Q5. What is the purpose of the __init__ method?\n"
   ]
  },
  {
   "cell_type": "markdown",
   "id": "ba4c1689",
   "metadata": {},
   "source": [
    "The __init__ method is a special method in Python, also known as the constructor. It is called automatically when a new instance of the class is created. Its primary purpose is to initialize the instance's attributes with the values provided as arguments."
   ]
  },
  {
   "cell_type": "code",
   "execution_count": null,
   "id": "8d8f22c7",
   "metadata": {
    "collapsed": true
   },
   "outputs": [],
   "source": [
    "Q6. What is the process for creating a class instance?\n"
   ]
  },
  {
   "cell_type": "markdown",
   "id": "1dbfa5b1",
   "metadata": {},
   "source": [
    "To create a class instance, you nfirstly need to define the class \n",
    "and then create an instane of tht class by calling the class object with paranthesis\n",
    "\n",
    "    class Myclass:\n",
    "        pass\n",
    "    my_instance=Myclass()"
   ]
  },
  {
   "cell_type": "code",
   "execution_count": null,
   "id": "2a752c54",
   "metadata": {
    "collapsed": true
   },
   "outputs": [],
   "source": [
    "Q7. What is the process for creating a class?\n"
   ]
  },
  {
   "cell_type": "markdown",
   "id": "af3f54a0",
   "metadata": {},
   "source": [
    "To create a class, you use the class keyword followed by the class name and a colon. Inside the class definition, you can define methods and attributes. "
   ]
  },
  {
   "cell_type": "code",
   "execution_count": null,
   "id": "41519adb",
   "metadata": {
    "collapsed": true
   },
   "outputs": [],
   "source": [
    "Q8. How would you define the superclasses of a class?"
   ]
  },
  {
   "cell_type": "markdown",
   "id": "e5afee46",
   "metadata": {},
   "source": [
    "You define the superclasses of a class by specifying them in parentheses after the class name. This is known as inheritance"
   ]
  },
  {
   "cell_type": "code",
   "execution_count": null,
   "id": "f9f76f4f",
   "metadata": {},
   "outputs": [],
   "source": []
  }
 ],
 "metadata": {
  "kernelspec": {
   "display_name": "Python 3 (ipykernel)",
   "language": "python",
   "name": "python3"
  },
  "language_info": {
   "codemirror_mode": {
    "name": "ipython",
    "version": 3
   },
   "file_extension": ".py",
   "mimetype": "text/x-python",
   "name": "python",
   "nbconvert_exporter": "python",
   "pygments_lexer": "ipython3",
   "version": "3.9.13"
  }
 },
 "nbformat": 4,
 "nbformat_minor": 5
}
