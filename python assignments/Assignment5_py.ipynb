{
 "cells": [
  {
   "cell_type": "markdown",
   "id": "b841d710",
   "metadata": {},
   "source": [
    "# Q1. What does an empty dictionary's code look like?"
   ]
  },
  {
   "cell_type": "code",
   "execution_count": 1,
   "id": "31d2ffca",
   "metadata": {},
   "outputs": [],
   "source": [
    "dict = { }"
   ]
  },
  {
   "cell_type": "markdown",
   "id": "b1695d01",
   "metadata": {},
   "source": [
    "this is the code for empty dictionary"
   ]
  },
  {
   "cell_type": "markdown",
   "id": "5a2202d1",
   "metadata": {},
   "source": [
    "# Q2. What is the value of a dictionary value with the key \"foo\"  and the value 42?"
   ]
  },
  {
   "cell_type": "code",
   "execution_count": 3,
   "id": "acf54de7",
   "metadata": {},
   "outputs": [
    {
     "data": {
      "text/plain": [
       "{'foo': 42}"
      ]
     },
     "execution_count": 3,
     "metadata": {},
     "output_type": "execute_result"
    }
   ],
   "source": [
    "dict ={\"foo\":42}\n",
    "dict"
   ]
  },
  {
   "cell_type": "markdown",
   "id": "8988005b",
   "metadata": {},
   "source": [
    "this is the code for dictionary with key 'foo' and value 42\n"
   ]
  },
  {
   "cell_type": "markdown",
   "id": "032e1c16",
   "metadata": {},
   "source": [
    "# Q3.What is the most significant distinction between a dictionary and a list?"
   ]
  },
  {
   "cell_type": "markdown",
   "id": "1ad9b710",
   "metadata": {},
   "source": [
    "The main difference is the way they organize and access data .\n",
    "\n",
    "A list is an ordered collection accessed by index ,where elements are stored sequentially. \n",
    "\n",
    "On the other hand a dictionary is an unordered collection accessed by keys ,each element being a key_value pair. \n"
   ]
  },
  {
   "cell_type": "markdown",
   "id": "425ef4d1",
   "metadata": {},
   "source": [
    "# Q4. What happens if you try to access spam['foo']  if spam is {'bar': 100}?"
   ]
  },
  {
   "cell_type": "markdown",
   "id": "dd8ad720",
   "metadata": {},
   "source": [
    "this will give 'KeyError'.In the dictionary spam ,there is no key like 'foo' and In Python if we are attempting to access a key in dictionary that does not exist results in a \"KeyError\" being raised"
   ]
  },
  {
   "cell_type": "markdown",
   "id": "ff278638",
   "metadata": {},
   "source": [
    "# Q5. If a dictionary is stored in spam, what is the difference between the expressions \"cat\" in spam and\"cat\" in spam.keys()?"
   ]
  },
  {
   "cell_type": "markdown",
   "id": "c6dfa0de",
   "metadata": {},
   "source": [
    "The expressions \"cat\" in spam and \"cat\" in spam.keys() are functionally equivalent when checking for the existence of a key in a dictionary spam. Both check if \"cat\" is a key in the dictionary and return True if it is, and False otherwise. While spam.keys() returns a view of the dictionary’s keys, the in operator inherently works on the keys of the dictionary, making both expressions effectively the same in terms of functionality and performance."
   ]
  },
  {
   "cell_type": "markdown",
   "id": "80a7f735",
   "metadata": {},
   "source": [
    "# Q6. If a dictionary is stored in spam, what is the difference between the expressions \"cat\" in spam and\"cat\" in spam.values()?"
   ]
  },
  {
   "cell_type": "markdown",
   "id": "8ba972f7",
   "metadata": {},
   "source": [
    "The expressions \"cat\" in spam and \"cat\" in spam.values() check different aspects of the dictionary spam. \"cat\" in spam checks if \"cat\" is a key in the dictionary and returns True if it is, otherwise it returns False. In contrast, \"cat\" in spam.values() checks if \"cat\" is one of the values in the dictionary, returning True if it is, and False if it is not. Thus, the former checks for a key, while the latter checks for a value."
   ]
  },
  {
   "cell_type": "markdown",
   "id": "5b1b859e",
   "metadata": {},
   "source": [
    "# Q7. What is a shortcut for the following code?\n",
    "\n",
    "if 'color' not in spam:\n",
    "spam['color'] = 'black'"
   ]
  },
  {
   "cell_type": "markdown",
   "id": "f5bc63de",
   "metadata": {},
   "source": [
    "spam.setdefault('color', 'black') \n",
    "\n",
    "this is another way we can write the code"
   ]
  },
  {
   "cell_type": "markdown",
   "id": "4cb345a3",
   "metadata": {},
   "source": [
    "# Q8. How do you 'pretty print' dictionary values using which module and function?"
   ]
  },
  {
   "cell_type": "code",
   "execution_count": null,
   "id": "5deb7b7c",
   "metadata": {},
   "outputs": [],
   "source": [
    "To pretty print dictionary values, you can use the pprint module's pprint() function. \n",
    "\n",
    "import pprint\n",
    "my_dict ={'key1': 'value1', 'key2': 'value2', 'key3': 'value3'}\n",
    "ppr"
   ]
  }
 ],
 "metadata": {
  "kernelspec": {
   "display_name": "Python 3 (ipykernel)",
   "language": "python",
   "name": "python3"
  },
  "language_info": {
   "codemirror_mode": {
    "name": "ipython",
    "version": 3
   },
   "file_extension": ".py",
   "mimetype": "text/x-python",
   "name": "python",
   "nbconvert_exporter": "python",
   "pygments_lexer": "ipython3",
   "version": "3.9.13"
  }
 },
 "nbformat": 4,
 "nbformat_minor": 5
}
