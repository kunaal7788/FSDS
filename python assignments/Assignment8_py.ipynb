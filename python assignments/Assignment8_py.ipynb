{
 "cells": [
  {
   "cell_type": "markdown",
   "id": "8570ca55",
   "metadata": {},
   "source": [
    "# Q1. Is the Python Standard Library included with PyInputPlus?"
   ]
  },
  {
   "cell_type": "markdown",
   "id": "3428c2d3",
   "metadata": {},
   "source": [
    "No, the Python Standard Library is not included with PyInputplus. the Python Standard Library is a collection of modules and packages tha come pre-installed with python."
   ]
  },
  {
   "cell_type": "markdown",
   "id": "a1d69d6d",
   "metadata": {},
   "source": [
    "# 2. Why is PyInputPlus commonly imported with import pyinputplus as pypi?"
   ]
  },
  {
   "cell_type": "markdown",
   "id": "32fd7fd4",
   "metadata": {},
   "source": [
    "Importing PyInputPlus as pyip is a common practice to shorten the module name, making it quicker and easier to use in code. This alias improves readability and convenience, particularly when frequently calling its functions. For example, using import pyinputplus as pyip allows you to use pyip.inputStr(\"Enter a string: \") instead of repeatedly typing out the full module name. This follows a general Python convention where longer module names are abbreviated for simplicity and efficiency."
   ]
  },
  {
   "cell_type": "markdown",
   "id": "03bbe330",
   "metadata": {},
   "source": [
    "# 3. How do you distinguish between inputInt() and inputFloat()?"
   ]
  },
  {
   "cell_type": "markdown",
   "id": "330c4276",
   "metadata": {},
   "source": [
    "The inputInt() and inputFloat() functions in PyInputPlus are used to prompt the user for numerical input, with each handling different types of numbers. inputInt() ensures the input is a whole number (integer), repeatedly prompting the user until a valid integer is provided. In contrast, inputFloat() accepts numbers with decimal points (floating-point numbers), continuing to prompt until a valid float is entered. These functions help ensure the user inputs the correct type of number for the given context."
   ]
  },
  {
   "cell_type": "markdown",
   "id": "2af4b6c1",
   "metadata": {},
   "source": [
    "# 4. Using PyInputPlus, how do you ensure that the user enters a whole number between 0 and 99?"
   ]
  },
  {
   "cell_type": "markdown",
   "id": "61a23026",
   "metadata": {},
   "source": [
    "To ensure that the user enters a whole number between 0 and 99 using PyInputPlus, you can use the inputInt() function with the min and max parameters. These parameters set the allowable range for the input.\n",
    "\n",
    "import pyinputplus as pyip\n",
    "\n",
    "number = pyip.inputInt(\"Enter a whole number between 0 and 99: \", min=0, max=99)\n",
    "print(f\"You entered: {number}\")\n",
    "\n",
    "    In this code, inputInt() prompts the user to enter a number, and the min=0 and max=99 parameters ensure that the input must be an integer within the specified range. If the user enters a number outside this range, the function will continue to prompt until a valid input is provided."
   ]
  },
  {
   "cell_type": "markdown",
   "id": "2d62e66e",
   "metadata": {},
   "source": [
    "# 5. What is transferred to the keyword arguments allowRegexes and blockRegexes?"
   ]
  },
  {
   "cell_type": "markdown",
   "id": "11a0b8d4",
   "metadata": {},
   "source": [
    "The allowRegexes and blockRegexes keyword arguments in PyInputPlus are used to specify regular expressions (regex) for fine-tuning the validation of user input. These arguments can be used to explicitly allow or block certain patterns in the input. \n",
    "\n",
    "allowRegexes: This keyword argument accepts a list of regex patterns that define what inputs are allowed. If an input matches any of the regex patterns in this list, it will be accepted even if it doesn't meet the usual validation criteria.\n",
    "    \n",
    "blockRegexes: This keyword argument accepts a list of regex patterns that define what inputs are blocked. If an input matches any of the regex patterns in this list, it will be rejected even if it meets the usual validation criteria.    "
   ]
  },
  {
   "cell_type": "markdown",
   "id": "7bdf72ff",
   "metadata": {},
   "source": [
    "# 6. If a blank input is entered three times, what does inputStr(limit=3) do?"
   ]
  },
  {
   "cell_type": "markdown",
   "id": "1118f62e",
   "metadata": {},
   "source": [
    "When using inputStr(limit=3) from PyInputPlus, if a blank input is entered three times, a RetryLimitException will be raised. The limit parameter specifies the maximum number of attempts the user is allowed to input valid data. If the user fails to provide a valid input within the specified number of attempts, the exception is triggered."
   ]
  },
  {
   "cell_type": "markdown",
   "id": "201eae06",
   "metadata": {},
   "source": [
    "# 7. If blank input is entered three times, what does inputStr(limit=3, default=&#39;hello&#39;) do?"
   ]
  },
  {
   "cell_type": "markdown",
   "id": "4434188f",
   "metadata": {},
   "source": [
    "If a blank input is entered three times while using inputStr(limit=3, default='hello') from PyInputPlus, the function will return the default value 'hello' instead of raising an exception. The limit parameter specifies the maximum number of attempts, and the default parameter provides a fallback value if the user fails to enter valid input within the allowed attempts."
   ]
  },
  {
   "cell_type": "code",
   "execution_count": null,
   "id": "bd712f79",
   "metadata": {},
   "outputs": [],
   "source": []
  }
 ],
 "metadata": {
  "kernelspec": {
   "display_name": "Python 3 (ipykernel)",
   "language": "python",
   "name": "python3"
  },
  "language_info": {
   "codemirror_mode": {
    "name": "ipython",
    "version": 3
   },
   "file_extension": ".py",
   "mimetype": "text/x-python",
   "name": "python",
   "nbconvert_exporter": "python",
   "pygments_lexer": "ipython3",
   "version": "3.9.13"
  }
 },
 "nbformat": 4,
 "nbformat_minor": 5
}
