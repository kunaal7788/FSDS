{
 "cells": [
  {
   "cell_type": "markdown",
   "id": "cee577a3",
   "metadata": {},
   "source": [
    "# Q1.What exactly is []?"
   ]
  },
  {
   "cell_type": "markdown",
   "id": "9991d948",
   "metadata": {},
   "source": [
    "in Python .[]denotes an empty list , a data structure capable of holding an ordered collection of elemetns . Lists are versatile and mutable ,meaning thier contents can be modified after creation. "
   ]
  },
  {
   "cell_type": "markdown",
   "id": "fa5d7977",
   "metadata": {},
   "source": [
    "# Q2. In a list of values stored in a variable called spam, how would you assign the value &#39;hello&#39; as thethird value? (Assume [2, 4, 6, 8, 10] are in spam.)"
   ]
  },
  {
   "cell_type": "code",
   "execution_count": 8,
   "id": "68edae31",
   "metadata": {},
   "outputs": [
    {
     "data": {
      "text/plain": [
       "[2, 4, 'Hello', 8, 10]"
      ]
     },
     "execution_count": 8,
     "metadata": {},
     "output_type": "execute_result"
    }
   ],
   "source": [
    "spam = [2,4,5,8,10]\n",
    "spam[2]=\"Hello\"\n",
    "spam"
   ]
  },
  {
   "cell_type": "markdown",
   "id": "a0f34a48",
   "metadata": {},
   "source": [
    " # Let's pretend the spam includes the list ['a','b','c'] for the next three queries.\n"
   ]
  },
  {
   "cell_type": "markdown",
   "id": "7459b733",
   "metadata": {},
   "source": [
    "# 3. What is the value of spam[int(int('3'*2)/11)]?"
   ]
  },
  {
   "cell_type": "code",
   "execution_count": 5,
   "id": "f5f53420",
   "metadata": {},
   "outputs": [
    {
     "data": {
      "text/plain": [
       "'d'"
      ]
     },
     "execution_count": 5,
     "metadata": {},
     "output_type": "execute_result"
    }
   ],
   "source": [
    "spam= ['a','b','c','d']\n",
    "\n",
    "spam[int(int('3'*2)/11)]"
   ]
  },
  {
   "cell_type": "markdown",
   "id": "362f4e4c",
   "metadata": {},
   "source": [
    "explaination -\n",
    "'3' *2 evaluates to the string'33' \n",
    "\n",
    "int(33) converts it to integer \n",
    "\n",
    "int('33')/11 evaluates 33/11 which is 3.0\n",
    "\n",
    "int (3.0) converts the floating point to integer 3\n",
    "\n",
    "spam[3]access the element at the index '3' \n",
    "\n",
    "so it will give output 'd'"
   ]
  },
  {
   "cell_type": "markdown",
   "id": "1c15bd46",
   "metadata": {},
   "source": [
    "# Q4. What is the value of spam[-1]?"
   ]
  },
  {
   "cell_type": "code",
   "execution_count": 7,
   "id": "9a6e26c4",
   "metadata": {},
   "outputs": [
    {
     "data": {
      "text/plain": [
       "'d'"
      ]
     },
     "execution_count": 7,
     "metadata": {},
     "output_type": "execute_result"
    }
   ],
   "source": [
    "spam[-1]"
   ]
  },
  {
   "cell_type": "markdown",
   "id": "08241d34",
   "metadata": {},
   "source": [
    "explaination - the given code tries to print the value in the list present at the index -1 i.e first element from the last ,so it prints 'd' as it is the last element"
   ]
  },
  {
   "cell_type": "markdown",
   "id": "1769df83",
   "metadata": {},
   "source": [
    "# Q5 What is the value of spam[:2]?"
   ]
  },
  {
   "cell_type": "code",
   "execution_count": 8,
   "id": "506b7107",
   "metadata": {},
   "outputs": [
    {
     "data": {
      "text/plain": [
       "'c'"
      ]
     },
     "execution_count": 8,
     "metadata": {},
     "output_type": "execute_result"
    }
   ],
   "source": [
    "spam[-2]"
   ]
  },
  {
   "cell_type": "markdown",
   "id": "6c72acd6",
   "metadata": {},
   "source": [
    "explaination - the given code tries to print value present at the index '-2' i.e last second index "
   ]
  },
  {
   "cell_type": "markdown",
   "id": "e27b52e7",
   "metadata": {},
   "source": [
    "# Let';s pretend bacon has the list [3.14,'cat',11,'cat',True]  for the next three questions."
   ]
  },
  {
   "cell_type": "code",
   "execution_count": 1,
   "id": "e7871a4a",
   "metadata": {},
   "outputs": [],
   "source": [
    "bacon =[3.14,'cat',11,'cat',True]\n"
   ]
  },
  {
   "cell_type": "markdown",
   "id": "ef8651a8",
   "metadata": {},
   "source": [
    "# Q6. What is the value of bacon.index('cat')?"
   ]
  },
  {
   "cell_type": "code",
   "execution_count": 13,
   "id": "c9a7a2f5",
   "metadata": {},
   "outputs": [
    {
     "data": {
      "text/plain": [
       "1"
      ]
     },
     "execution_count": 13,
     "metadata": {},
     "output_type": "execute_result"
    }
   ],
   "source": [
    "bacon.index('cat')"
   ]
  },
  {
   "cell_type": "markdown",
   "id": "6598753c",
   "metadata": {},
   "source": [
    "explaination - \n",
    "bacon.index('cat') is trying to print the index of the value 'cat' in the given list . 'cat' is present at index 1 "
   ]
  },
  {
   "cell_type": "markdown",
   "id": "c42367f5",
   "metadata": {},
   "source": [
    "# Q7 How does bacon.append(99) change the look of the list value in bacon?"
   ]
  },
  {
   "cell_type": "markdown",
   "id": "83a7e61e",
   "metadata": {},
   "source": [
    "if we apply bacon.append(99) the list will be appended with 99 at the end of list \n"
   ]
  },
  {
   "cell_type": "code",
   "execution_count": 2,
   "id": "9b5f0a95",
   "metadata": {},
   "outputs": [
    {
     "data": {
      "text/plain": [
       "[3.14, 'cat', 11, 'cat', True, 99]"
      ]
     },
     "execution_count": 2,
     "metadata": {},
     "output_type": "execute_result"
    }
   ],
   "source": [
    "bacon.append(99)\n",
    "bacon"
   ]
  },
  {
   "cell_type": "markdown",
   "id": "699e998f",
   "metadata": {},
   "source": [
    "# Q8. How does bacon.remove('cat') change the look of the list in bacon?"
   ]
  },
  {
   "cell_type": "markdown",
   "id": "633ba507",
   "metadata": {},
   "source": [
    "if we apply bacon.remove(\"cat\") , the value 'cat' will be removed from the list and it will look like :\n",
    "    bacon= [3.14, 11, 'cat', True, 99]\n",
    "As 'cat' is occured twice in the list it will remove only one value from the start "
   ]
  },
  {
   "cell_type": "code",
   "execution_count": 3,
   "id": "a97a55e3",
   "metadata": {},
   "outputs": [],
   "source": [
    "bacon.remove('cat')"
   ]
  },
  {
   "cell_type": "code",
   "execution_count": 4,
   "id": "ff565b4e",
   "metadata": {},
   "outputs": [
    {
     "data": {
      "text/plain": [
       "[3.14, 11, 'cat', True, 99]"
      ]
     },
     "execution_count": 4,
     "metadata": {},
     "output_type": "execute_result"
    }
   ],
   "source": [
    "bacon"
   ]
  },
  {
   "cell_type": "markdown",
   "id": "2d3f2385",
   "metadata": {},
   "source": [
    "# Q9.What are the list concatenation and list replication operators?"
   ]
  },
  {
   "cell_type": "markdown",
   "id": "1ad610e2",
   "metadata": {},
   "source": [
    "The list concatenation operator in Python is '+' ,which merges two or more lists together, creating a new list containing all the elements from the concatenated lists .on the other hand the list replication operator '*' duplicates a list by repeating its elements a specified number of times, resuting  in a new list with repeeated elements\n",
    "Code snippets - \n",
    "\n",
    "concatenated_list = list1 + list2\n",
    "\n",
    "print(concatenated_list)\n",
    "\n",
    "\n",
    "\n",
    "replicated_list = list1 * 3\n",
    "\n",
    "print(replicated_list) "
   ]
  },
  {
   "cell_type": "markdown",
   "id": "97ad1fa6",
   "metadata": {},
   "source": [
    "# Q10. What is difference between the list methods append() and insert()?"
   ]
  },
  {
   "cell_type": "markdown",
   "id": "256d4779",
   "metadata": {},
   "source": [
    "Both are the methods in python to add elements to a list but they differ in how they accomplist this task \n",
    "\n",
    "append()- method adds an element to the end of the list ,expanding the list size by one element. it does not require to specify position where the element should be inserted \n",
    "\n",
    "on the other hand , insert() method allows you to specify the position where the element should be inserted "
   ]
  },
  {
   "cell_type": "markdown",
   "id": "c97b9818",
   "metadata": {},
   "source": [
    "# Q10.What are the two methods for removing items from a list?"
   ]
  },
  {
   "cell_type": "markdown",
   "id": "1dba3103",
   "metadata": {},
   "source": [
    "there are two methods of removing elements from a list in Python \n",
    "1. remove() - this method removes the first occurance of a specified value from the list \n",
    "\n",
    "2. pop() - this method removes and returns the item at a specified index "
   ]
  },
  {
   "cell_type": "markdown",
   "id": "05390158",
   "metadata": {},
   "source": [
    "# Q12. Describe how list values and string values are identical."
   ]
  },
  {
   "cell_type": "markdown",
   "id": "1662d7b8",
   "metadata": {},
   "source": [
    "List values and string values in Python exhibit similarities in their sequential access, immutability, support for concatenation and replication, length determination, and indexing/slicing operations. Both can be iterated over sequentially, their lengths can be determined using the len() function, and they support operations like concatenation and replication. However, a fundamental difference lies in their mutability: while lists are mutable and can be modified after creation, strings are immutable and their contents cannot be changed once created. Additionally, lists can contain elements of different data types, whereas strings are composed solely of characters "
   ]
  },
  {
   "cell_type": "markdown",
   "id": "59983e8f",
   "metadata": {},
   "source": [
    "# Q13.What's the difference between tuples and lists?"
   ]
  },
  {
   "cell_type": "markdown",
   "id": "bcf00681",
   "metadata": {},
   "source": [
    "Tuples and lists are both used to store collections of items in Python, but they differ primarily in their mutability and syntax. Tuples are immutable and defined using parentheses, while lists are mutable and defined using square brackets. Because tuples are immutable, their elements cannot be modified after creation, making them suitable for fixed collections of items.\n",
    "\n",
    "Lists, on the other hand, can be modified dynamically, allowing for flexibility in adding, removing, or changing elements. \n",
    "\n",
    "This difference in mutability affects their performance and usage in various contexts. Overall, tuples are preferred for fixed collections, while lists are favored for dynamic collections that require frequent modifications."
   ]
  },
  {
   "cell_type": "markdown",
   "id": "0fca22c1",
   "metadata": {},
   "source": [
    "# Q14.  How do you type a tuple value that only contains the integer 42?"
   ]
  },
  {
   "cell_type": "code",
   "execution_count": 10,
   "id": "0e76f1de",
   "metadata": {},
   "outputs": [
    {
     "data": {
      "text/plain": [
       "(42,)"
      ]
     },
     "execution_count": 10,
     "metadata": {},
     "output_type": "execute_result"
    }
   ],
   "source": [
    "my_tuple = (42,)\n",
    "my_tuple"
   ]
  },
  {
   "cell_type": "markdown",
   "id": "00818bed",
   "metadata": {},
   "source": [
    "To type a tuple value that only contains the integer 42, you would enclose the integer 42 within parentheses () to create a tuple with a single element\n",
    "\n",
    "\n",
    "\n",
    "The comma , after the integer 42 is essential to distinguish it as a tuple with a single element. Without the comma, Python would interpret the parentheses as grouping parentheses and not recognize it as a tuple. Therefore, it's important to include the comma even for single-element tuples."
   ]
  },
  {
   "cell_type": "markdown",
   "id": "381d4026",
   "metadata": {},
   "source": [
    "# Q15. How do you get a list value's  tuple form? How do you get a tuple value's list form?"
   ]
  },
  {
   "cell_type": "markdown",
   "id": "32e05357",
   "metadata": {},
   "source": [
    "To convert a list to a tuple in Python, you can use the tuple() constructor, passing the list as an argument. Here's how you would do it:\n",
    "\n",
    "my_list=[1,2,3]\n",
    "my_tuple= tuple(my_list)\n",
    "\n",
    "\n",
    "To convert a tuple to a list, you can use the list() constructor, passing the tuple as an argument. Here's how you would do it:\n",
    "\n",
    "my_tuple=(1,2,3)\n",
    "my_list =list(my_tuple)"
   ]
  },
  {
   "cell_type": "markdown",
   "id": "8f5a93d5",
   "metadata": {},
   "source": [
    "# Q16. Variables that 'contain' list values are not necessarily lists themselves. Instead, what do they contain?"
   ]
  },
  {
   "cell_type": "markdown",
   "id": "a04b26e7",
   "metadata": {},
   "source": [
    "Variables that \"contain\" list values in Python actually contain references to the list objects, not the lists themselves. These references point to the memory locations where the lists are stored. This distinction is important because it allows multiple variables to refer to the same list object, enabling changes made through one variable to affect others referencing the same list."
   ]
  },
  {
   "cell_type": "markdown",
   "id": "1c5d57d4",
   "metadata": {},
   "source": [
    "# Q17. How do you distinguish between copy.copy() and copy.deepcopy()?"
   ]
  },
  {
   "cell_type": "markdown",
   "id": "4559981f",
   "metadata": {},
   "source": [
    "In Python's copy module, both copy.copy() and copy.deepcopy() are used to create copies of objects.\n",
    "\n",
    "1. copy.copy(): This function creates a shallow copy of the original object. It copies the top-level structure of the object, but the references to nested objects remain the same. Changes to the nested objects in the copied structure will affect both the original and copied objects.\n",
    "\n",
    "2. copy.deepcopy(): This function creates a deep copy of the original object. It recursively copies all nested objects within the original object, creating new copies of each nested object. As a result, changes to nested objects in the copied structure will not affect the original object, and vice versa."
   ]
  }
 ],
 "metadata": {
  "kernelspec": {
   "display_name": "Python 3 (ipykernel)",
   "language": "python",
   "name": "python3"
  },
  "language_info": {
   "codemirror_mode": {
    "name": "ipython",
    "version": 3
   },
   "file_extension": ".py",
   "mimetype": "text/x-python",
   "name": "python",
   "nbconvert_exporter": "python",
   "pygments_lexer": "ipython3",
   "version": "3.9.13"
  }
 },
 "nbformat": 4,
 "nbformat_minor": 5
}
