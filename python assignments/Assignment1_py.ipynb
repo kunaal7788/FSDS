{
 "cells": [
  {
   "cell_type": "raw",
   "id": "0e2c1fe5",
   "metadata": {},
   "source": [
    "Q1.In the below elements which of them are values or an expression? eg:- values can be\n",
    "integer or string and expressions will be mathematical operators.\n",
    "\n",
    "*\n",
    "'hello'\n",
    "-87.8\n",
    "-\n",
    "/\n",
    "+\n",
    "6"
   ]
  },
  {
   "cell_type": "raw",
   "id": "bd8022c9",
   "metadata": {},
   "source": [
    "* is expression \n",
    "'hello' is a value(string)\n",
    "-87.8 is a value (integer)\n",
    "- is a expression \n",
    "/ is an expression \n",
    "+ is an expression \n",
    "6 is a value (integer)"
   ]
  },
  {
   "cell_type": "code",
   "execution_count": null,
   "id": "1410e3b9",
   "metadata": {},
   "outputs": [],
   "source": []
  },
  {
   "cell_type": "code",
   "execution_count": null,
   "id": "27e71031",
   "metadata": {},
   "outputs": [],
   "source": []
  },
  {
   "cell_type": "markdown",
   "id": "1d44a6e6",
   "metadata": {},
   "source": [
    "Q2 .What is the difference between string and variable?"
   ]
  },
  {
   "cell_type": "markdown",
   "id": "08d643bb",
   "metadata": {},
   "source": [
    "A string and variable are two different fundamental concepts of programming each serving different roles.\n",
    "\n",
    "A String is a data type that represents a sequence of characters ,such as letters,numbers,symbols, and spaces. Strings are used to store and manipulate textual data. \n",
    "for instance,the text\"Hello WOrld!\" is a string. Strings can be created by enclosing characters within quotation marks(single,double,triple quotes).They can also be concatenated ,sliced or subjected to various opearations like searching sorting ,replacing etc.\n",
    "\n",
    "\n",
    "on the other hand , a variable is a named location in memory that can store a value .This value can be of any data type,including integers ,floats,strings,list and more.Variables act as containers for data that can be used and manipulated throughout a program .for example,in the statement \"greeting =\"Hello,World!\" , here \"greeting is a variable that holds the string \"Hello WOrld!\".\n",
    "\n",
    "a string is a specific type of data used for text while a variable is more general concept used to store and manage data "
   ]
  },
  {
   "cell_type": "markdown",
   "id": "35c4e36b",
   "metadata": {},
   "source": [
    "Q3. Describe three different data types."
   ]
  },
  {
   "cell_type": "markdown",
   "id": "aa40606a",
   "metadata": {},
   "source": [
    "In python there are various data types ,which include integers ,float ,list, dictionary, string,tuple,range etc .\n",
    "\n",
    "Integer - \n",
    "    An integer is a data type used to represent whole numbers without any fractional or decimal component. Integers can be positive negative or zero.They are typically used for counting ,indexing or performing arithmetic operations where only whole num,bers are needed \n",
    "    eg: count = 13 \n",
    "        temperature = -5 \n",
    "    \n",
    "\n",
    "Float - \n",
    "    A Float is a data type used to represent numbers that have a fractional component ,expressed with decimal points .Floats are used for precise calculations,measurementw etc.\n",
    "    eg : pi =3.1415\n",
    "        gravity =9.81\n",
    "        \n",
    "String - \n",
    "    A String is a data type used to represent a sequence of characters. strings are enclosed within single quotes(''),doule quotes(\"\"), or triple quotes(\"\"\"\" \"\"\"\").Strings are used to represent textual data .\n",
    "    eg: Greetings= \"Hello WOrld!\"\n",
    "        Name=\"Kunal\"\n",
    "        \n",
    "Range -\n",
    "    The range type in Python represents an immutable sequence of numbers, commonly used for looping a specific number of times in for loops.\n",
    "    eg: for i in range(5):\n",
    "            print(i)     "
   ]
  },
  {
   "cell_type": "markdown",
   "id": "81311e8d",
   "metadata": {},
   "source": [
    "Q4. What is an expression made up of? What do all expressions do?"
   ]
  },
  {
   "cell_type": "markdown",
   "id": "828e08bf",
   "metadata": {},
   "source": [
    "Expressions are the fundamental building blocks in any programming language and are used to perform computations and assign values .\n",
    "An expression in programming is a combination of values , variables ,opeators and functions that are evaluated to produce another value .\n",
    "All expressions are evaluated to produce a value. This evaluation process involves computing the result of the expression according to the rules of the programming language."
   ]
  },
  {
   "cell_type": "markdown",
   "id": "9fb16119",
   "metadata": {},
   "source": [
    "Q5. This assignment statements, like spam = 10. What is the difference between an expression and a statement?"
   ]
  },
  {
   "cell_type": "markdown",
   "id": "38f636b6",
   "metadata": {},
   "source": [
    "An expression in programming is a combination of values ,variables ,operators and function calls that is evaluated to produce a value . For example .'5+3' and len(\"hello\") are expressions that yield '8','5' resp.A statement on the other hand is an instruction that the interpreter executes,performing an action or controlling the flow of the program . Example of statement incluse assignments(\"spam=10\").\n",
    "the key difference is that expressions always produce a value,while statements execute actions and may not produce a value directly . "
   ]
  },
  {
   "cell_type": "markdown",
   "id": "d0cba53e",
   "metadata": {},
   "source": [
    "Q6. After running the following code, what does the variable bacon contain?\n",
    "bacon = 22\n",
    "bacon + 1"
   ]
  },
  {
   "cell_type": "code",
   "execution_count": 8,
   "id": "78717829",
   "metadata": {},
   "outputs": [
    {
     "data": {
      "text/plain": [
       "22"
      ]
     },
     "execution_count": 8,
     "metadata": {},
     "output_type": "execute_result"
    }
   ],
   "source": [
    "bacon =22\n",
    "bacon +1\n",
    "bacon"
   ]
  },
  {
   "cell_type": "markdown",
   "id": "79edeb37",
   "metadata": {},
   "source": [
    "here we get to know that bacon still contains value '22',this is due to the result is not assigned to any variable or used further ,the value of bacon remains unchanged"
   ]
  },
  {
   "cell_type": "markdown",
   "id": "80b584d8",
   "metadata": {},
   "source": [
    "Q7 .What should the values of the following two terms be?\n",
    "'spam' +'spamspam'\n",
    "'spam' *3"
   ]
  },
  {
   "cell_type": "code",
   "execution_count": 10,
   "id": "bffdd173",
   "metadata": {},
   "outputs": [
    {
     "data": {
      "text/plain": [
       "'spamspamspam'"
      ]
     },
     "execution_count": 10,
     "metadata": {},
     "output_type": "execute_result"
    }
   ],
   "source": [
    "'spam' +'spamspam'"
   ]
  },
  {
   "cell_type": "code",
   "execution_count": 11,
   "id": "cf90e2d7",
   "metadata": {},
   "outputs": [
    {
     "data": {
      "text/plain": [
       "'spamspamspam'"
      ]
     },
     "execution_count": 11,
     "metadata": {},
     "output_type": "execute_result"
    }
   ],
   "source": [
    "'spam' *3"
   ]
  },
  {
   "cell_type": "markdown",
   "id": "835200ee",
   "metadata": {},
   "source": [
    "'spam' + 'spamspam': This term concatenates the string 'spam' with the string 'spamspam', resulting in 'spamspamspam'.\n",
    "\n",
    "'spam' * 3: This term repeats the string 'spam' three times, resulting in 'spamspamspam'.\n",
    "\n",
    "So, both expressions will yield the same value, which is 'spamspamspam'"
   ]
  },
  {
   "cell_type": "markdown",
   "id": "3576270a",
   "metadata": {},
   "source": [
    "Q8. Why is eggs a valid variable name while 100 is invalid?"
   ]
  },
  {
   "cell_type": "markdown",
   "id": "0ff1d1da",
   "metadata": {},
   "source": [
    "In python there are some basic rules to apply while naming a variable.\n",
    "one of the rules is that the name of a variable must not start with a number. 100 starts with a number ,so it does satisfy the condition and become invalid ,\n",
    "on the other hand eggs start with a character so it is a valid name "
   ]
  },
  {
   "cell_type": "markdown",
   "id": "1f4d2cf2",
   "metadata": {},
   "source": [
    "Q9.What three functions can be used to get the integer, floating-point number, or string\n",
    "version of a value?"
   ]
  },
  {
   "cell_type": "markdown",
   "id": "8f26267a",
   "metadata": {},
   "source": [
    "To get the integer version of a value you can use 'int()' function it converts the given value to an integer .\n",
    "To get the floating-point number of a value you can use 'float()' function,it converts value to a floating point number .\n",
    "To get the string version of a value ,you can use 'str()' function ,it converts given value to a string "
   ]
  },
  {
   "cell_type": "markdown",
   "id": "79e015b3",
   "metadata": {},
   "source": [
    "10. Why does this expression cause an error? How can you fix it?\n",
    "'I have eaten '+ 99 +' burritos."
   ]
  },
  {
   "cell_type": "markdown",
   "id": "46586f15",
   "metadata": {},
   "source": [
    "This expression will surely cause an error ,this is because we are trying to concatenate two strings with an integer which is not  valid in python programming. \n",
    "\"I have eaten\" and \"burritos\" are the strings and '99' is the integer value so it causes an error .\n",
    "we can try to fix it bny using the python function 'str()' ,this will convert the integers 99 into a string \n",
    "the expression will look like -\n",
    "\n",
    "'I have eaten'+ str(99) + 'burritos'\n",
    "\n",
    "\n",
    "this will give a correct output - \" I Have eaten 99 burritos\"\n"
   ]
  },
  {
   "cell_type": "code",
   "execution_count": null,
   "id": "f64e948d",
   "metadata": {},
   "outputs": [],
   "source": []
  }
 ],
 "metadata": {
  "kernelspec": {
   "display_name": "Python 3 (ipykernel)",
   "language": "python",
   "name": "python3"
  },
  "language_info": {
   "codemirror_mode": {
    "name": "ipython",
    "version": 3
   },
   "file_extension": ".py",
   "mimetype": "text/x-python",
   "name": "python",
   "nbconvert_exporter": "python",
   "pygments_lexer": "ipython3",
   "version": "3.9.13"
  }
 },
 "nbformat": 4,
 "nbformat_minor": 5
}
