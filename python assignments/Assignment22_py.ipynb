{
 "cells": [
  {
   "cell_type": "markdown",
   "id": "7b100e53",
   "metadata": {},
   "source": [
    "# 1. What is the result of the code, and explain?\n",
    "\n",
    "&gt;&gt;&gt; X = &#39;iNeuron&#39;\n",
    "\n",
    "&gt;&gt;&gt; def func():\n",
    "\n",
    "print(X)\n",
    "\n",
    "&gt;&gt;&gt; func()"
   ]
  },
  {
   "cell_type": "code",
   "execution_count": 1,
   "id": "06a38f74",
   "metadata": {},
   "outputs": [
    {
     "name": "stdout",
     "output_type": "stream",
     "text": [
      "iNeuron\n"
     ]
    }
   ],
   "source": [
    "X = 'iNeuron'\n",
    "def func():\n",
    "    print(X)\n",
    "func()"
   ]
  },
  {
   "cell_type": "markdown",
   "id": "63daf162",
   "metadata": {},
   "source": [
    "Explanation:\n",
    "\n",
    "The variable X is assigned the string 'iNeuron'.\n",
    "The function func is defined, which simply prints the value of the global variable X.\n",
    "When the function func is called (func()), it prints the value of X, which is 'iNeuron'.\n",
    "Since X is defined in the global scope, it is accessible inside the function func, and its value is printed without any issues."
   ]
  },
  {
   "cell_type": "markdown",
   "id": "928ff79c",
   "metadata": {},
   "source": [
    "# 2. What is the result of the code, and explain?\n",
    "\n",
    "&gt;&gt;&gt; X = &#39;iNeuron&#39;\n",
    "\n",
    "&gt;&gt;&gt; def func():\n",
    "    \n",
    "X = &#39;NI!&#39;\n",
    "\n",
    "\n",
    "&gt;&gt;&gt; func()\n",
    "\n",
    "&gt;&gt;&gt; print(X)\n"
   ]
  },
  {
   "cell_type": "code",
   "execution_count": 2,
   "id": "6d4c7f67",
   "metadata": {},
   "outputs": [
    {
     "name": "stdout",
     "output_type": "stream",
     "text": [
      "iNeuron\n"
     ]
    }
   ],
   "source": [
    "X = 'iNeuron'\n",
    "def func():\n",
    "    X = 'NI!'\n",
    "func()\n",
    "print(X)"
   ]
  },
  {
   "cell_type": "markdown",
   "id": "62ccce0a",
   "metadata": {},
   "source": [
    "Explanation:\n",
    "\n",
    "Inside the function func(), a local variable X is defined and assigned the value 'NI!'. This variable X exists only within the scope of the function and does not affect the global variable X.\n",
    "When func() is called, it modifies the local variable X but does not affect the global variable X.\n",
    "Therefore, when print(X) is called outside the function, it prints the value of the global variable X, which remains 'iNeuron'."
   ]
  },
  {
   "cell_type": "markdown",
   "id": "6bcf80be",
   "metadata": {},
   "source": [
    "# 3. What does this code print, and why?\n",
    "\n",
    "\n",
    "&gt;&gt;&gt; X = &#39;iNeuron&#39;\n",
    "\n",
    "&gt;&gt;&gt; def func():\n",
    "\n",
    "X = &#39;NI&#39;\n",
    "\n",
    "print(X)\n",
    "\n",
    "&gt;&gt;&gt; func()\n",
    "\n",
    "&gt;&gt;&gt; print(X)"
   ]
  },
  {
   "cell_type": "code",
   "execution_count": 4,
   "id": "e0048d49",
   "metadata": {},
   "outputs": [
    {
     "name": "stdout",
     "output_type": "stream",
     "text": [
      "NI\n",
      "iNeuron\n"
     ]
    }
   ],
   "source": [
    "X = 'iNeuron'\n",
    "def func():\n",
    "    X = 'NI'\n",
    "    print(X)\n",
    "func()\n",
    "print(X)"
   ]
  },
  {
   "cell_type": "markdown",
   "id": "69cdfb7c",
   "metadata": {},
   "source": [
    "Explanation:\n",
    "\n",
    "Inside the function func(), a local variable X is defined and assigned the value 'NI'. This variable X exists only within the scope of the function.\n",
    "When func() is called, it prints the value of the local variable X, which is 'NI'.\n",
    "Outside the function, the global variable X remains 'iNeuron', so when print(X) is called, it prints the value of the global variable X."
   ]
  },
  {
   "cell_type": "markdown",
   "id": "ac0c465f",
   "metadata": {},
   "source": [
    "# 4. What output does this code produce? Why?\n",
    "\n",
    "&gt;&gt;&gt; X = &#39;iNeuron&#39;\n",
    "\n",
    "&gt;&gt;&gt; def func():\n",
    "    \n",
    "global X\n",
    "\n",
    "X = &#39;NI&#39;\n",
    "\n",
    "\n",
    "&gt;&gt;&gt; func()\n",
    "\n",
    "&gt;&gt;&gt; print(X)\n"
   ]
  },
  {
   "cell_type": "code",
   "execution_count": 7,
   "id": "73129b45",
   "metadata": {},
   "outputs": [
    {
     "name": "stdout",
     "output_type": "stream",
     "text": [
      "NI\n"
     ]
    }
   ],
   "source": [
    "X = 'iNeuron'\n",
    "def func():\n",
    "    global X\n",
    "    X = 'NI'\n",
    "func()\n",
    "print(X)"
   ]
  },
  {
   "cell_type": "markdown",
   "id": "ee1612f8",
   "metadata": {},
   "source": [
    "Explanation:\n",
    "\n",
    "Inside the function func(), the global keyword is used to declare that X refers to the global variable X. This means any modifications to X inside the function will affect the global variable X.\n",
    "When func() is called, it modifies the global variable X to 'NI'.\n",
    "After the function call, when print(X) is executed, it prints the value of the modified global variable X, which is 'NI'."
   ]
  },
  {
   "cell_type": "markdown",
   "id": "d14525b3",
   "metadata": {},
   "source": [
    "# 5. What about this code—what’s the output, and why?\n",
    "\n",
    "&gt;&gt;&gt; X = &#39;iNeuron&#39;\n",
    "\n",
    "&gt;&gt;&gt; def func():\n",
    "\n",
    "X = &#39;NI&#39;\n",
    "\n",
    "def nested():\n",
    "\n",
    "print(X)\n",
    "\n",
    "nested()\n",
    "\n",
    "&gt;&gt;&gt; func()\n",
    "\n",
    "&gt;&gt;&gt; X\n",
    "\n"
   ]
  },
  {
   "cell_type": "code",
   "execution_count": 8,
   "id": "69a75083",
   "metadata": {},
   "outputs": [
    {
     "name": "stdout",
     "output_type": "stream",
     "text": [
      "NI\n",
      "iNeuron\n"
     ]
    }
   ],
   "source": [
    "X = 'iNeuron'\n",
    "def func():\n",
    "    X = 'NI'\n",
    "    def nested():\n",
    "        print(X)\n",
    "    nested()\n",
    "\n",
    "func()\n",
    "print(X)\n"
   ]
  },
  {
   "cell_type": "markdown",
   "id": "63d420e6",
   "metadata": {},
   "source": [
    "Explanation:\n",
    "\n",
    "Inside the function func(), a local variable X is defined and assigned the value 'NI'.\n",
    "Inside the nested function nested(), when print(X) is called, it prints the value of the nearest enclosing scope, which is the local variable X defined in the func() function.\n",
    "After calling func(), when print(X) is executed outside the function, it prints the value of the global variable X, which remains 'iNeuron'."
   ]
  },
  {
   "cell_type": "markdown",
   "id": "948e33a8",
   "metadata": {},
   "source": [
    "# 6. How about this code: what is its output in Python 3, and explain?\n",
    "\n",
    "&gt;&gt;&gt; def func():\n",
    "    \n",
    "X = &#39;NI&#39;\n",
    "\n",
    "def nested():\n",
    "    \n",
    "nonlocal X\n",
    "\n",
    "X = &#39;Spam&#39;\n",
    "\n",
    "nested()\n",
    "\n",
    "print(X)\n",
    "\n",
    "&gt;&gt;&gt; func()"
   ]
  },
  {
   "cell_type": "code",
   "execution_count": 10,
   "id": "eccc9ab8",
   "metadata": {},
   "outputs": [
    {
     "name": "stdout",
     "output_type": "stream",
     "text": [
      "Spam\n"
     ]
    }
   ],
   "source": [
    "def func():\n",
    "    X = 'NI'\n",
    "    def nested():\n",
    "        nonlocal X\n",
    "        X = 'Spam'\n",
    "    nested()\n",
    "    print(X)\n",
    "\n",
    "func()\n"
   ]
  },
  {
   "cell_type": "markdown",
   "id": "ec4914ac",
   "metadata": {},
   "source": [
    "Explanation:\n",
    "\n",
    "Inside the function func(), a local variable X is defined and assigned the value 'NI'.\n",
    "Inside the nested function nested(), the nonlocal keyword is used to declare that X refers to the nearest enclosing scope that is not global. This means any modifications to X inside the nested() function will affect the X variable defined in the func() function.\n",
    "When nested() is called, it modifies the value of X to 'Spam'.\n",
    "After the nested function call, when print(X) is executed inside func(), it prints the modified value of X, which is 'Spam'"
   ]
  },
  {
   "cell_type": "code",
   "execution_count": null,
   "id": "85acebb4",
   "metadata": {},
   "outputs": [],
   "source": []
  }
 ],
 "metadata": {
  "kernelspec": {
   "display_name": "Python 3 (ipykernel)",
   "language": "python",
   "name": "python3"
  },
  "language_info": {
   "codemirror_mode": {
    "name": "ipython",
    "version": 3
   },
   "file_extension": ".py",
   "mimetype": "text/x-python",
   "name": "python",
   "nbconvert_exporter": "python",
   "pygments_lexer": "ipython3",
   "version": "3.9.13"
  }
 },
 "nbformat": 4,
 "nbformat_minor": 5
}
