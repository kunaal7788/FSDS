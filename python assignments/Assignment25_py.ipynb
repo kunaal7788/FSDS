{
 "cells": [
  {
   "cell_type": "markdown",
   "id": "669d1246",
   "metadata": {},
   "source": [
    "# 1) . What is the difference between enclosing a list comprehension in square brackets and parentheses?"
   ]
  },
  {
   "cell_type": "markdown",
   "id": "468b8574",
   "metadata": {},
   "source": [
    "Square brackets ([]): When a list comprehension is enclosed in square brackets, it produces a list as the output.\n",
    "Parentheses (()): When a list comprehension is enclosed in parentheses, it creates a generator object, which is an iterable that generates values on-the-fly rather than storing them in memory.\n"
   ]
  },
  {
   "cell_type": "markdown",
   "id": "0a5baf7c",
   "metadata": {},
   "source": [
    "# 2) What is the relationship between generators and iterators?\n"
   ]
  },
  {
   "cell_type": "markdown",
   "id": "570c4bee",
   "metadata": {},
   "source": [
    "Generators are a type of iterators. They allow you to iterate over a sequence of values, but unlike regular iterators, they generate values lazily, i.e., on-demand, and do not store the entire sequence in memory. This makes them memory-efficient for large datasets."
   ]
  },
  {
   "cell_type": "markdown",
   "id": "a2a01e5a",
   "metadata": {},
   "source": [
    "# 3) What are the signs that a function is a generator function?\n"
   ]
  },
  {
   "cell_type": "markdown",
   "id": "b8c37bec",
   "metadata": {},
   "source": [
    "A function is a generator function if it contains a yield statement anywhere in its body.\n",
    "When a function contains yield, it returns a generator object when called, instead of executing the function's code immediately."
   ]
  },
  {
   "cell_type": "markdown",
   "id": "b3d233f3",
   "metadata": {},
   "source": [
    "# 4) What is the purpose of a yield statement?"
   ]
  },
  {
   "cell_type": "markdown",
   "id": "f8df9b07",
   "metadata": {},
   "source": [
    "The yield statement is used inside a generator function to produce a sequence of values.\n",
    "When a generator function is called, it returns a generator object, which can be iterated over to generate values one at a time using the yield statement.\n",
    "The yield statement suspends the function's execution and saves its state so that it can resume from where it left off when the next value is requested."
   ]
  },
  {
   "cell_type": "markdown",
   "id": "b42598a3",
   "metadata": {},
   "source": [
    "# 5) What is the relationship between map calls and list comprehensions? Make a comparison and contrast between the two."
   ]
  },
  {
   "cell_type": "markdown",
   "id": "f2e9e44e",
   "metadata": {},
   "source": [
    "Both map calls and list comprehensions are used to apply a function to each element of an iterable.\n",
    "Map calls apply a function to each element of an iterable and return an iterator that yields the results lazily.\n",
    "List comprehensions construct a new list by applying an expression to each element of an iterable and storing the results in memory.\n",
    "Map calls can be more memory-efficient than list comprehensions when dealing with large datasets because they generate values lazily, whereas list comprehensions generate the entire list in memory. However, list comprehensions are often more readable and expressive than map calls."
   ]
  }
 ],
 "metadata": {
  "kernelspec": {
   "display_name": "Python 3 (ipykernel)",
   "language": "python",
   "name": "python3"
  },
  "language_info": {
   "codemirror_mode": {
    "name": "ipython",
    "version": 3
   },
   "file_extension": ".py",
   "mimetype": "text/x-python",
   "name": "python",
   "nbconvert_exporter": "python",
   "pygments_lexer": "ipython3",
   "version": "3.9.13"
  }
 },
 "nbformat": 4,
 "nbformat_minor": 5
}
