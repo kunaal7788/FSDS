{
 "cells": [
  {
   "cell_type": "markdown",
   "id": "cbd37d84",
   "metadata": {},
   "source": [
    "# Q1.What are the two values of the Boolean data type? How do you write them?"
   ]
  },
  {
   "cell_type": "markdown",
   "id": "b5f3f33b",
   "metadata": {},
   "source": [
    "The two values of the boolean data type are \"True\" & \"False\" \n",
    "They are used to represent truth values in logical expressions.\n",
    "    \n",
    "    True - Represent the truth value that something is correct or valid \n",
    "    \n",
    "    Flase: represent the truth value that something is incorrect or invalid \n",
    "    \n",
    "    \n",
    "for example in python we can write \n",
    "    \n",
    "    \n",
    "    is_sunny =True\n",
    "    is_raining =False"
   ]
  },
  {
   "cell_type": "markdown",
   "id": "cbad97d5",
   "metadata": {},
   "source": [
    "# Q2. What are the three different types of Boolean operators?"
   ]
  },
  {
   "cell_type": "markdown",
   "id": "94b6abee",
   "metadata": {},
   "source": [
    "There are different types of Boolean operators in python like AND ,OR,NOT etc.\n",
    "1. AND OPERATOR- this operator returns \"True\" only if both operands are \"True\"\n",
    "2. OR OPERATOR - This operator returns \"True\"if at least one of the operands is \"True\".if both are 'False' it returns \"False\"\n",
    "3. NOT OPERATOR- This operator returns the opposite boolean value of its operand.If the operand is \"True\",'not' returns \"False\".If the operand is \"False\",\"not\" returns \"True\"."
   ]
  },
  {
   "cell_type": "markdown",
   "id": "6fe31ff4",
   "metadata": {},
   "source": [
    "# Q3. Make a list of each Boolean operator's truth tables (i.e. every possible combination of Boolean values for the operator and what it evaluate )."
   ]
  },
  {
   "cell_type": "markdown",
   "id": "7601775f",
   "metadata": {},
   "source": [
    "### AND Operator (`and`)\n",
    "\n",
    "     A      B           A and B \n",
    "\n",
    "     True   True        True    \n",
    "     True   False       False   \n",
    "     False  True        False   \n",
    "     False  False       False   \n",
    "\n",
    "### OR Operator (`or`)\n",
    "\n",
    "     A      B      A or B  \n",
    " \n",
    "     True   True   True    \n",
    "     True   False  True    \n",
    "     False  True   True    \n",
    "     False  False  False   \n",
    "\n",
    "### NOT Operator (`not`)\n",
    "\n",
    "     A          not A \n",
    "     \n",
    "    True        False \n",
    "    False       True  "
   ]
  },
  {
   "cell_type": "markdown",
   "id": "1d4e0add",
   "metadata": {},
   "source": [
    "# Q.4 What are the values of the following expressions?\n",
    "(5 > 4) and (3 == 5)\n",
    "not (5 > 4)\n",
    "(5 > 4) or (3 == 5)\n",
    "not ((5 > 4) or (3 == 5))\n",
    "(True and True) and (True == False)\n",
    "(not False) or (not True)"
   ]
  },
  {
   "cell_type": "markdown",
   "id": "f4574c4e",
   "metadata": {},
   "source": [
    "1. False\n",
    "2. False\n",
    "3. True\n",
    "4. False\n",
    "5. False\n",
    "6. True"
   ]
  },
  {
   "cell_type": "markdown",
   "id": "700f0278",
   "metadata": {},
   "source": [
    "# Q5. What are the six comparison operators? "
   ]
  },
  {
   "cell_type": "markdown",
   "id": "9c735340",
   "metadata": {},
   "source": [
    "    The six comparison ooperators are as follows :\n",
    "        1.  Equals to (==) - check if the values on both sides are equal \n",
    "        2.  Not equals to(!=) - check if the values on both sides are not equal \n",
    "        3.  Greater than (>) - check if the value on left side is greater than value on right side\n",
    "        4.  less tham (<)- check if the value on left side is less than value on right\n",
    "        5.  greater than or equals to (>=) - Checks if the value on the left is greater than or equal to the value on the right.\n",
    "        6.  Less than or equals to (<=)-Checks if the value on the left is less than or equal to the value on the right."
   ]
  },
  {
   "cell_type": "markdown",
   "id": "d23b4319",
   "metadata": {},
   "source": [
    "# Q6. How do you tell the difference between the equal to and assignment operators?Describe a condition and when you would use one."
   ]
  },
  {
   "cell_type": "markdown",
   "id": "53a78e8a",
   "metadata": {},
   "source": [
    "    The \"==\" operator is the equal to operator , used for comparison , while the \"=\" operator is the assignment operator ,used to assign values to variables, this is the main diffference between equal to and assignment operator \n",
    "    \n",
    "    conditions -\n",
    "         1) suppose we have to check if two values ('age' and '20' )are equal or not  we can use '=='  operator\n",
    "          if age==20\n",
    "              print(\"......\")\n",
    "          2) suppose we are assigning a value (20)to a variable (age)\n",
    "          age=20\n",
    "          \n",
    "    \n",
    "\n"
   ]
  },
  {
   "cell_type": "raw",
   "id": "aa36eb11",
   "metadata": {},
   "source": [
    "# Q7. Identify the three blocks in this code:\n",
    "spam = 0\n",
    "if spam == 10:\n",
    "    print('eggs')\n",
    "if spam > 5:\n",
    "    print('bacon')\n",
    "else:\n",
    "    print ('ham')\n",
    "    print('spam')\n",
    "    print('spam')"
   ]
  },
  {
   "cell_type": "markdown",
   "id": "2c81ad39",
   "metadata": {},
   "source": [
    "    there are three blocks in this code \n",
    "    those are :\n",
    "    \n",
    "    #block1 \n",
    "    spam = 0\n",
    "    if spam == 10:\n",
    "        print('eggs')\n",
    "        \n",
    "        \n",
    "    #block 2\n",
    "    if spam > 5:\n",
    "        print('bacon')\n",
    "        \n",
    "        \n",
    "    #block3 \n",
    "        else:\n",
    "            print ('ham')\n",
    "            print('spam')\n",
    "            print('spam')\n"
   ]
  },
  {
   "cell_type": "markdown",
   "id": "834d60a5",
   "metadata": {},
   "source": [
    "# Q8. Write code that prints Hello if 1 is stored in spam, prints Howdy if 2 is stored in spam, and prints Greetings! if anything else is stored in spam."
   ]
  },
  {
   "cell_type": "code",
   "execution_count": 28,
   "id": "280d3eac",
   "metadata": {},
   "outputs": [
    {
     "name": "stdout",
     "output_type": "stream",
     "text": [
      "Enter a number: 1\n",
      "Hello\n"
     ]
    }
   ],
   "source": [
    "spam = input(\"Enter a number: \")\n",
    "try:\n",
    "    spam = int(spam)\n",
    "    if spam ==1 :\n",
    "        print(\"Hello\")\n",
    "    elif spam ==2 :\n",
    "        print(\"Howdy\")\n",
    "    else:\n",
    "            print(\"Greetings!\")\n",
    "except ValueError:\n",
    "    print (\"Please enter a valid input\")\n",
    "        "
   ]
  },
  {
   "cell_type": "markdown",
   "id": "b8cbc7b2",
   "metadata": {},
   "source": [
    "# Q9.If your programme is stuck in an endless loop, what keys you’ll press?\n"
   ]
  },
  {
   "cell_type": "markdown",
   "id": "7a37f6c0",
   "metadata": {},
   "source": [
    "We can use Ctrl + C to send an interrupt the execution of a program in most of the CLI's\n",
    "\n",
    "In some cases like UNIX/MAC we need to use Ctrl + Z"
   ]
  },
  {
   "cell_type": "markdown",
   "id": "10e2b0b3",
   "metadata": {},
   "source": [
    "# Q.10 How can you tell the difference between break and continue?"
   ]
  },
  {
   "cell_type": "markdown",
   "id": "86e606bc",
   "metadata": {},
   "source": [
    "'break' is used to exit the  loop prematurely, \n",
    "while \"continue \" is used to skip the rest of the code for the current iteration and proceed to the next iteration of the loop"
   ]
  },
  {
   "cell_type": "markdown",
   "id": "71ec0921",
   "metadata": {},
   "source": [
    "# Q11. In a for loop, what is the difference between range(10), range(0, 10), and range(0, 10, 1)?"
   ]
  },
  {
   "cell_type": "markdown",
   "id": "cb2e2f85",
   "metadata": {},
   "source": [
    "range(10) : Generated numbers from 0 to 9 (inclusive) by default ,starting from 0 and incrementing by 1\n",
    "\n",
    "range(0,10): Specifies the start value as 0 explicitly ,so it generates numbers from 0 to 9 (inclusive) with a step size of 1\n",
    "    \n",
    "range(0,10,1): Specifies both the start value(0) and step size (1)explicitly,generating numbers from 0 to 9 (inclusive with a step size of 1)"
   ]
  },
  {
   "cell_type": "markdown",
   "id": "f6a9b05d",
   "metadata": {},
   "source": [
    "# Q12. Write a short program that prints the numbers 1 to 10 using a for loop. Then write an equivalent program that prints the numbers 1 to 10 using a while loop."
   ]
  },
  {
   "cell_type": "code",
   "execution_count": 45,
   "id": "a88df2c2",
   "metadata": {},
   "outputs": [
    {
     "name": "stdout",
     "output_type": "stream",
     "text": [
      "[1, 2, 3, 4, 5, 6, 7, 8, 9, 10]\n",
      "[1, 2, 3, 4, 5, 6, 7, 8, 9, 10]\n"
     ]
    }
   ],
   "source": [
    "def return_number():\n",
    "    numbers=[]\n",
    "    try:\n",
    "        for i in range(1,11):\n",
    "            numbers.append(i)\n",
    "        return numbers\n",
    "    except Exception as e :\n",
    "        print(\"invalid\")\n",
    "result =return_number()\n",
    "print(result)\n",
    "\n",
    "\n",
    "\n",
    "# using a while loop.\n",
    "def return_numbers2():\n",
    "    numbers2=[]\n",
    "    i=1 \n",
    "    while i<11:\n",
    "        numbers2.append(i)\n",
    "        i +=1\n",
    "    return numbers2\n",
    "result2=return_numbers2()\n",
    "print(result2)"
   ]
  },
  {
   "cell_type": "markdown",
   "id": "b34ba0f2",
   "metadata": {},
   "source": [
    "# Q13. If you had a function named bacon() inside a module named spam, how would you call it after importing spam?"
   ]
  },
  {
   "cell_type": "markdown",
   "id": "ad34ffab",
   "metadata": {},
   "source": [
    "To call a function named bacon() which is inside the module Spam we can do it by importing the module \n",
    "\n",
    "import spam\n",
    "\n",
    "\n",
    "spam.bacon()"
   ]
  },
  {
   "cell_type": "code",
   "execution_count": null,
   "id": "c3d4e369",
   "metadata": {},
   "outputs": [],
   "source": []
  }
 ],
 "metadata": {
  "kernelspec": {
   "display_name": "Python 3 (ipykernel)",
   "language": "python",
   "name": "python3"
  },
  "language_info": {
   "codemirror_mode": {
    "name": "ipython",
    "version": 3
   },
   "file_extension": ".py",
   "mimetype": "text/x-python",
   "name": "python",
   "nbconvert_exporter": "python",
   "pygments_lexer": "ipython3",
   "version": "3.9.13"
  }
 },
 "nbformat": 4,
 "nbformat_minor": 5
}
