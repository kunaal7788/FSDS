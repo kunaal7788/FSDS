{
 "cells": [
  {
   "cell_type": "markdown",
   "id": "2f19a1a7",
   "metadata": {},
   "source": [
    "# What advantages do Excel spreadsheets have over CSV spreadsheets?"
   ]
  },
  {
   "cell_type": "markdown",
   "id": "6ca92012",
   "metadata": {},
   "source": [
    "Excel spreadsheets offer significant advantages over CSV files, including rich data formatting and presentation options like fonts, colors, and conditional formatting, as well as the ability to create charts and graphs for visual data representation. Excel also supports complex formulas and functions, enabling advanced data analysis directly within the spreadsheet. Additionally, Excel can handle multiple sheets within a single file, supports macros for automation, and provides data validation and error-checking features. These capabilities make Excel more powerful and versatile for managing and analyzing data compared to the simplicity of CSV files."
   ]
  },
  {
   "cell_type": "markdown",
   "id": "e18cc21a",
   "metadata": {},
   "source": [
    "# What do you pass to csv.reader() and csv.writer() to create reader and writer objects?"
   ]
  },
  {
   "cell_type": "markdown",
   "id": "a5bf6268",
   "metadata": {},
   "source": [
    "To create reader and writer objects, you pass a file object to csv.reader() and csv.writer() respectively\n",
    "\n",
    "\n",
    "import csv\n",
    "\n",
    "with open('example.csv', 'r', newline='') as file:\n",
    "    reader = csv.reader(file)\n",
    "with open('example.csv', 'w', newline='') as file:\n",
    "    writer = csv.writer(file)"
   ]
  },
  {
   "cell_type": "markdown",
   "id": "d1a556b5",
   "metadata": {},
   "source": [
    "# What modes do File objects for reader and writer objects need to be opened in?"
   ]
  },
  {
   "cell_type": "markdown",
   "id": "2f1376a6",
   "metadata": {},
   "source": [
    "For csv.reader(), the file object needs to be opened in read mode ('r').\n",
    "For csv.writer(), the file object needs to be opened in write mode ('w'), append mode ('a'), or any other mode suitable for writing."
   ]
  },
  {
   "cell_type": "markdown",
   "id": "9f521bcd",
   "metadata": {},
   "source": [
    "# What method takes a list argument and writes it to a CSV file?"
   ]
  },
  {
   "cell_type": "markdown",
   "id": "1aa2e15b",
   "metadata": {},
   "source": [
    "The writerow() method of a csv.writer object takes a list argument and writes it to a CSV file.\n",
    "\n",
    "writer.writerow(['column1', 'column2', 'column3'])"
   ]
  },
  {
   "cell_type": "markdown",
   "id": "5d8cf783",
   "metadata": {},
   "source": [
    "# What do the keyword arguments delimiter and lineterminator do?"
   ]
  },
  {
   "cell_type": "markdown",
   "id": "019455be",
   "metadata": {},
   "source": [
    "The delimiter keyword argument specifies the character that separates fields in the CSV file. For example, delimiter=',' (which is the default) specifies that commas separate fields.\n",
    "\n",
    "The lineterminator keyword argument specifies the character sequence that should terminate each row. For example, lineterminator='\\n' specifies a newline character as the line terminator."
   ]
  },
  {
   "cell_type": "markdown",
   "id": "9a0b0cb2",
   "metadata": {},
   "source": [
    "# What function takes a string of JSON data and returns a Python data structure?"
   ]
  },
  {
   "cell_type": "markdown",
   "id": "302efa37",
   "metadata": {},
   "source": [
    "The json.loads() function takes a string of JSON data and returns a corresponding Python data structure (such as a dictionary or a list)"
   ]
  },
  {
   "cell_type": "code",
   "execution_count": 2,
   "id": "931c47e4",
   "metadata": {},
   "outputs": [
    {
     "name": "stdout",
     "output_type": "stream",
     "text": [
      "{'name': 'John', 'age': 30, 'city': 'New York'}\n"
     ]
    }
   ],
   "source": [
    "import json\n",
    "\n",
    "json_string = '{\"name\": \"John\", \"age\": 30, \"city\": \"New York\"}'\n",
    "python_data = json.loads(json_string)\n",
    "print(python_data)"
   ]
  },
  {
   "cell_type": "code",
   "execution_count": null,
   "id": "76a1dfe5",
   "metadata": {},
   "outputs": [],
   "source": [
    "7. What function takes a Python data structure and returns a string of JSON data?"
   ]
  }
 ],
 "metadata": {
  "kernelspec": {
   "display_name": "Python 3 (ipykernel)",
   "language": "python",
   "name": "python3"
  },
  "language_info": {
   "codemirror_mode": {
    "name": "ipython",
    "version": 3
   },
   "file_extension": ".py",
   "mimetype": "text/x-python",
   "name": "python",
   "nbconvert_exporter": "python",
   "pygments_lexer": "ipython3",
   "version": "3.9.13"
  }
 },
 "nbformat": 4,
 "nbformat_minor": 5
}
