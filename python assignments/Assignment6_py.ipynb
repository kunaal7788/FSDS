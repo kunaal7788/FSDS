{
 "cells": [
  {
   "cell_type": "markdown",
   "id": "eaa88535",
   "metadata": {},
   "source": [
    "# Q1.What are escape characters, and how do you use them?"
   ]
  },
  {
   "cell_type": "markdown",
   "id": "04a8683d",
   "metadata": {},
   "source": [
    "Escape characters are special characters in strings preceded by a backslash('\\').\n",
    "                                                                            used to represent characters that are difficu;t tpo type directly or to perform specific task like inserting new lines or tabs.\n",
    "                                                                            they allow for the inclusion of characters like newline('\\n')\n",
    "escape characters are used simply by adding them within string preceded by a backslash                                                                            tab('\\t'),backslash('\\\\')\n",
    "                                                                            \n",
    "                                                                \n",
    "                                                                            "
   ]
  },
  {
   "cell_type": "markdown",
   "id": "a7b97c63",
   "metadata": {},
   "source": [
    "# Q2. What do the escape characters n and t stand for?"
   ]
  },
  {
   "cell_type": "markdown",
   "id": "0241060b",
   "metadata": {},
   "source": [
    "The escape character '\\n' stands for a newline,  while the escape character '\\t' stands for a tab \n"
   ]
  },
  {
   "cell_type": "markdown",
   "id": "f546b8e7",
   "metadata": {},
   "source": [
    "# Q3. What is the way to include backslash characters in a string?"
   ]
  },
  {
   "cell_type": "markdown",
   "id": "623ba733",
   "metadata": {},
   "source": [
    "To include a backslash character (\\) in a string, you need to use a double backslash (\\\\). This is because the backslash character is an escape character itself, so to represent a literal backslash in a string, you need to escape it by adding another backslash before it.\n",
    "\n",
    "my_string = \"This is a backslash: \\\\\"\n",
    "\n",
    "print(my_string)\n",
    "\n",
    "This code will print: \n",
    "    This is a backslash: \\\n",
    "        \n",
    "The double backslash \\\\ in the string represents a single backslash character.\n",
    "\n",
    "\n",
    "\n",
    "\n",
    "\n",
    "\n"
   ]
  },
  {
   "cell_type": "markdown",
   "id": "cc2e66e9",
   "metadata": {},
   "source": [
    "# Q4. the string \"Howl's moving Castle\"  is a correct value. Why isn't thesingle quote character in the word Howl's not escaped a problem "
   ]
  },
  {
   "cell_type": "markdown",
   "id": "3c318992",
   "metadata": {},
   "source": [
    "In Python, if you enclose a string with double quotes (\") and it contains a single quote (') character, there's no need to escape the single quote character. Similarly, if you enclose a string with single quotes (') and it contains double quotes (\"), you don't need to escape the double quote characters.\n",
    "\n",
    "So, in the string \"Howl's moving Castle\", the single quote character ' in the word \"Howl's\" is not a problem because the entire string is enclosed in double quotes. Python understands that the single quote within the string is part of the string itself and not the string delimiter."
   ]
  },
  {
   "cell_type": "markdown",
   "id": "b5d2d3f9",
   "metadata": {},
   "source": [
    "# Q5. How do you write a string of newlines if you don't want to use the n character?"
   ]
  },
  {
   "cell_type": "markdown",
   "id": "9b8e8902",
   "metadata": {},
   "source": [
    "If you want to write a string of newlines without using the \\n escape character, you can achieve this by using triple quotes (''' or \"\"\") to create a multiline string, where each line break is represented by an actual newline character."
   ]
  },
  {
   "cell_type": "markdown",
   "id": "9b1b2e53",
   "metadata": {},
   "source": [
    "# Q6. What are the values of the given expressions?\n",
    "\"Hello,world!\"[1]\n",
    "\"Hello, world!\"[0.5]\n",
    "\"Hello, world!\"[:5]\n",
    "\"Hello, world!\"[3:]"
   ]
  },
  {
   "cell_type": "markdown",
   "id": "d3ba3b2d",
   "metadata": {},
   "source": [
    "\"Hello,world!\"[1]  - this expression will access the character at index 1 in the string.This will output - 'e'\n",
    "\n",
    "\"Hello, world!\"[0.5] - This expression attempts to access the character at index 0.5 in the string \"Hello, world!\". However, string indices must be integers, so this would result in a TypeError.\n",
    "\n",
    "\"Hello, world!\"[:5] - this expression will extracts the substring from the beggining of the string up to index '5'. so it would return 'Hello'\n",
    "\n",
    "\"Hello, world!\"[3:] - This expression extracts the substring from index 3 to the end of the string. So, it would return 'lo, world!'.\n"
   ]
  },
  {
   "cell_type": "markdown",
   "id": "810ec1a2",
   "metadata": {},
   "source": [
    "# Q7. What are the values of the following expressions?\n",
    "'Hello'.upper()\n",
    "\n",
    "'Hello' upper().isupper()\n",
    "\n",
    "'Hello'.upper().lower()"
   ]
  },
  {
   "cell_type": "code",
   "execution_count": 9,
   "id": "b399d475",
   "metadata": {},
   "outputs": [
    {
     "data": {
      "text/plain": [
       "'HELLO'"
      ]
     },
     "execution_count": 9,
     "metadata": {},
     "output_type": "execute_result"
    }
   ],
   "source": [
    "'Hello'.upper()"
   ]
  },
  {
   "cell_type": "code",
   "execution_count": 11,
   "id": "0c278371",
   "metadata": {},
   "outputs": [
    {
     "data": {
      "text/plain": [
       "True"
      ]
     },
     "execution_count": 11,
     "metadata": {},
     "output_type": "execute_result"
    }
   ],
   "source": [
    "'Hello'.upper().isupper()"
   ]
  },
  {
   "cell_type": "code",
   "execution_count": 12,
   "id": "2bbed596",
   "metadata": {},
   "outputs": [
    {
     "data": {
      "text/plain": [
       "'hello'"
      ]
     },
     "execution_count": 12,
     "metadata": {},
     "output_type": "execute_result"
    }
   ],
   "source": [
    "'Hello'.upper().lower()"
   ]
  },
  {
   "cell_type": "markdown",
   "id": "9fc013b1",
   "metadata": {},
   "source": [
    "# Q8. What are the values of the following expressions?\n",
    "'Remember , remember , the fifth of July.'.split()\n",
    "\n",
    "'-'.join('There can only one.'split())"
   ]
  },
  {
   "cell_type": "code",
   "execution_count": 13,
   "id": "077827de",
   "metadata": {},
   "outputs": [
    {
     "data": {
      "text/plain": [
       "['Remember', ',', 'remember', ',', 'the', 'fifth', 'of', 'July.']"
      ]
     },
     "execution_count": 13,
     "metadata": {},
     "output_type": "execute_result"
    }
   ],
   "source": [
    "'Remember , remember , the fifth of July.'.split()"
   ]
  },
  {
   "cell_type": "markdown",
   "id": "21ae314d",
   "metadata": {},
   "source": [
    "'Remember , remember , the fifth of July.'.split(): This expression splits the string 'Remember , remember , the fifth of July.' into a list of substrings using whitespace as the delimiter. So, it splits the string into individual words. \n"
   ]
  },
  {
   "cell_type": "code",
   "execution_count": 18,
   "id": "17f53fd9",
   "metadata": {},
   "outputs": [
    {
     "data": {
      "text/plain": [
       "'There-can-only-one.'"
      ]
     },
     "execution_count": 18,
     "metadata": {},
     "output_type": "execute_result"
    }
   ],
   "source": [
    "'-'.join('There can only one.'.split())"
   ]
  },
  {
   "cell_type": "markdown",
   "id": "c6f11800",
   "metadata": {},
   "source": [
    "'-'.join('There can only one.'.split()): This expression splits the string 'There can only one.' into a list of substrings using whitespace as the delimiter and then joins these substrings using a hyphen ('-') as the separator. So, it joins the words of the string with hyphens in between. The result is 'There-can-only-one.'."
   ]
  },
  {
   "cell_type": "markdown",
   "id": "027e37aa",
   "metadata": {},
   "source": [
    "# Q9. What are the methods for right-justifying, left-justifying, and centering a string?"
   ]
  },
  {
   "cell_type": "markdown",
   "id": "4d566522",
   "metadata": {},
   "source": [
    "Right-justifying: Use the rjust() method. It pads the string with spaces on the left so that the string is right-justified in a field of a given width. \n",
    "\n",
    "\n",
    "Left-justifying: Use the ljust() method. It pads the string with spaces on the right so that the string is left-justified in a field of a given width.\n",
    "\n",
    "Centering: Use the center() method. It pads the string with spaces on both sides so that the string is centered in a field of a given width."
   ]
  },
  {
   "cell_type": "code",
   "execution_count": 22,
   "id": "32baac6b",
   "metadata": {},
   "outputs": [
    {
     "name": "stdout",
     "output_type": "stream",
     "text": [
      "     hello\n",
      "hello     \n",
      "  hello   \n"
     ]
    }
   ],
   "source": [
    "s = \"hello\"\n",
    "justified_string1 = s.rjust(10)\n",
    "print(justified_string1)\n",
    "\n",
    "justified_string2 = s.ljust(10)\n",
    "print(justified_string2) \n",
    "\n",
    "centered_string3 = s.center(10)\n",
    "print(centered_string3)  "
   ]
  },
  {
   "cell_type": "markdown",
   "id": "9712b04e",
   "metadata": {},
   "source": [
    "# Q10. What is the best way to remove whitespace characters from the start or end?"
   ]
  },
  {
   "cell_type": "markdown",
   "id": "b58c34e7",
   "metadata": {},
   "source": [
    "The best way to remove whitespace characters from start or end is to use method strip() \n",
    "this method removes leading and trailing whitespace characters from the string "
   ]
  },
  {
   "cell_type": "code",
   "execution_count": null,
   "id": "3097f569",
   "metadata": {},
   "outputs": [],
   "source": []
  }
 ],
 "metadata": {
  "kernelspec": {
   "display_name": "Python 3 (ipykernel)",
   "language": "python",
   "name": "python3"
  },
  "language_info": {
   "codemirror_mode": {
    "name": "ipython",
    "version": 3
   },
   "file_extension": ".py",
   "mimetype": "text/x-python",
   "name": "python",
   "nbconvert_exporter": "python",
   "pygments_lexer": "ipython3",
   "version": "3.9.13"
  }
 },
 "nbformat": 4,
 "nbformat_minor": 5
}
