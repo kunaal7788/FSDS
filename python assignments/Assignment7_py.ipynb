{
 "cells": [
  {
   "cell_type": "markdown",
   "id": "32a9ee3e",
   "metadata": {},
   "source": [
    "# Q1.What is the name of the feature responsible for generating Regex objects?"
   ]
  },
  {
   "cell_type": "markdown",
   "id": "946c355c",
   "metadata": {},
   "source": [
    "In Python the feature responsible for generating REGEX objects is the \"re\" module. This module provides support for regular expressions in Python ,allowing you to create and manipulate regular expressions patterns using functions like 're.compile()'"
   ]
  },
  {
   "cell_type": "markdown",
   "id": "7b9cd0ba",
   "metadata": {},
   "source": [
    "# Q2. Why do raw strings often appear in Regex objects?"
   ]
  },
  {
   "cell_type": "markdown",
   "id": "94f225bb",
   "metadata": {},
   "source": [
    "Raw strings, denoted by prefixing the string literal with r or R, are commonly employed in regular expressions to prevent backslashes from being interpreted as escape characters. This practice simplifies the writing and reading of regex patterns by ensuring that backslashes are treated literally. Without raw strings, one would need to double escape certain characters, leading to potential confusion and errors. Therefore, raw strings enhance the clarity and maintainability of regular expression code in Python."
   ]
  },
  {
   "cell_type": "markdown",
   "id": "8c9bb20d",
   "metadata": {},
   "source": [
    "# Q3.What is the return value of the search() method?"
   ]
  },
  {
   "cell_type": "markdown",
   "id": "73113268",
   "metadata": {},
   "source": [
    "The search() method in Python's re module returns a match object if a match is found, or None if no match is found. This match object provides information about the match, such as the starting and ending indices of the match within the searched string, as well as the matched substring itself. It's worth noting that the search() method only returns the first match found in the string, even if there are multiple matches."
   ]
  },
  {
   "cell_type": "markdown",
   "id": "64dac713",
   "metadata": {},
   "source": [
    "# Q4.From a Match item, how do you get the actual strings that match the pattern?"
   ]
  },
  {
   "cell_type": "markdown",
   "id": "08fe3ff2",
   "metadata": {},
   "source": [
    "To extract the actual strings that match the pattern from a Match object in Python, you can use the group() method. If the Match object is named match_obj, you can call match_obj.group() to retrieve the entire matched string. Additionally, you can provide an argument to group() to specify a particular capturing group within the regular expression pattern. For example, match_obj.group(1) would return the string matched by the first capturing group in the pattern, match_obj.group(2) for the second capturing group, and so on. If no argument is provided, group(0) is assumed, which returns the entire matched string."
   ]
  },
  {
   "cell_type": "markdown",
   "id": "45a7b020",
   "metadata": {},
   "source": [
    "# Q5. In the regex which created from the '\n",
    "(\\d\\d\\d)-(\\d\\d\\d-\\d\\d\\d\\d)' what does group zero cover?\n",
    "Group 2? Group 1?"
   ]
  },
  {
   "cell_type": "markdown",
   "id": "ca2c24b7",
   "metadata": {},
   "source": [
    "\n",
    "In the regex (\\d\\d\\d)-(\\d\\d\\d-\\d\\d\\d\\d), group zero covers the entire matched string. It represents the entire pattern matched by the regular expression.\n",
    "\n",
    "Group 1 covers the first capturing group (\\d\\d\\d), which matches three digits followed by a hyphen.\n",
    "\n",
    "Group 2 covers the second capturing group (\\d\\d\\d-\\d\\d\\d\\d), which matches three digits, a hyphen, and then four digits."
   ]
  },
  {
   "cell_type": "markdown",
   "id": "863f1cef",
   "metadata": {},
   "source": [
    "# Q.6. In standard expression syntax, parentheses and intervals have distinct meanings. How can you tell a regex that you want it to fit real parentheses and periods?"
   ]
  },
  {
   "cell_type": "markdown",
   "id": "d39a0235",
   "metadata": {},
   "source": [
    "To specify that you want a regular expression to match literal parentheses and periods, you need to escape them using a backslash (\\). In regular expression syntax:\n",
    "\n",
    "To match a literal parentheses character ( or ), you would use \\( and \\), respectively.\n",
    "To match a literal period character ., you would use \\..\n",
    "By preceding these characters with a backslash, you are instructing the regular expression engine to treat them as literal characters to match, rather than interpreting them as part of the regular expression syntax."
   ]
  },
  {
   "cell_type": "markdown",
   "id": "da60ca11",
   "metadata": {},
   "source": [
    "# Q7. The findall() method returns a string list or a list of string tuples. What causes it to return one of the two options?"
   ]
  },
  {
   "cell_type": "markdown",
   "id": "a758ba4e",
   "metadata": {},
   "source": [
    "The findall() method in Python's re module returns a list of string matches when there are no capturing groups in the regular expression pattern. Each element in the list corresponds to a separate match found in the searched string.\n",
    "\n",
    "However, if the regular expression pattern contains capturing groups, findall() returns a list of tuples. Each tuple represents a single match, and the elements of the tuple correspond to the substrings matched by each capturing group within that match.\n",
    "\n",
    "So, the presence or absence of capturing groups in the regex pattern determines whether findall() returns a list of strings or a list of tuples."
   ]
  },
  {
   "cell_type": "markdown",
   "id": "2d98ed2b",
   "metadata": {},
   "source": [
    "# Q8. In standard expressions, what does the | character mean?"
   ]
  },
  {
   "cell_type": "markdown",
   "id": "0daa1262",
   "metadata": {},
   "source": [
    "In regular expressions, the | character represents the logical OR operator. It allows you to specify multiple alternative patterns, and the regular expression engine will match any of them. For example, the pattern cat|dog would match either \"cat\" or \"dog\" in the searched string. The | character is used to create a choice between different patterns within the regex."
   ]
  },
  {
   "cell_type": "markdown",
   "id": "28e16cff",
   "metadata": {},
   "source": [
    "# Q9. In regular expressions, what does the character stand for?"
   ]
  },
  {
   "cell_type": "code",
   "execution_count": null,
   "id": "eb4f278c",
   "metadata": {},
   "outputs": [],
   "source": []
  },
  {
   "cell_type": "markdown",
   "id": "229d2f99",
   "metadata": {},
   "source": [
    "# Q10.In regular expressions, what is the difference between the + and * characters?"
   ]
  },
  {
   "cell_type": "markdown",
   "id": "d3b90708",
   "metadata": {},
   "source": [
    "In regular expressions:\n",
    "\n",
    "The + character matches one or more occurrences of the preceding element in the pattern. For example, a+ would match one or more occurrences of the letter \"a\" in the searched string. It requires at least one occurrence to match.\n",
    "\n",
    "The * character matches zero or more occurrences of the preceding element in the pattern. For example, a* would match zero or more occurrences of the letter \"a\" in the searched string. It allows for no occurrences to match as well.\n",
    "\n",
    "In summary, + requires at least one occurrence, while * allows for zero or more occurrences."
   ]
  },
  {
   "cell_type": "markdown",
   "id": "fa3b5ea5",
   "metadata": {},
   "source": [
    "# Q11. What is the difference between {4} and {4,5} in regular expression?"
   ]
  },
  {
   "cell_type": "markdown",
   "id": "26484feb",
   "metadata": {},
   "source": [
    "In regular expressions:\n",
    "\n",
    "{4} specifies exactly 4 occurrences of the preceding element in the pattern. For example, \\d{4} would match exactly four digits in the searched string.\n",
    "\n",
    "{4,5} specifies a range of occurrences of the preceding element in the pattern, allowing for a minimum of 4 and a maximum of 5 occurrences. For example, \\d{4,5} would match a sequence of digits with a length of 4 or 5 in the searched string."
   ]
  },
  {
   "cell_type": "markdown",
   "id": "dd5d0623",
   "metadata": {},
   "source": [
    "# Q12. What do you mean by the \\d, \\w, and \\s shorthand character classes signify in regular expressions?"
   ]
  },
  {
   "cell_type": "markdown",
   "id": "6bb4fc48",
   "metadata": {},
   "source": [
    "In regular expressions, \\d, \\w, and \\s are shorthand character classes that represent certain common character types:\n",
    "\n",
    "\\d: Represents any digit character. It is equivalent to the character class [0-9].\n",
    "\n",
    "\\w: Represents any alphanumeric character (i.e., letters, digits, and underscores). It is equivalent to the character class [a-zA-Z0-9_].\n",
    "\n",
    "\\s: Represents any whitespace character, including spaces, tabs, and newline characters. It is equivalent to the character class [\\t\\n\\r\\f\\v]."
   ]
  },
  {
   "cell_type": "markdown",
   "id": "c6809f98",
   "metadata": {},
   "source": [
    "# Q13. What do means by \\D, \\W, and \\S shorthand character classes signify in regular expressions?"
   ]
  },
  {
   "cell_type": "markdown",
   "id": "b35ed607",
   "metadata": {},
   "source": [
    "n regular expressions, \\D, \\W, and \\S are shorthand character classes that represent the negation of certain common character types:\n",
    "\n",
    "\\D: Represents any character that is not a digit. It is the negation of \\d.\n",
    "\n",
    "\\W: Represents any character that is not alphanumeric or an underscore. It is the negation of \\w.\n",
    "\n",
    "\\S: Represents any character that is not whitespace. It is the negation of \\s."
   ]
  },
  {
   "cell_type": "markdown",
   "id": "882099b8",
   "metadata": {},
   "source": [
    "# Q14. What is the difference between .*? and .*?"
   ]
  },
  {
   "cell_type": "code",
   "execution_count": null,
   "id": "ae0cf479",
   "metadata": {},
   "outputs": [],
   "source": []
  },
  {
   "cell_type": "markdown",
   "id": "56ef3146",
   "metadata": {},
   "source": [
    "# Q15. What is the syntax for matching both numbers and lowercase letters with a character class?"
   ]
  },
  {
   "cell_type": "markdown",
   "id": "cd54c4e3",
   "metadata": {},
   "source": [
    "\n",
    "To match both numbers and lowercase letters with a character class in a regular expression, you can use the following syntax: \n",
    "   \n",
    "[0-9a-z]\n"
   ]
  },
  {
   "cell_type": "markdown",
   "id": "6eeefaa9",
   "metadata": {},
   "source": [
    "# Q16. What is the procedure for making a normal expression in regax case insensitive?"
   ]
  },
  {
   "cell_type": "markdown",
   "id": "6de76a30",
   "metadata": {},
   "source": [
    "To make a regular expression case insensitive in Python, you can use the re.IGNORECASE flag or its abbreviation re.I when compiling the regular expression pattern. This flag instructs the regular expression engine to ignore case differences when matching. \n",
    "\n",
    "Here's the procedure:\n",
    "\n",
    "1. Compile the regular expression pattern using re.compile().\n",
    "\n",
    "2.  Pass re.IGNORECASE or re.I as the second argument to re.compile().\n",
    "\n",
    "import re\n",
    "\n",
    "pattern = re.compile(r'hello', re.IGNORECASE)"
   ]
  },
  {
   "cell_type": "markdown",
   "id": "d02ffdb2",
   "metadata": {},
   "source": [
    "# Q17.What does the . character normally match? What does it match if re.DOTALL is passed as 2nd argument in re.compile()?"
   ]
  },
  {
   "cell_type": "markdown",
   "id": "06582b6d",
   "metadata": {},
   "source": [
    "In regular expressions, the . (dot) character normally matches any character except for a newline character (\\n).\n",
    "\n",
    "However, if re.DOTALL (or its abbreviation re.S) is passed as the second argument to re.compile(), then the dot character matches any character including newline characters. This flag changes the behavior of the dot metacharacter so that it matches absolutely any character in the string being searched, including newline characters."
   ]
  },
  {
   "cell_type": "markdown",
   "id": "e3ce34ef",
   "metadata": {},
   "source": [
    "# 18. If numReg = re.compile('\\d+'), what will numRegex.sub('39', '11 drummers, 10 pipers, five rings, 4 hen') return?"
   ]
  },
  {
   "cell_type": "markdown",
   "id": "8d577442",
   "metadata": {},
   "source": [
    "The numRegex.sub('X', '11 drummers, 10 pipers, five rings, 4 hen') call will replace all occurrences of one or more digits in the input string with the character 'X'.\n",
    "\n",
    "So, the output will be: 'X drummers, X pipers, five rings, X hen'."
   ]
  },
  {
   "cell_type": "markdown",
   "id": "ac946976",
   "metadata": {},
   "source": [
    "# Q19. What does passing re.VERBOSE as the 2nd argument to re.compile() allow to do?"
   ]
  },
  {
   "cell_type": "markdown",
   "id": "56d7f238",
   "metadata": {},
   "source": [
    "Passing re.VERBOSE as the second argument to re.compile() in Python allows for clearer and more organized regular expression patterns. This flag enables the use of whitespace and comments within the pattern, making it easier to structure and document complex expressions. Whitespace characters (except within character classes or escaped with a backslash) are ignored, facilitating multiline expressions and indentation for improved readability. Additionally, comments prefixed with # can be included to explain specific parts of the pattern, enhancing understanding and maintainability. Overall, re.VERBOSE enhances the clarity and comprehensibility of regular expressions, particularly in intricate or lengthy patterns."
   ]
  },
  {
   "cell_type": "markdown",
   "id": "3e67e808",
   "metadata": {},
   "source": [
    "# Q20 How would you write a regex that match a number with comma for every three digits? It mustmatch the given following:\n",
    "\n",
    "'42'\n",
    "\n",
    "'1,234'\n",
    "\n",
    "'6,368,745'\n",
    "\n",
    "\n",
    "\n",
    "but not the following:\n",
    "\n",
    "\n",
    "'12,34,567'(which has only two digits between the commas)\n",
    "\n",
    "'1234'(which lacks commas)"
   ]
  },
  {
   "cell_type": "markdown",
   "id": "2ab66f8e",
   "metadata": {},
   "source": [
    "ANSWER-\n",
    "\n",
    "To match numbers with commas for every three digits, you can use the following regular expression:\n",
    "    \n",
    "    ^\\d{1,3}(,\\d{3})*$\n",
    "\n",
    "    Explanation:\n",
    "\n",
    ": Asserts the start of the string.\n",
    "\\d{1,3}: Matches between 1 and 3 digits.\n",
    "(,\\d{3})*: Matches zero or more occurrences of a comma followed by exactly 3 digits.\n",
    "$: Asserts the end of the string.\n",
    "This pattern will match strings that start with 1 to 3 digits, followed by zero or more groups of comma and exactly 3 digits. This ensures that the numbers are separated by commas every three digits."
   ]
  },
  {
   "cell_type": "markdown",
   "id": "644ed46a",
   "metadata": {},
   "source": [
    "# 21. How would you write a regex that matches the full name of someone whose last name is Watanabe? You can assume that the first name that comes before it will always be one word that begins with a capital letter. The regex must match the following: \n",
    "'Haruto Watanabe'\n",
    "\n",
    "'Alice Watanabe'\n",
    "\n",
    "'RoboCop Watanabe'\n",
    "\n",
    "but not the following:\n",
    "\n",
    "'haruto Watanabe' (where the first name is not capitalized)\n",
    "\n",
    "'Mr. Watanabe' (where the preceding word has a nonletter \n",
    "character)\n",
    "\n",
    "'Watanabe' (which has no first name)\n",
    "\n",
    "'Haruto watanabe' (where Watanabe is not capitalized)"
   ]
  },
  {
   "cell_type": "markdown",
   "id": "e07ed0dd",
   "metadata": {},
   "source": [
    "To match the full name of someone whose last name is \"Watanabe\" with the first name always starting with a capital letter, you can use the following regular expression:\n",
    "    \n",
    "    ^[A-Z][a-zA-Z]*\\sWatanabe$\n",
    "\n",
    " Explanation:\n",
    "\n",
    "^: Asserts the start of the string.\n",
    "[A-Z]: Matches a single uppercase letter, which represents the first letter of the first name.\n",
    "[a-zA-Z]*: Matches zero or more lowercase or uppercase letters, which represent the remaining characters of the first name.\n",
    "\\s: Matches a single whitespace character (space).\n",
    "Watanabe: Matches the literal string \"Watanabe\", representing the last name.\n",
    "$: Asserts the end of the string.\n",
    "This pattern ensures that the first name starts with a capital letter and is followed by any combination of lowercase or uppercase letters, and then followed by a space and the last name \"Watanabe\".   "
   ]
  },
  {
   "cell_type": "markdown",
   "id": "b28f60bf",
   "metadata": {},
   "source": [
    "# Q22.How would you write a regex that matches a sentence where the first word is either Alice, Bob,or Carol; the second word is either eats, pets, or throws; the third word is apples, cats, or baseballs;and the sentence ends with a period? This regex should be case-insensitive. It must match the following:\n",
    "'Alice eats apples'\n",
    "\n",
    "'Bob pets cats'\n",
    "\n",
    "'Carol throws baseballs'\n",
    "\n",
    "'Alice throws Apples'\n",
    "\n",
    "'BOB EATS CATS'\n",
    "\n",
    "but not the following:\n",
    "\n",
    "'RoboCop eats apples'\n",
    "\n",
    "'ALICE THROWS FOOTBALLS'\n",
    "\n",
    "'Carol eats 7 cats'"
   ]
  },
  {
   "cell_type": "markdown",
   "id": "2077f03e",
   "metadata": {},
   "source": [
    "ANSWER -\n",
    "\n",
    "To match a sentence with specific combinations of words and punctuation, you can use the following case-insensitive regular expression: \n",
    "    ^(Alice|Bob|Carol)\\s(eats|pets|throws)\\s(apples|cats|baseballs)\\.$\n",
    "\n",
    "\n",
    "Explanation:\n",
    "\n",
    "1. ^: Asserts the start of the string.\n",
    "\n",
    "2. (Alice|Bob|Carol): Matches either \"Alice\", \"Bob\", or \"Carol\"\n",
    "\n",
    "3. \\s: Matches a single whitespace character.\n",
    "\n",
    "4. (eats|pets|throws): Matches either \"eats\", \"pets\", or \"throws\".\n",
    "\n",
    "5. (apples|cats|baseballs): Matches either \"apples\", \"cats\", or \"baseballs\".\n",
    "\n",
    "6. \\.: Matches a period (escaped with backslash).\n",
    "\n",
    "7. $: Asserts the end of the string.\n",
    "\n",
    "This pattern ensures that the sentence starts with one of the specified names, followed by one of the specified actions, then one of the specified objects, and ends with a period."
   ]
  },
  {
   "cell_type": "code",
   "execution_count": null,
   "id": "8e287645",
   "metadata": {},
   "outputs": [],
   "source": []
  }
 ],
 "metadata": {
  "kernelspec": {
   "display_name": "Python 3 (ipykernel)",
   "language": "python",
   "name": "python3"
  },
  "language_info": {
   "codemirror_mode": {
    "name": "ipython",
    "version": 3
   },
   "file_extension": ".py",
   "mimetype": "text/x-python",
   "name": "python",
   "nbconvert_exporter": "python",
   "pygments_lexer": "ipython3",
   "version": "3.9.13"
  }
 },
 "nbformat": 4,
 "nbformat_minor": 5
}
