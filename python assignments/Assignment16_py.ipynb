{
 "cells": [
  {
   "cell_type": "markdown",
   "id": "dee581f5",
   "metadata": {},
   "source": [
    "# 1. Create a list called years_list, starting with the year of your birth, and each year thereafter untilthe year of your fifth birthday. For example, if you were born in 1980. the list would be years_list =[1980, 1981, 1982, 1983, 1984, 1985]."
   ]
  },
  {
   "cell_type": "code",
   "execution_count": 2,
   "id": "06cc124b",
   "metadata": {},
   "outputs": [
    {
     "name": "stdout",
     "output_type": "stream",
     "text": [
      "Enter your birth year: 1980\n",
      "[1980, 1981, 1982, 1983, 1984, 1985]\n"
     ]
    }
   ],
   "source": [
    "birth_year = int(input(\"Enter your birth year: \"))\n",
    "years_list = [birth_year + i for i in range(6)]\n",
    "print(years_list)\n"
   ]
  },
  {
   "cell_type": "markdown",
   "id": "752ca396",
   "metadata": {},
   "source": [
    "# 2. In which year in years_list was your third birthday? Remember, you were 0 years of age for your first year."
   ]
  },
  {
   "cell_type": "code",
   "execution_count": 5,
   "id": "933c3e7d",
   "metadata": {},
   "outputs": [],
   "source": [
    "third_birthday= years_list[3]"
   ]
  },
  {
   "cell_type": "code",
   "execution_count": 9,
   "id": "caebc4ae",
   "metadata": {},
   "outputs": [
    {
     "name": "stdout",
     "output_type": "stream",
     "text": [
      "Your third birthday will be in  1983\n"
     ]
    }
   ],
   "source": [
    "print(\"Your third birthday will be in \", third_birthday)"
   ]
  },
  {
   "cell_type": "markdown",
   "id": "e5c50938",
   "metadata": {},
   "source": [
    "# 3.In the years list, which year were you the oldest?"
   ]
  },
  {
   "cell_type": "code",
   "execution_count": 10,
   "id": "18ee2c07",
   "metadata": {},
   "outputs": [
    {
     "name": "stdout",
     "output_type": "stream",
     "text": [
      "In the years list in  1985 i was oldest\n"
     ]
    }
   ],
   "source": [
    "oldest_year = max(years_list)\n",
    "print (\"In the years list in \",oldest_year,\"i was oldest\")"
   ]
  },
  {
   "cell_type": "markdown",
   "id": "773c0b03",
   "metadata": {},
   "source": [
    "# 4. Make a list called things with these three strings as elements: 'mozzarella';, 'cinderella','salmonella'"
   ]
  },
  {
   "cell_type": "code",
   "execution_count": 14,
   "id": "e71b6068",
   "metadata": {},
   "outputs": [
    {
     "name": "stdout",
     "output_type": "stream",
     "text": [
      "['mozzarella', 'cinderella', 'salmonella']\n"
     ]
    }
   ],
   "source": [
    "things=['mozzarella', 'cinderella','salmonella']\n",
    "print(things)"
   ]
  },
  {
   "cell_type": "code",
   "execution_count": 13,
   "id": "6c274a14",
   "metadata": {},
   "outputs": [
    {
     "data": {
      "text/plain": [
       "list"
      ]
     },
     "execution_count": 13,
     "metadata": {},
     "output_type": "execute_result"
    }
   ],
   "source": [
    "type(things)"
   ]
  },
  {
   "cell_type": "markdown",
   "id": "6c61b1aa",
   "metadata": {},
   "source": [
    "# 5. Capitalize the element in things that refers to a person and then print the list. Did it change the element in the list?"
   ]
  },
  {
   "cell_type": "code",
   "execution_count": 19,
   "id": "8ea510f4",
   "metadata": {},
   "outputs": [
    {
     "name": "stdout",
     "output_type": "stream",
     "text": [
      "['mozzarella', 'Cinderella', 'salmonella']\n"
     ]
    }
   ],
   "source": [
    "things = ['mozzarella', 'cinderella', 'salmonella']\n",
    "for i in range(len(things)):\n",
    "    if 'cinderella' in things[i]:\n",
    "        things[i] = things[i].capitalize()\n",
    "print(things)\n"
   ]
  },
  {
   "cell_type": "markdown",
   "id": "08a86c5f",
   "metadata": {},
   "source": [
    "Yes, it changed the element in the list. When you print things, you'll see that 'Cinderella' is now capitalized."
   ]
  },
  {
   "cell_type": "markdown",
   "id": "7c8ea02d",
   "metadata": {},
   "source": [
    "# 6. Make a surprise list with the elements &quot;Groucho,&quot; &quot;Chico,&quot; and &quot;Harpo.&quot;"
   ]
  },
  {
   "cell_type": "code",
   "execution_count": 26,
   "id": "fedac0a3",
   "metadata": {},
   "outputs": [
    {
     "name": "stdout",
     "output_type": "stream",
     "text": [
      "['Groucho', 'Chico', 'Harpo']\n",
      "<class 'list'>\n"
     ]
    }
   ],
   "source": [
    "surprise =[\"Groucho\", \"Chico\",  \"Harpo\"]\n",
    "print(surprise)\n",
    "print(type(surprise))"
   ]
  },
  {
   "cell_type": "markdown",
   "id": "af00fea1",
   "metadata": {},
   "source": [
    "# 7. Lowercase the last element of the surprise list, reverse it, and then capitalize it."
   ]
  },
  {
   "cell_type": "code",
   "execution_count": 27,
   "id": "57abf03d",
   "metadata": {},
   "outputs": [
    {
     "name": "stdout",
     "output_type": "stream",
     "text": [
      "Oprah\n"
     ]
    }
   ],
   "source": [
    "last_element =surprise[-1].lower()\n",
    "reversed_last_element =last_element[::-1]\n",
    "capitalized_reversed_last_element = reversed_last_element.capitalize()\n",
    "\n",
    "print(capitalized_reversed_last_element)"
   ]
  },
  {
   "cell_type": "markdown",
   "id": "c9e78dad",
   "metadata": {},
   "source": [
    "# 8. Make an English-to-French dictionary called e2f and print it. Here are your starter words: dog is chien, cat is chat, and walrus is morse."
   ]
  },
  {
   "cell_type": "code",
   "execution_count": 29,
   "id": "eef35c74",
   "metadata": {},
   "outputs": [
    {
     "name": "stdout",
     "output_type": "stream",
     "text": [
      "{'dog': 'chien', 'cat': 'chat', 'walrus': 'morse'}\n"
     ]
    }
   ],
   "source": [
    "e2f = {\n",
    "    'dog': 'chien',\n",
    "    'cat': 'chat',\n",
    "    'walrus': 'morse'\n",
    "}\n",
    "\n",
    "print(e2f)\n",
    "#This will create a dictionary named e2f with the specified English-to-French word mappings and then print the dictionary."
   ]
  },
  {
   "cell_type": "markdown",
   "id": "56d6ec81",
   "metadata": {},
   "source": [
    "# 9. Write the French word for walrus in your three-word dictionary e2f."
   ]
  },
  {
   "cell_type": "code",
   "execution_count": 31,
   "id": "af829f86",
   "metadata": {},
   "outputs": [
    {
     "name": "stdout",
     "output_type": "stream",
     "text": [
      "The French word for walrus is : morse\n"
     ]
    }
   ],
   "source": [
    "french_word_for_walrus = e2f['walrus']\n",
    "print(\"The French word for walrus is :\",french_word_for_walrus)"
   ]
  },
  {
   "cell_type": "markdown",
   "id": "12de96f3",
   "metadata": {},
   "source": [
    "# 10. Make a French-to-English dictionary called f2e from e2f. Use the items method."
   ]
  },
  {
   "cell_type": "code",
   "execution_count": 32,
   "id": "6ccba7cf",
   "metadata": {},
   "outputs": [
    {
     "name": "stdout",
     "output_type": "stream",
     "text": [
      "{'chien': 'dog', 'chat': 'cat', 'morse': 'walrus'}\n"
     ]
    }
   ],
   "source": [
    "f2e ={value:key for key , value in e2f.items()}\n",
    "print(f2e)"
   ]
  },
  {
   "cell_type": "markdown",
   "id": "a5921905",
   "metadata": {},
   "source": [
    "# 11. Print the English version of the French word chien using f2e."
   ]
  },
  {
   "cell_type": "code",
   "execution_count": 35,
   "id": "88297ef5",
   "metadata": {},
   "outputs": [
    {
     "name": "stdout",
     "output_type": "stream",
     "text": [
      "English version of chienis  dog\n"
     ]
    }
   ],
   "source": [
    "English_version =f2e['chien']\n",
    "print (\"English version of chienis \",English_version)"
   ]
  },
  {
   "cell_type": "markdown",
   "id": "cfddde4d",
   "metadata": {},
   "source": [
    "# 12. Make and print a set of English words from the keys in e2f."
   ]
  },
  {
   "cell_type": "code",
   "execution_count": 36,
   "id": "b7cdc6fa",
   "metadata": {},
   "outputs": [
    {
     "name": "stdout",
     "output_type": "stream",
     "text": [
      "{'walrus', 'dog', 'cat'}\n"
     ]
    }
   ],
   "source": [
    "set_of_words= set(e2f.keys())\n",
    "print(set_of_words)"
   ]
  },
  {
   "cell_type": "markdown",
   "id": "80c87854",
   "metadata": {},
   "source": [
    "# 13. Make a multilevel dictionary called life. Use these strings for the topmost keys: &#39;animals&#39;, &#39;plants&#39;,and &#39;other&#39;. Make the &#39;animals&#39; key refer to another dictionary with the keys &#39;cats&#39;, &#39;octopi&#39;, and&#39;emus&#39;. Make the &#39;cats&#39; key refer to a list of strings with the values &#39;Henri&#39;, &#39;Grumpy&#39;, and &#39;Lucy&#39;.Make all the other keys refer to empty dictionaries."
   ]
  },
  {
   "cell_type": "code",
   "execution_count": 37,
   "id": "9609c4d7",
   "metadata": {},
   "outputs": [
    {
     "name": "stdout",
     "output_type": "stream",
     "text": [
      "{'animals': {'cats': ['Henri', 'Grumpy', 'Lucy'], 'octopi': {}, 'emus': {}}, 'plants': {}, 'other': {}}\n"
     ]
    }
   ],
   "source": [
    "life = {\n",
    "    'animals': {\n",
    "        'cats':['Henri','Grumpy','Lucy'],\n",
    "        'octopi':{},\n",
    "        'emus':{}\n",
    "        \n",
    "    },\n",
    "    'plants':{},\n",
    "    'other': {}\n",
    "    \n",
    "}\n",
    "print(life)"
   ]
  },
  {
   "cell_type": "markdown",
   "id": "55d1fc0a",
   "metadata": {},
   "source": [
    "# Q14.Print the top-level keys of life."
   ]
  },
  {
   "cell_type": "code",
   "execution_count": 38,
   "id": "109cedd8",
   "metadata": {},
   "outputs": [
    {
     "name": "stdout",
     "output_type": "stream",
     "text": [
      "Top_level keys dict_keys(['animals', 'plants', 'other'])\n"
     ]
    }
   ],
   "source": [
    "top_level_keys =life.keys()\n",
    "print(\"Top_level keys\",top_level_keys)"
   ]
  },
  {
   "cell_type": "markdown",
   "id": "3f37d0e6",
   "metadata": {},
   "source": [
    "# Q15. Print the keys for life[&#39;animals&#39;]."
   ]
  },
  {
   "cell_type": "code",
   "execution_count": null,
   "id": "4098e0d5",
   "metadata": {},
   "outputs": [],
   "source": [
    "animals_keys = life['animals'].keys()\n",
    "animals_keys = life['animals'].keys()"
   ]
  }
 ],
 "metadata": {
  "kernelspec": {
   "display_name": "Python 3 (ipykernel)",
   "language": "python",
   "name": "python3"
  },
  "language_info": {
   "codemirror_mode": {
    "name": "ipython",
    "version": 3
   },
   "file_extension": ".py",
   "mimetype": "text/x-python",
   "name": "python",
   "nbconvert_exporter": "python",
   "pygments_lexer": "ipython3",
   "version": "3.9.13"
  }
 },
 "nbformat": 4,
 "nbformat_minor": 5
}
