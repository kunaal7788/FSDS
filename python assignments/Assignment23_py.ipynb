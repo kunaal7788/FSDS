{
 "cells": [
  {
   "cell_type": "markdown",
   "id": "23955663",
   "metadata": {},
   "source": [
    "# 1. What is the result of the code, and why?\n",
    "&gt;&gt;&gt; def func(a, b=6, c=8):\n",
    "\n",
    "print(a, b, c)\n",
    "\n",
    "&gt;&gt;&gt; func(1, 2)"
   ]
  },
  {
   "cell_type": "code",
   "execution_count": 2,
   "id": "70d72896",
   "metadata": {},
   "outputs": [
    {
     "name": "stdout",
     "output_type": "stream",
     "text": [
      "1 2 8\n"
     ]
    }
   ],
   "source": [
    "def func(a, b=6, c=8): print(a, b, c)\n",
    "func(1, 2)"
   ]
  },
  {
   "cell_type": "markdown",
   "id": "adca83f4",
   "metadata": {},
   "source": [
    "Explanation:\n",
    "\n",
    "The function func is defined with three parameters: a, b, and c, where b and c have default values of 6 and 8 respectively.\n",
    "When the function func is called with arguments 1 and 2 (func(1, 2)), the value 1 is assigned to a, 2 is assigned to b, and c retains its default value of 8.\n",
    "Therefore, when the function is executed, it prints 1 2 8."
   ]
  },
  {
   "cell_type": "markdown",
   "id": "28529c56",
   "metadata": {},
   "source": [
    "# 2. What is the result of this code, and why?\n",
    "&gt;&gt;&gt; def func(a, b, c=5):\n",
    "\n",
    "print(a, b, c)\n",
    "\n",
    "&gt;&gt;&gt; func(1, c=3, b=2)"
   ]
  },
  {
   "cell_type": "code",
   "execution_count": 6,
   "id": "8a46d113",
   "metadata": {},
   "outputs": [],
   "source": [
    "def func(a, b, c=5):\n",
    "     print(a, b, c)"
   ]
  },
  {
   "cell_type": "code",
   "execution_count": 7,
   "id": "0bce25ba",
   "metadata": {},
   "outputs": [
    {
     "name": "stdout",
     "output_type": "stream",
     "text": [
      "1 2 3\n"
     ]
    }
   ],
   "source": [
    "func(1, c=3, b=2)"
   ]
  },
  {
   "cell_type": "markdown",
   "id": "75dad8d9",
   "metadata": {},
   "source": [
    "Explanation:\n",
    "\n",
    "The function func is defined with three parameters: a, b, and c, where c has a default value of 5.\n",
    "When the function func is called with arguments 1, c=3, and b=2 (func(1, c=3, b=2)), the value 1 is assigned to a, 2 is explicitly assigned to b, and 3 is explicitly assigned to c.\n",
    "Therefore, when the function is executed, it prints 1 2 3. The explicitly passed values for b and c override the default values."
   ]
  },
  {
   "cell_type": "markdown",
   "id": "2b94ad9a",
   "metadata": {},
   "source": [
    "# 3. How about this code: what is its result, and why?\n",
    "&gt;&gt;&gt; def func(a, *pargs):\n",
    "\n",
    "print(a, pargs)\n",
    "\n",
    "&gt;&gt;&gt; func(1, 2, 3)"
   ]
  },
  {
   "cell_type": "code",
   "execution_count": 8,
   "id": "317adb02",
   "metadata": {},
   "outputs": [
    {
     "name": "stdout",
     "output_type": "stream",
     "text": [
      "1 (2, 3)\n"
     ]
    }
   ],
   "source": [
    "def func(a, *pargs):\n",
    "    print(a, pargs)\n",
    "func(1, 2, 3)"
   ]
  },
  {
   "cell_type": "markdown",
   "id": "397d8197",
   "metadata": {},
   "source": [
    "Explanation:\n",
    "\n",
    "The function func is defined with a parameter a and *pargs, where *pargs collects any additional positional arguments passed to the function as a tuple.\n",
    "When the function func is called with arguments 1, 2, and 3 (func(1, 2, 3)), the value 1 is assigned to a, and the additional positional arguments 2 and 3 are collected into the pargs tuple.\n",
    "Therefore, when the function is executed, it prints 1 (2, 3), where pargs is a tuple containing the additional positional arguments 2 and 3."
   ]
  },
  {
   "cell_type": "markdown",
   "id": "8a5e065a",
   "metadata": {},
   "source": [
    "# 4. What does this code print, and why?\n",
    "&gt;&gt;&gt; def func(a, **kargs):\n",
    "\n",
    "print(a, kargs)\n",
    "\n",
    "&gt;&gt;&gt; func(a=1, c=3, b=2)"
   ]
  },
  {
   "cell_type": "code",
   "execution_count": 9,
   "id": "0d1d9302",
   "metadata": {},
   "outputs": [
    {
     "name": "stdout",
     "output_type": "stream",
     "text": [
      "1 {'c': 3, 'b': 2}\n"
     ]
    }
   ],
   "source": [
    "def func(a, **kargs):\n",
    "    print(a, kargs)\n",
    "\n",
    "func(a=1, c=3, b=2)"
   ]
  },
  {
   "cell_type": "markdown",
   "id": "62255fce",
   "metadata": {},
   "source": [
    "Explanation:\n",
    "\n",
    "The function func is defined with a parameter a and **kargs, where **kargs collects any additional keyword arguments passed to the function as a dictionary.\n",
    "When the function func is called with keyword arguments a=1, c=3, and b=2 (func(a=1, c=3, b=2)), the value 1 is assigned to a, and the additional keyword arguments c=3 and b=2 are collected into the kargs dictionary.\n",
    "Therefore, when the function is executed, it prints 1 {'c': 3, 'b': 2}, where kargs is a dictionary containing the additional keyword arguments c=3 and b=2."
   ]
  },
  {
   "cell_type": "markdown",
   "id": "68502dbf",
   "metadata": {},
   "source": [
    "# 5. What gets printed by this, and explain?\n",
    "\n",
    "&gt;&gt;&gt; def func(a, b, c=8, d=5):\n",
    "    \n",
    "    print(a, b, c, d)\n",
    "    \n",
    "&gt;&gt;&gt; func(1, *(5, 6))"
   ]
  },
  {
   "cell_type": "code",
   "execution_count": 10,
   "id": "9de161a5",
   "metadata": {},
   "outputs": [
    {
     "name": "stdout",
     "output_type": "stream",
     "text": [
      "1 5 6 5\n"
     ]
    }
   ],
   "source": [
    "def func(a, b, c=8, d=5):\n",
    "    print(a, b, c, d)\n",
    "func(1, *(5, 6))"
   ]
  },
  {
   "cell_type": "markdown",
   "id": "f6e9d621",
   "metadata": {},
   "source": [
    "Explanation:\n",
    "\n",
    "The function func is defined with four parameters: a, b, c, and d, where c and d have default values of 8 and 5 respectively.\n",
    "When the function func is called with arguments 1 and *(5, 6) (func(1, *(5, 6))), the value 1 is assigned to a, and the tuple (5, 6) is unpacked into positional arguments, where 5 is assigned to b and 6 is assigned to c (because it corresponds to the second parameter b). Since there's no value explicitly passed for d, it retains its default value of 5.\n",
    "Therefore, when the function is executed, it prints 1 5 6 5, where a is 1, b is 5, c is 6, and d is 5."
   ]
  },
  {
   "cell_type": "markdown",
   "id": "1f198d03",
   "metadata": {},
   "source": [
    "# 6. what is the result of this, and explain?\n",
    "\n",
    "&gt;&gt;&gt; def func(a, b, c): a = 2; b[0] = &#39;x&#39;; \n",
    "\n",
    "c[&#39;a&#39;] = &#39;y&#39;\n",
    "\n",
    "&gt;&gt;&gt; l=1; m=[1]; n={&#39;a&#39;:0}\n",
    "\n",
    "&gt;&gt;&gt; func(l, m, n)\n",
    "\n",
    "&gt;&gt;&gt; l, m, n"
   ]
  },
  {
   "cell_type": "code",
   "execution_count": 12,
   "id": "1f7fb296",
   "metadata": {},
   "outputs": [],
   "source": [
    "def func(a, b, c): a = 2; b[0] = 'x'; c['a'] = 'y'\n",
    "\n",
    "l=1; m=[1]; n={'a':0}\n"
   ]
  },
  {
   "cell_type": "code",
   "execution_count": null,
   "id": "90326750",
   "metadata": {},
   "outputs": [],
   "source": []
  }
 ],
 "metadata": {
  "kernelspec": {
   "display_name": "Python 3 (ipykernel)",
   "language": "python",
   "name": "python3"
  },
  "language_info": {
   "codemirror_mode": {
    "name": "ipython",
    "version": 3
   },
   "file_extension": ".py",
   "mimetype": "text/x-python",
   "name": "python",
   "nbconvert_exporter": "python",
   "pygments_lexer": "ipython3",
   "version": "3.9.13"
  }
 },
 "nbformat": 4,
 "nbformat_minor": 5
}
