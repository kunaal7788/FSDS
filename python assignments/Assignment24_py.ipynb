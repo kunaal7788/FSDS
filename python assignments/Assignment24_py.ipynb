{
 "cells": [
  {
   "cell_type": "markdown",
   "id": "ff0d5d85",
   "metadata": {},
   "source": [
    "# 1. What is the relationship between def statements and lambda expressions ?\n"
   ]
  },
  {
   "cell_type": "markdown",
   "id": "e1ce5903",
   "metadata": {},
   "source": [
    "Both def statements and lambda expressions are used to define functions in Python.\n",
    "The main difference is that def statements allow you to create named functions with multiple statements and a formal return statement, while lambda expressions allow you to create anonymous functions with a single expression.\n"
   ]
  },
  {
   "cell_type": "markdown",
   "id": "f6ce06d7",
   "metadata": {},
   "source": [
    "# 2. What is the benefit of lambda?\n"
   ]
  },
  {
   "cell_type": "markdown",
   "id": "8da30ec5",
   "metadata": {},
   "source": [
    "Lambdas are concise and allow you to define simple functions inline without the need for a separate def statement.\n",
    "They are useful for short, one-off functions where creating a named function is unnecessary or would clutter the code."
   ]
  },
  {
   "cell_type": "markdown",
   "id": "9e2aa237",
   "metadata": {},
   "source": [
    "# 3. Compare and contrast map, filter, and reduce.\n"
   ]
  },
  {
   "cell_type": "markdown",
   "id": "f8044e70",
   "metadata": {},
   "source": [
    "map: Applies a function to each element of an iterable and returns an iterator that yields the results.\n",
    "filter: Applies a function to each element of an iterable and returns an iterator that yields only the elements for which the function returns True.\n",
    "reduce: Applies a function of two arguments cumulatively to the items of an iterable, from left to right, to reduce the iterable to a single value."
   ]
  },
  {
   "cell_type": "markdown",
   "id": "bcf69ba0",
   "metadata": {},
   "source": [
    "# 4. What are function annotations, and how are they used?\n"
   ]
  },
  {
   "cell_type": "markdown",
   "id": "2f3aeee5",
   "metadata": {},
   "source": [
    "Function annotations are metadata about the types of function arguments and return values.\n",
    "They are defined using a colon (:) after the parameter name in the function definition and are usually specified using the -> syntax.\n",
    "They are used to document the expected types of function arguments and return values, but they are not enforced by the Python interpreter."
   ]
  },
  {
   "cell_type": "markdown",
   "id": "0ce790d1",
   "metadata": {},
   "source": [
    "# 5. What are recursive functions, and how are they used?\n"
   ]
  },
  {
   "cell_type": "markdown",
   "id": "d94b550a",
   "metadata": {},
   "source": [
    "Recursive functions are functions that call themselves within their own body.\n",
    "They are often used to solve problems that can be broken down into smaller, similar subproblems.\n",
    "Recursive functions must have a base case to prevent infinite recursion."
   ]
  },
  {
   "cell_type": "markdown",
   "id": "5efbdfc9",
   "metadata": {},
   "source": [
    "# 6. What are some general design guidelines for coding functions?\n"
   ]
  },
  {
   "cell_type": "markdown",
   "id": "81cedb2b",
   "metadata": {},
   "source": [
    "Follow the single responsibility principle: Each function should do one thing and do it well.\n",
    "Use descriptive names for functions and parameters that convey their purpose.\n",
    "Write docstrings to document the purpose, usage, and expected behavior of functions.\n",
    "Avoid side effects in functions, i.e., functions should not modify global variables or have other unexpected effects.\n",
    "Write unit tests for functions to verify their correctness and ensure they behave as expected."
   ]
  },
  {
   "cell_type": "markdown",
   "id": "26f2c5b3",
   "metadata": {},
   "source": [
    "# 7. Name three or more ways that functions can communicate results to a caller."
   ]
  },
  {
   "cell_type": "markdown",
   "id": "f9407e56",
   "metadata": {},
   "source": [
    "Returning values using the return statement.\n",
    "Modifying mutable objects passed as arguments in place.\n",
    "Printing results to the console for visual inspection.\n",
    "Raising exceptions to signal errors or special conditions."
   ]
  }
 ],
 "metadata": {
  "kernelspec": {
   "display_name": "Python 3 (ipykernel)",
   "language": "python",
   "name": "python3"
  },
  "language_info": {
   "codemirror_mode": {
    "name": "ipython",
    "version": 3
   },
   "file_extension": ".py",
   "mimetype": "text/x-python",
   "name": "python",
   "nbconvert_exporter": "python",
   "pygments_lexer": "ipython3",
   "version": "3.9.13"
  }
 },
 "nbformat": 4,
 "nbformat_minor": 5
}
