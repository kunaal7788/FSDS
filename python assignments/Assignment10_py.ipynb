{
 "cells": [
  {
   "cell_type": "markdown",
   "id": "a5707a13",
   "metadata": {},
   "source": [
    "# 1. How do you distinguish between shutil.copy() and shutil.copytree()?"
   ]
  },
  {
   "cell_type": "markdown",
   "id": "cf322eed",
   "metadata": {},
   "source": [
    "shutil.copy(src, dst): This function is used to copy a single file from the source (src) to the destination (dst). If the destination is a directory, the file will be copied into that directory with the same name. If the destination is a file path, the file will be copied to that path with the specified name \n",
    "    \n",
    "shutil.copytree(src, dst): This function is used to recursively copy an entire directory tree from the source (src) to the destination (dst). It copies the directory and all its contents (including subdirectories and files) to the specified destination. If the destination directory already exists, it must be empty or the function will raise an error."
   ]
  },
  {
   "cell_type": "markdown",
   "id": "5f5d5e8c",
   "metadata": {},
   "source": [
    "# 2. What function is used to rename files?"
   ]
  },
  {
   "cell_type": "markdown",
   "id": "380ac244",
   "metadata": {},
   "source": [
    "The os.rename() function is used to rename files in Python. It takes two arguments: the current name of the file and the new name you want to give it. Here's an example:\n",
    "    \n",
    "    import os\n",
    "\n",
    "    os.rename(\"old_file.txt\", \"new_file.txt\")\n"
   ]
  },
  {
   "cell_type": "markdown",
   "id": "607ba9ac",
   "metadata": {},
   "source": [
    "# 3. Difference Between the Delete Functions in send2trash and shutil Modules"
   ]
  },
  {
   "cell_type": "markdown",
   "id": "9d9b7041",
   "metadata": {},
   "source": [
    "send2trash:\n",
    "\n",
    "The send2trash module provides a function called send2trash().\n",
    "Functionality: Moves files or directories to the operating system's trash or recycle bin.\n",
    "Safety: It's a safer option for deletion because it allows for easy recovery of deleted files from the trash/recycle bin\n",
    "    \n",
    "shutil:\n",
    "\n",
    "The shutil module provides a function called shutil.rmtree() for deleting directories and os.remove() for deleting files.\n",
    "Functionality: Permanently deletes files or directories.\n",
    "Safety: This method does not move items to the trash/recycle bin, making recovery difficult without specialized software.\n"
   ]
  },
  {
   "cell_type": "markdown",
   "id": "6dd98caa",
   "metadata": {},
   "source": [
    "# 4.ZipFile objects have a close() method just like File objects’ close() method. What ZipFile method is\n",
    "equivalent to File objects’ open() method?"
   ]
  },
  {
   "cell_type": "markdown",
   "id": "89f96e7b",
   "metadata": {},
   "source": [
    "\n",
    "The ZipFile constructor in the zipfile module is equivalent to the open() method for file objects. It is used to open a ZIP file for reading, writing, or appending. For example, ZipFile('example.zip', 'r') opens a ZIP file for reading, while ZipFile('example.zip', 'w') opens a ZIP file for writing. This constructor initializes a ZipFile object, allowing you to perform operations like extracting or adding files within the ZIP archive, similar to how open() initializes a file object for reading or writing."
   ]
  },
  {
   "cell_type": "markdown",
   "id": "2756d50c",
   "metadata": {},
   "source": [
    "# 5. Create a programme that searches a folder tree for files with a certain file extension (such as .pdf\n",
    "or .jpg). Copy these files from whatever location they are in to a new folder."
   ]
  },
  {
   "cell_type": "code",
   "execution_count": 4,
   "id": "51dcf4cc",
   "metadata": {},
   "outputs": [],
   "source": [
    "import os\n",
    "import shutil\n",
    "\n",
    "def search_and_copy_files(source_folder, destination_folder, file_extension):\n",
    "    # Create the destination folder if it doesn't exist\n",
    "    if not os.path.exists(destination_folder):\n",
    "        os.makedirs(destination_folder)\n",
    "\n",
    "    # Walk through the source folder tree\n",
    "    for foldername, subfolders, filenames in os.walk(source_folder):\n",
    "        for filename in filenames:\n",
    "            if filename.lower().endswith(file_extension.lower()):\n",
    "                source_file = os.path.join(foldername, filename)\n",
    "                destination_file = os.path.join(destination_folder, filename)\n",
    "                \n",
    "                # Copy the file to the destination folder\n",
    "                shutil.copy2(source_file, destination_file)\n",
    "                print(f\"Copied: {source_file} to {destination_file}\")\n",
    "\n",
    "\n"
   ]
  },
  {
   "cell_type": "code",
   "execution_count": null,
   "id": "b5b0f63a",
   "metadata": {},
   "outputs": [],
   "source": []
  }
 ],
 "metadata": {
  "kernelspec": {
   "display_name": "Python 3 (ipykernel)",
   "language": "python",
   "name": "python3"
  },
  "language_info": {
   "codemirror_mode": {
    "name": "ipython",
    "version": 3
   },
   "file_extension": ".py",
   "mimetype": "text/x-python",
   "name": "python",
   "nbconvert_exporter": "python",
   "pygments_lexer": "ipython3",
   "version": "3.9.13"
  }
 },
 "nbformat": 4,
 "nbformat_minor": 5
}
