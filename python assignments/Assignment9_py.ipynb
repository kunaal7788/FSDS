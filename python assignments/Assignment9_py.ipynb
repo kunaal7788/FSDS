{
 "cells": [
  {
   "cell_type": "markdown",
   "id": "5462ba04",
   "metadata": {},
   "source": [
    "# 1. To what does a relative path refer?"
   ]
  },
  {
   "cell_type": "markdown",
   "id": "21d60a16",
   "metadata": {},
   "source": [
    "A relative path refers to a location in the file system relative to the current working directory. It does not start with the root directory but rather navigates from the current location. For example, if your current directory is /home/user and you have a file located at /home/user/documents/file.txt, you can refer to the file using the relative path documents/file.txt."
   ]
  },
  {
   "cell_type": "markdown",
   "id": "a19724ba",
   "metadata": {},
   "source": [
    "# 2. What does an absolute path start with on your operating system?"
   ]
  },
  {
   "cell_type": "markdown",
   "id": "efc07c5c",
   "metadata": {},
   "source": [
    "An absolute path starts with the root directory of the file system. On Unix-like operating systems (e.g., Linux, macOS), the root directory is denoted by /. On Windows, an absolute path typically starts with a drive letter followed by a colon and a backslash (e.g., C:\\)."
   ]
  },
  {
   "cell_type": "markdown",
   "id": "85663203",
   "metadata": {},
   "source": [
    "# 3.What do the functions os.getcwd() and os.chdir() do?"
   ]
  },
  {
   "cell_type": "markdown",
   "id": "e9588508",
   "metadata": {},
   "source": [
    "os.getcwd(): This function returns the current working directory, which is the directory from which your Python script is being run. For example, if your script is running from /home/user/projects, calling os.getcwd() will return '/home/user/projects'.\n",
    "\n",
    "os.chdir(path): This function changes the current working directory to the specified path. The argument path should be a string representing the directory you want to switch to. If the specified directory does not exist, a FileNotFoundError will be raised.\n",
    "\n"
   ]
  },
  {
   "cell_type": "markdown",
   "id": "3efb5b44",
   "metadata": {},
   "source": [
    "# 4. What are the . and .. folders?"
   ]
  },
  {
   "cell_type": "markdown",
   "id": "44f1c223",
   "metadata": {},
   "source": [
    ". (dot): The dot represents the current directory. It is used to specify the current directory in file system paths. For example, ./file.txt refers to a file named file.txt in the current directory.\n",
    "\n",
    ".. (dot-dot): The dot-dot represents the parent directory. It is used to navigate up one level in the file system hierarchy. For example, if you are in the directory /home/user, ../file.txt refers to a file named file.txt in the parent directory of /home/user."
   ]
  },
  {
   "cell_type": "markdown",
   "id": "1c23c1d4",
   "metadata": {},
   "source": [
    "# 5. In C:\\bacon\\eggs\\spam.txt, which part is the directory name, and which part is the base name?"
   ]
  },
  {
   "cell_type": "markdown",
   "id": "f45b4729",
   "metadata": {},
   "source": [
    "Directory name: C:\\bacon\\eggs is the directory name. It specifies the path to the directory containing the file spam.txt.\n",
    "\n",
    "Base name: spam.txt is the base name. It is the name of the file itself, without the path information."
   ]
  },
  {
   "cell_type": "markdown",
   "id": "c99b2fd6",
   "metadata": {},
   "source": [
    "# 6. What are the three “mode” arguments that can be passed to the open() function?"
   ]
  },
  {
   "cell_type": "markdown",
   "id": "baaedda7",
   "metadata": {},
   "source": [
    "The open() function in Python is used to open files. It accepts three main mode arguments:\n",
    "\n",
    "'r' (read mode): Opens the file for reading. This is the default mode if no mode is specified. If the file does not exist or cannot be opened for any reason, it raises a FileNotFoundError.\n",
    "\n",
    "'w' (write mode): Opens the file for writing. If the file exists, it is truncated (emptied). If the file does not exist, a new file is created. Use this mode to write data to a file. If the file exists and you do not want to erase its contents, consider using append mode ('a').\n",
    "\n",
    "'a' (append mode): Opens the file for appending new data. If the file does not exist, it creates a new file. If the file exists, new data is written at the end of the file. Existing data will not be erased."
   ]
  },
  {
   "cell_type": "markdown",
   "id": "febe15cc",
   "metadata": {},
   "source": [
    "# 7. What happens if an existing file is opened in write mode?\n"
   ]
  },
  {
   "cell_type": "markdown",
   "id": "66a8ca02",
   "metadata": {},
   "source": [
    "If an existing file is opened in write mode ('w'):\n",
    "\n",
    "If the file exists, it will be truncated (emptied) to a length of zero bytes. All previous data will be erased.\n",
    "If the file does not exist, a new file will be created.\n",
    "Therefore, opening a file in write mode can potentially result in data loss if the file already contains important information. It's important to use write mode carefully, especially when working with existing files."
   ]
  },
  {
   "cell_type": "markdown",
   "id": "8c2ded2c",
   "metadata": {},
   "source": [
    "# 8. How do you tell the difference between read() and readlines()?"
   ]
  },
  {
   "cell_type": "markdown",
   "id": "b5b02ffe",
   "metadata": {},
   "source": [
    "read(): This method reads the entire contents of a file as a single string. It reads from the current file position until the end of the file or until the specified number of bytes (if provided).\n",
    "    \n",
    "readlines(): This method reads all the lines of a file and returns them as a list of strings. Each string in the list represents a line from the file."
   ]
  },
  {
   "cell_type": "markdown",
   "id": "ec670a9f",
   "metadata": {},
   "source": [
    "# 9. What data structure does a shelf value resemble?"
   ]
  },
  {
   "cell_type": "markdown",
   "id": "0073018e",
   "metadata": {},
   "source": [
    "A shelf value in Python resembles a dictionary. It is a persistent, dictionary-like object that is implemented using a built-in module called shelve. Shelves are primarily used for storing Python objects persistently, such as storing data between program executions.\n",
    "\n",
    "Similar to dictionaries, shelves have keys and values, where keys must be strings and values can be any picklable Python object. Shelves support typical dictionary operations like accessing items by key, deleting items, and iterating over keys and values. However, unlike dictionaries, shelves are stored as files on the filesystem, providing persistence across program executions."
   ]
  },
  {
   "cell_type": "code",
   "execution_count": null,
   "id": "e05e019f",
   "metadata": {},
   "outputs": [],
   "source": []
  }
 ],
 "metadata": {
  "kernelspec": {
   "display_name": "Python 3 (ipykernel)",
   "language": "python",
   "name": "python3"
  },
  "language_info": {
   "codemirror_mode": {
    "name": "ipython",
    "version": 3
   },
   "file_extension": ".py",
   "mimetype": "text/x-python",
   "name": "python",
   "nbconvert_exporter": "python",
   "pygments_lexer": "ipython3",
   "version": "3.9.13"
  }
 },
 "nbformat": 4,
 "nbformat_minor": 5
}
