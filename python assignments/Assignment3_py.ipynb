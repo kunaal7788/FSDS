{
 "cells": [
  {
   "cell_type": "markdown",
   "id": "8eb5d8ea",
   "metadata": {},
   "source": [
    "# Q1.Why are functions advantageous to have in your programs?"
   ]
  },
  {
   "cell_type": "markdown",
   "id": "9b0c724a",
   "metadata": {},
   "source": [
    "Functions are helpful in programmming because they allow you to break down big problems into smaller parts,making your code more organized and easier to understand. You can reuse dunctions ,s you dont haver to write code over and over. They also make it easier to update your code"
   ]
  },
  {
   "cell_type": "markdown",
   "id": "31a162a1",
   "metadata": {},
   "source": [
    "# Q2.When does the code in a function run: when it's specified or when it's called?"
   ]
  },
  {
   "cell_type": "markdown",
   "id": "f0852480",
   "metadata": {},
   "source": [
    "The code in a function runs when the function is called ,not when it is specified.\n",
    "when you define a function ,you are simply specifying what the function should do when it is called. The actual esxecution of the code within the function happens oinly when you call the function \n"
   ]
  },
  {
   "cell_type": "markdown",
   "id": "5cc081bf",
   "metadata": {},
   "source": [
    "# Q3.What statement creates a function?"
   ]
  },
  {
   "cell_type": "markdown",
   "id": "bdc5c98b",
   "metadata": {},
   "source": [
    "The \"def\" Statement is used to create a function in python . it is followed by the function name, paranthesis and a colon \n",
    "\n",
    "\n",
    "eg; \n",
    "def function_name(parameters):\n",
    "    "
   ]
  },
  {
   "cell_type": "markdown",
   "id": "678c8af4",
   "metadata": {},
   "source": [
    "# Q4.What is the difference between a function and a function call?"
   ]
  },
  {
   "cell_type": "markdown",
   "id": "ca94e88c",
   "metadata": {},
   "source": [
    "A function is a block of reusable code defined to perform specific task ,using the \"def \"keyword.\n",
    "\n",
    "A function call is the process of executing that block og code by using the function's name followed by paranthesis"
   ]
  },
  {
   "cell_type": "markdown",
   "id": "e34eeae7",
   "metadata": {},
   "source": [
    "# Q5.How many global scopes are there in a Python program? How many local scopes?"
   ]
  },
  {
   "cell_type": "markdown",
   "id": "1d380652",
   "metadata": {},
   "source": [
    "In Python Program , there is a single global scope ,which exist for the duration of the program's execution.\n",
    "\n",
    "Local scope ,on the other hand ,are created whenever a function is called,Each function call generates its own local scope,which exists only for the duration of the function's execution.\n",
    "\n",
    "so , each functiion call creates a new seperate local scope "
   ]
  },
  {
   "cell_type": "markdown",
   "id": "f66bb864",
   "metadata": {},
   "source": [
    "# Q6.What happens to variables in a local scope when the function call returns?"
   ]
  },
  {
   "cell_type": "markdown",
   "id": "162f7f6f",
   "metadata": {},
   "source": [
    "When a function call returns ,the local scope associated with that function call is destroyed .This means that any variable defined within that local scope cease to exist,and their values are no longer accessible."
   ]
  },
  {
   "cell_type": "markdown",
   "id": "9d1a2bff",
   "metadata": {},
   "source": [
    "# Q7.What is the concept of a return value? Is it possible to have a return value in an expression?"
   ]
  },
  {
   "cell_type": "markdown",
   "id": "d57aabb4",
   "metadata": {},
   "source": [
    "the concept of a return value in programming refers to the value that a function evaluated to and sends vack to the caller when executed.In Python ,function call can be a part of an expression , and the return value of the function can be used within that expression .\n",
    "for example , the \"add\"function may return sum of its arguments &this return value can be assigned to a variable or used directly in an expression"
   ]
  },
  {
   "cell_type": "markdown",
   "id": "f5e411ed",
   "metadata": {},
   "source": [
    "# Q8.If a function does not have a return statement, what is the return value of a call to that function?"
   ]
  },
  {
   "cell_type": "markdown",
   "id": "08acf2a1",
   "metadata": {},
   "source": [
    "If a function does not have a return statement, the return value of a call to that function is 'None'.\n",
    "in Python ,if a function reaches the end of its code block withput encountering return statement, it implicitly returns \"None\""
   ]
  },
  {
   "cell_type": "markdown",
   "id": "4a4bce5f",
   "metadata": {},
   "source": [
    "# Q9.How do you make a function variable refer to the global variable?"
   ]
  },
  {
   "cell_type": "markdown",
   "id": "435c8f49",
   "metadata": {},
   "source": [
    "To make a function variable refer to a global variable in Python , you can use the 'global' keyword within the function to declare the variable as a global variable. This allows the function to access and modify value of the global variable "
   ]
  },
  {
   "cell_type": "markdown",
   "id": "cce9a3a7",
   "metadata": {},
   "source": [
    "# Q10.What is the data type of None?"
   ]
  },
  {
   "cell_type": "markdown",
   "id": "86e51b58",
   "metadata": {},
   "source": [
    "The data type of \"None \" in python is 'NoneType'. \n",
    "'None' is a singleton object of type NoneType, representing the absence of a value or a null value. \n",
    " It is often used to indicate that a variable or function returns no value or to initialize variables to a neutral state."
   ]
  },
  {
   "cell_type": "markdown",
   "id": "121dce32",
   "metadata": {},
   "source": [
    "# Q11. What does the sentence import areallyourpetsnamederic do?"
   ]
  },
  {
   "cell_type": "markdown",
   "id": "f027ebb7",
   "metadata": {},
   "source": [
    "the sentense ' import areallyourpetsnamederic ' attempts to import a module named areallyourpetsnamederic in python. if such a module exists  and is acceible it will be imported \n"
   ]
  },
  {
   "cell_type": "markdown",
   "id": "1d59401e",
   "metadata": {},
   "source": [
    "# Q12. If you had a bacon() feature in a spam module, what would you call it after importing spam?"
   ]
  },
  {
   "cell_type": "markdown",
   "id": "cbf22b70",
   "metadata": {},
   "source": [
    "import spam --# this will import spam module \n",
    "\n",
    "\n",
    "spam.bacon()  --# this wil call the function bacon()                             present in spam module "
   ]
  },
  {
   "cell_type": "markdown",
   "id": "ba381cd7",
   "metadata": {},
   "source": [
    "# Q13.What can you do to save a programme from crashing if it encounters an error?"
   ]
  },
  {
   "cell_type": "markdown",
   "id": "05f643a5",
   "metadata": {},
   "source": [
    "In Python , we can implement error handling/exception handling to prevent a program from crashing if it encounters an error \n",
    "by using 'try' and 'except' blocks"
   ]
  },
  {
   "cell_type": "markdown",
   "id": "c3f6abdf",
   "metadata": {},
   "source": [
    "# Q14. What is the purpose of the try clause? What is the purpose of the except clause?"
   ]
  },
  {
   "cell_type": "markdown",
   "id": "7c59413e",
   "metadata": {},
   "source": [
    "The Purpose of 'try' clause in Python is to wrap around the code that may potentially raise an exception. it allows you to test a block of code for errors while continuing to execute the remaining code .\n",
    "\n",
    "The Purpose of 'except' clause is to handle the specific types of exceptions occur that matches the type specified in the 'except' clause, the code within that 'exceopt' block will br executed to handle the exception "
   ]
  },
  {
   "cell_type": "code",
   "execution_count": null,
   "id": "7d9ecc52",
   "metadata": {},
   "outputs": [],
   "source": []
  }
 ],
 "metadata": {
  "kernelspec": {
   "display_name": "Python 3 (ipykernel)",
   "language": "python",
   "name": "python3"
  },
  "language_info": {
   "codemirror_mode": {
    "name": "ipython",
    "version": 3
   },
   "file_extension": ".py",
   "mimetype": "text/x-python",
   "name": "python",
   "nbconvert_exporter": "python",
   "pygments_lexer": "ipython3",
   "version": "3.9.13"
  }
 },
 "nbformat": 4,
 "nbformat_minor": 5
}
